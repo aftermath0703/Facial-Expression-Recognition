{
 "cells": [
  {
   "cell_type": "code",
   "execution_count": 2,
   "outputs": [],
   "source": [
    "import random\n",
    "import torch\n",
    "import numpy as np\n",
    "\n",
    "def setup_seed(seed):\n",
    "     torch.manual_seed(seed)\n",
    "     torch.cuda.manual_seed_all(seed)\n",
    "     np.random.seed(seed)\n",
    "     random.seed(seed)\n",
    "     torch.backends.cudnn.deterministic = True\n",
    "# 设置随机数种子\n",
    "setup_seed(3407)"
   ],
   "metadata": {
    "collapsed": false,
    "pycharm": {
     "name": "#%%\n"
    }
   }
  },
  {
   "cell_type": "markdown",
   "source": [
    "# BAM"
   ],
   "metadata": {
    "collapsed": false
   }
  },
  {
   "cell_type": "code",
   "execution_count": 3,
   "outputs": [],
   "source": [
    "import dill\n",
    "\n",
    "with open('dataloader\\\\train.pkl', 'rb') as f:\n",
    "    trainloader = dill.load(f)\n",
    "with open('dataloader\\\\test.pkl', 'rb') as f:\n",
    "    testloader = dill.load(f)"
   ],
   "metadata": {
    "collapsed": false,
    "pycharm": {
     "name": "#%%\n"
    }
   }
  },
  {
   "cell_type": "code",
   "execution_count": 4,
   "outputs": [],
   "source": [
    "from sklearn.model_selection import StratifiedKFold\n",
    "from torch.autograd import Variable\n",
    "import utils\n",
    "from torch import nn, optim\n",
    "from models import ResNet18, VGG\n",
    "import transforms\n",
    "import torch\n",
    "\n",
    "use_cuda = torch.cuda.is_available()\n",
    "opt = {\n",
    "    \"model\": \"ResNet101\",\n",
    "    \"dataset\": \"all\",\n",
    "    \"fold\": 10,\n",
    "    \"train_bs\": 64,\n",
    "    \"test_bs\": 256,\n",
    "    \"val_bs\": 256,\n",
    "    \"lr\": 0.01,\n",
    "    \"resume\": None,\n",
    "}\n",
    "\n",
    "best_Test_acc = 0  # best PrivateTest accuracy\n",
    "best_Test_acc_epoch = 0\n",
    "start_epoch = 0  # start from epoch 0 or last checkpoint epoch\n",
    "\n",
    "learning_rate_decay_start = 20  # 50\n",
    "learning_rate_decay_every = 1  # 5\n",
    "learning_rate_decay_rate = 0.8  # 0.9\n",
    "\n",
    "cut_size = 44\n",
    "total_epoch = 60"
   ],
   "metadata": {
    "collapsed": false,
    "pycharm": {
     "name": "#%%\n"
    }
   }
  },
  {
   "cell_type": "code",
   "execution_count": 5,
   "outputs": [],
   "source": [
    "import os\n",
    "\n",
    "path = os.path.join(opt[\"dataset\"] + '_' + opt[\"model\"], str(opt[\"fold\"]))\n",
    "\n",
    "# Data\n",
    "transform_train = transforms.Compose([\n",
    "    transforms.RandomCrop(cut_size),\n",
    "    transforms.RandomHorizontalFlip(),\n",
    "    transforms.ToTensor(),\n",
    "])\n",
    "\n",
    "transform_test = transforms.Compose([\n",
    "    transforms.TenCrop(cut_size),\n",
    "    transforms.Lambda(lambda crops: torch.stack([transforms.ToTensor()(crop) for crop in crops])),\n",
    "])"
   ],
   "metadata": {
    "collapsed": false,
    "pycharm": {
     "name": "#%%\n"
    }
   }
  },
  {
   "cell_type": "code",
   "execution_count": 6,
   "outputs": [
    {
     "data": {
      "text/plain": "0"
     },
     "execution_count": 6,
     "metadata": {},
     "output_type": "execute_result"
    }
   ],
   "source": [
    "import gc\n",
    "\n",
    "gc.collect()"
   ],
   "metadata": {
    "collapsed": false,
    "pycharm": {
     "name": "#%%\n"
    }
   }
  },
  {
   "cell_type": "code",
   "execution_count": 7,
   "outputs": [],
   "source": [
    "import os\n",
    "from tqdm import tqdm\n",
    "\n",
    "\n",
    "# Training\n",
    "def train(epoch):\n",
    "    print('\\nEpoch: %d' % epoch)\n",
    "    global Train_acc\n",
    "    net.train()\n",
    "    Train_loss = 0\n",
    "    correct = 0\n",
    "    total = 0\n",
    "\n",
    "    if epoch > learning_rate_decay_start >= 0:\n",
    "        frac = (epoch - learning_rate_decay_start) // learning_rate_decay_every\n",
    "        decay_factor = learning_rate_decay_rate ** frac\n",
    "        current_lr = opt[\"lr\"] * decay_factor\n",
    "        utils.set_lr(optimizer, current_lr)  # set the decayed rate\n",
    "    else:\n",
    "        current_lr = opt[\"lr\"]\n",
    "    print('learning_rate: %s' % str(current_lr))\n",
    "\n",
    "    for inputs, targets in tqdm(trainloader):\n",
    "        # print(batch_idx, (inputs, targets))\n",
    "        if use_cuda:\n",
    "            inputs, targets = inputs.cuda(), targets.cuda()\n",
    "        # print(inputs, targets)\n",
    "        optimizer.zero_grad()\n",
    "        # print(optimizer)\n",
    "        inputs, targets = Variable(inputs), Variable(targets)\n",
    "        # print(inputs, targets)\n",
    "        outputs = net(inputs)\n",
    "        loss = criterion(outputs, targets)\n",
    "        loss.backward()\n",
    "        utils.clip_gradient(optimizer, 0.1)\n",
    "        optimizer.step()\n",
    "\n",
    "        Train_loss += loss.item()\n",
    "        _, predicted = torch.max(outputs.data, 1)\n",
    "        total += targets.size(0)\n",
    "        correct += predicted.eq(targets.data).cpu().sum()\n",
    "\n",
    "        # utils.progress_bar(batch_idx, len(trainloader), 'Loss: %.3f | Acc: %.3f%% (%d/%d)\\n'\n",
    "        #                    % (train_loss / (batch_idx + 1), 100. * correct / total, correct, total))\n",
    "\n",
    "    Train_acc = 100. * correct / total\n",
    "    return Train_loss, Train_acc, current_lr\n",
    "\n"
   ],
   "metadata": {
    "collapsed": false,
    "pycharm": {
     "name": "#%%\n"
    }
   }
  },
  {
   "cell_type": "code",
   "execution_count": 8,
   "outputs": [],
   "source": [
    "import numpy as np\n",
    "\n",
    "\n",
    "def test(epoch, all_predicted, all_targets, model_name):\n",
    "    global Test_acc\n",
    "    global best_Test_acc\n",
    "    global best_Test_acc_epoch\n",
    "\n",
    "    net.eval()\n",
    "    Test_loss = 0\n",
    "    correct = 0\n",
    "    total = 0\n",
    "    for batch_idx, (inputs, targets) in tqdm(enumerate(testloader)):\n",
    "        bs, ncrops, c, h, w = np.shape(inputs)\n",
    "        inputs = inputs.view(-1, c, h, w)\n",
    "\n",
    "        if use_cuda:\n",
    "            inputs, targets = inputs.cuda(), targets.cuda()\n",
    "        with torch.no_grad():\n",
    "            inputs, targets = Variable(inputs), Variable(targets)\n",
    "        outputs = net(inputs)\n",
    "        outputs_avg = outputs.view(bs, ncrops, -1).mean(1)  # avg over crops\n",
    "\n",
    "        loss = criterion(outputs_avg, targets)\n",
    "        Test_loss += loss.item()\n",
    "        _, predicted = torch.max(outputs_avg.data, 1)\n",
    "        total += targets.size(0)\n",
    "        correct += predicted.eq(targets.data).cpu().sum()\n",
    "\n",
    "        # utils.progress_bar(batch_idx, len(testloader), 'Loss: %.3f | Acc: %.3f%% (%d/%d)\\n'\n",
    "        #                    % (total_loss / (batch_idx + 1), 100. * correct / total, correct, total))\n",
    "\n",
    "        if batch_idx == 0:\n",
    "            temp_all_predicted = predicted\n",
    "            temp_all_targets = targets\n",
    "        else:\n",
    "            temp_all_predicted = torch.cat((temp_all_predicted, predicted), 0)\n",
    "            temp_all_targets = torch.cat((temp_all_targets, targets), 0)\n",
    "\n",
    "    # Save checkpoint.\n",
    "    Test_acc = 100. * correct / total\n",
    "\n",
    "    if Test_acc > best_Test_acc:\n",
    "        print('Saving..')\n",
    "        print(\"best_Test_acc: %0.3f\" % Test_acc)\n",
    "        state = {'net': net.state_dict() if use_cuda else net,\n",
    "                 'best_Test_acc': Test_acc,\n",
    "                 'best_Test_acc_epoch': epoch,\n",
    "                 }\n",
    "        if not os.path.isdir(opt[\"dataset\"] + '_' + opt[\"model\"]):\n",
    "            os.mkdir(opt[\"dataset\"] + '_' + opt[\"model\"])\n",
    "        if not os.path.isdir(path):\n",
    "            os.mkdir(path)\n",
    "        torch.save(state, os.path.join(path, model_name))\n",
    "        best_Test_acc = Test_acc\n",
    "        best_Test_acc_epoch = epoch\n",
    "        all_predicted = temp_all_predicted\n",
    "        all_targets = temp_all_targets\n",
    "        # print(\"test\", all_predicted, all_targets)\n",
    "\n",
    "    return all_predicted, all_targets, Test_loss, Test_acc\n",
    "\n",
    "\n",
    "# def validate():\n",
    "#     net.eval()\n",
    "#     val_loss = 0\n",
    "#     val_correct = 0\n",
    "#     val_total = 0\n",
    "#     with torch.no_grad():\n",
    "#         for batch_idx, (inputs, targets) in enumerate(valloader):\n",
    "#             bs, ncrops, c, h, w = np.shape(inputs)\n",
    "#             inputs = inputs.view(-1, c, h, w)\n",
    "#             if use_cuda:\n",
    "#                 inputs, targets = inputs.cuda(), targets.cuda()\n",
    "#\n",
    "#             inputs, targets = Variable(inputs), Variable(targets)\n",
    "#             outputs = net(inputs)\n",
    "#             outputs_avg = outputs.view(bs, ncrops, -1).mean(1)  # avg over crops\n",
    "#             loss = criterion(outputs_avg, targets)\n",
    "#             val_loss += loss.item()\n",
    "#             _, predicted = torch.max(outputs_avg.data, 1)\n",
    "#             val_total += targets.size(0)\n",
    "#             val_correct += predicted.eq(targets.data).cpu().sum()\n",
    "#             # utils.progress_bar(batch_idx, len(valloader), 'Loss: %.3f | Acc: %.3f%% (%d/%d)\\n'\n",
    "#             #                    % (val_loss / (batch_idx + 1), 100. * val_correct / val_total, val_correct, val_total))\n",
    "#     val_acc = 100. * val_correct / val_total\n",
    "#     return val_loss, val_acc"
   ],
   "metadata": {
    "collapsed": false,
    "pycharm": {
     "name": "#%%\n"
    }
   }
  },
  {
   "cell_type": "code",
   "execution_count": 9,
   "outputs": [],
   "source": [
    "from models import BAMAttention\n",
    "\n",
    "net = BAMAttention.resnet101_BAM_attention(7)"
   ],
   "metadata": {
    "collapsed": false,
    "pycharm": {
     "name": "#%%\n"
    }
   }
  },
  {
   "cell_type": "code",
   "execution_count": 10,
   "outputs": [
    {
     "data": {
      "text/plain": "ResNet101(\n  (conv1): Conv2d(3, 64, kernel_size=(7, 7), stride=(2, 2), padding=(3, 3), bias=False)\n  (bn1): BatchNorm2d(64, eps=1e-05, momentum=0.1, affine=True, track_running_stats=True)\n  (maxpool): MaxPool2d(kernel_size=3, stride=2, padding=1, dilation=1, ceil_mode=False)\n  (layer1): Sequential(\n    (0): BAMBlock(\n      (conv1): Conv2d(64, 64, kernel_size=(3, 3), stride=(1, 1), padding=(1, 1), bias=False)\n      (bn1): BatchNorm2d(64, eps=1e-05, momentum=0.1, affine=True, track_running_stats=True)\n      (conv2): Conv2d(64, 64, kernel_size=(3, 3), stride=(1, 1), padding=(1, 1), bias=False)\n      (bn2): BatchNorm2d(64, eps=1e-05, momentum=0.1, affine=True, track_running_stats=True)\n      (bam): BAMAttentionBlock(\n        (avg_pool): AdaptiveAvgPool2d(output_size=1)\n        (fc1): Conv2d(64, 4, kernel_size=(1, 1), stride=(1, 1))\n        (relu): ReLU()\n        (fc2): Conv2d(4, 64, kernel_size=(1, 1), stride=(1, 1))\n        (sigmoid): Sigmoid()\n      )\n      (shortcut): Identity()\n    )\n    (1): BAMBlock(\n      (conv1): Conv2d(64, 64, kernel_size=(3, 3), stride=(1, 1), padding=(1, 1), bias=False)\n      (bn1): BatchNorm2d(64, eps=1e-05, momentum=0.1, affine=True, track_running_stats=True)\n      (conv2): Conv2d(64, 64, kernel_size=(3, 3), stride=(1, 1), padding=(1, 1), bias=False)\n      (bn2): BatchNorm2d(64, eps=1e-05, momentum=0.1, affine=True, track_running_stats=True)\n      (bam): BAMAttentionBlock(\n        (avg_pool): AdaptiveAvgPool2d(output_size=1)\n        (fc1): Conv2d(64, 4, kernel_size=(1, 1), stride=(1, 1))\n        (relu): ReLU()\n        (fc2): Conv2d(4, 64, kernel_size=(1, 1), stride=(1, 1))\n        (sigmoid): Sigmoid()\n      )\n      (shortcut): Identity()\n    )\n    (2): BAMBlock(\n      (conv1): Conv2d(64, 64, kernel_size=(3, 3), stride=(1, 1), padding=(1, 1), bias=False)\n      (bn1): BatchNorm2d(64, eps=1e-05, momentum=0.1, affine=True, track_running_stats=True)\n      (conv2): Conv2d(64, 64, kernel_size=(3, 3), stride=(1, 1), padding=(1, 1), bias=False)\n      (bn2): BatchNorm2d(64, eps=1e-05, momentum=0.1, affine=True, track_running_stats=True)\n      (bam): BAMAttentionBlock(\n        (avg_pool): AdaptiveAvgPool2d(output_size=1)\n        (fc1): Conv2d(64, 4, kernel_size=(1, 1), stride=(1, 1))\n        (relu): ReLU()\n        (fc2): Conv2d(4, 64, kernel_size=(1, 1), stride=(1, 1))\n        (sigmoid): Sigmoid()\n      )\n      (shortcut): Identity()\n    )\n  )\n  (layer2): Sequential(\n    (0): BAMBlock(\n      (conv1): Conv2d(64, 128, kernel_size=(3, 3), stride=(2, 2), padding=(1, 1), bias=False)\n      (bn1): BatchNorm2d(128, eps=1e-05, momentum=0.1, affine=True, track_running_stats=True)\n      (conv2): Conv2d(128, 128, kernel_size=(3, 3), stride=(1, 1), padding=(1, 1), bias=False)\n      (bn2): BatchNorm2d(128, eps=1e-05, momentum=0.1, affine=True, track_running_stats=True)\n      (bam): BAMAttentionBlock(\n        (avg_pool): AdaptiveAvgPool2d(output_size=1)\n        (fc1): Conv2d(128, 8, kernel_size=(1, 1), stride=(1, 1))\n        (relu): ReLU()\n        (fc2): Conv2d(8, 128, kernel_size=(1, 1), stride=(1, 1))\n        (sigmoid): Sigmoid()\n      )\n      (shortcut): Sequential(\n        (0): Conv2d(64, 128, kernel_size=(1, 1), stride=(2, 2), bias=False)\n        (1): BatchNorm2d(128, eps=1e-05, momentum=0.1, affine=True, track_running_stats=True)\n      )\n    )\n    (1): BAMBlock(\n      (conv1): Conv2d(128, 128, kernel_size=(3, 3), stride=(1, 1), padding=(1, 1), bias=False)\n      (bn1): BatchNorm2d(128, eps=1e-05, momentum=0.1, affine=True, track_running_stats=True)\n      (conv2): Conv2d(128, 128, kernel_size=(3, 3), stride=(1, 1), padding=(1, 1), bias=False)\n      (bn2): BatchNorm2d(128, eps=1e-05, momentum=0.1, affine=True, track_running_stats=True)\n      (bam): BAMAttentionBlock(\n        (avg_pool): AdaptiveAvgPool2d(output_size=1)\n        (fc1): Conv2d(128, 8, kernel_size=(1, 1), stride=(1, 1))\n        (relu): ReLU()\n        (fc2): Conv2d(8, 128, kernel_size=(1, 1), stride=(1, 1))\n        (sigmoid): Sigmoid()\n      )\n      (shortcut): Identity()\n    )\n    (2): BAMBlock(\n      (conv1): Conv2d(128, 128, kernel_size=(3, 3), stride=(1, 1), padding=(1, 1), bias=False)\n      (bn1): BatchNorm2d(128, eps=1e-05, momentum=0.1, affine=True, track_running_stats=True)\n      (conv2): Conv2d(128, 128, kernel_size=(3, 3), stride=(1, 1), padding=(1, 1), bias=False)\n      (bn2): BatchNorm2d(128, eps=1e-05, momentum=0.1, affine=True, track_running_stats=True)\n      (bam): BAMAttentionBlock(\n        (avg_pool): AdaptiveAvgPool2d(output_size=1)\n        (fc1): Conv2d(128, 8, kernel_size=(1, 1), stride=(1, 1))\n        (relu): ReLU()\n        (fc2): Conv2d(8, 128, kernel_size=(1, 1), stride=(1, 1))\n        (sigmoid): Sigmoid()\n      )\n      (shortcut): Identity()\n    )\n    (3): BAMBlock(\n      (conv1): Conv2d(128, 128, kernel_size=(3, 3), stride=(1, 1), padding=(1, 1), bias=False)\n      (bn1): BatchNorm2d(128, eps=1e-05, momentum=0.1, affine=True, track_running_stats=True)\n      (conv2): Conv2d(128, 128, kernel_size=(3, 3), stride=(1, 1), padding=(1, 1), bias=False)\n      (bn2): BatchNorm2d(128, eps=1e-05, momentum=0.1, affine=True, track_running_stats=True)\n      (bam): BAMAttentionBlock(\n        (avg_pool): AdaptiveAvgPool2d(output_size=1)\n        (fc1): Conv2d(128, 8, kernel_size=(1, 1), stride=(1, 1))\n        (relu): ReLU()\n        (fc2): Conv2d(8, 128, kernel_size=(1, 1), stride=(1, 1))\n        (sigmoid): Sigmoid()\n      )\n      (shortcut): Identity()\n    )\n  )\n  (layer3): Sequential(\n    (0): BAMBlock(\n      (conv1): Conv2d(128, 256, kernel_size=(3, 3), stride=(2, 2), padding=(1, 1), bias=False)\n      (bn1): BatchNorm2d(256, eps=1e-05, momentum=0.1, affine=True, track_running_stats=True)\n      (conv2): Conv2d(256, 256, kernel_size=(3, 3), stride=(1, 1), padding=(1, 1), bias=False)\n      (bn2): BatchNorm2d(256, eps=1e-05, momentum=0.1, affine=True, track_running_stats=True)\n      (bam): BAMAttentionBlock(\n        (avg_pool): AdaptiveAvgPool2d(output_size=1)\n        (fc1): Conv2d(256, 16, kernel_size=(1, 1), stride=(1, 1))\n        (relu): ReLU()\n        (fc2): Conv2d(16, 256, kernel_size=(1, 1), stride=(1, 1))\n        (sigmoid): Sigmoid()\n      )\n      (shortcut): Sequential(\n        (0): Conv2d(128, 256, kernel_size=(1, 1), stride=(2, 2), bias=False)\n        (1): BatchNorm2d(256, eps=1e-05, momentum=0.1, affine=True, track_running_stats=True)\n      )\n    )\n    (1): BAMBlock(\n      (conv1): Conv2d(256, 256, kernel_size=(3, 3), stride=(1, 1), padding=(1, 1), bias=False)\n      (bn1): BatchNorm2d(256, eps=1e-05, momentum=0.1, affine=True, track_running_stats=True)\n      (conv2): Conv2d(256, 256, kernel_size=(3, 3), stride=(1, 1), padding=(1, 1), bias=False)\n      (bn2): BatchNorm2d(256, eps=1e-05, momentum=0.1, affine=True, track_running_stats=True)\n      (bam): BAMAttentionBlock(\n        (avg_pool): AdaptiveAvgPool2d(output_size=1)\n        (fc1): Conv2d(256, 16, kernel_size=(1, 1), stride=(1, 1))\n        (relu): ReLU()\n        (fc2): Conv2d(16, 256, kernel_size=(1, 1), stride=(1, 1))\n        (sigmoid): Sigmoid()\n      )\n      (shortcut): Identity()\n    )\n    (2): BAMBlock(\n      (conv1): Conv2d(256, 256, kernel_size=(3, 3), stride=(1, 1), padding=(1, 1), bias=False)\n      (bn1): BatchNorm2d(256, eps=1e-05, momentum=0.1, affine=True, track_running_stats=True)\n      (conv2): Conv2d(256, 256, kernel_size=(3, 3), stride=(1, 1), padding=(1, 1), bias=False)\n      (bn2): BatchNorm2d(256, eps=1e-05, momentum=0.1, affine=True, track_running_stats=True)\n      (bam): BAMAttentionBlock(\n        (avg_pool): AdaptiveAvgPool2d(output_size=1)\n        (fc1): Conv2d(256, 16, kernel_size=(1, 1), stride=(1, 1))\n        (relu): ReLU()\n        (fc2): Conv2d(16, 256, kernel_size=(1, 1), stride=(1, 1))\n        (sigmoid): Sigmoid()\n      )\n      (shortcut): Identity()\n    )\n    (3): BAMBlock(\n      (conv1): Conv2d(256, 256, kernel_size=(3, 3), stride=(1, 1), padding=(1, 1), bias=False)\n      (bn1): BatchNorm2d(256, eps=1e-05, momentum=0.1, affine=True, track_running_stats=True)\n      (conv2): Conv2d(256, 256, kernel_size=(3, 3), stride=(1, 1), padding=(1, 1), bias=False)\n      (bn2): BatchNorm2d(256, eps=1e-05, momentum=0.1, affine=True, track_running_stats=True)\n      (bam): BAMAttentionBlock(\n        (avg_pool): AdaptiveAvgPool2d(output_size=1)\n        (fc1): Conv2d(256, 16, kernel_size=(1, 1), stride=(1, 1))\n        (relu): ReLU()\n        (fc2): Conv2d(16, 256, kernel_size=(1, 1), stride=(1, 1))\n        (sigmoid): Sigmoid()\n      )\n      (shortcut): Identity()\n    )\n    (4): BAMBlock(\n      (conv1): Conv2d(256, 256, kernel_size=(3, 3), stride=(1, 1), padding=(1, 1), bias=False)\n      (bn1): BatchNorm2d(256, eps=1e-05, momentum=0.1, affine=True, track_running_stats=True)\n      (conv2): Conv2d(256, 256, kernel_size=(3, 3), stride=(1, 1), padding=(1, 1), bias=False)\n      (bn2): BatchNorm2d(256, eps=1e-05, momentum=0.1, affine=True, track_running_stats=True)\n      (bam): BAMAttentionBlock(\n        (avg_pool): AdaptiveAvgPool2d(output_size=1)\n        (fc1): Conv2d(256, 16, kernel_size=(1, 1), stride=(1, 1))\n        (relu): ReLU()\n        (fc2): Conv2d(16, 256, kernel_size=(1, 1), stride=(1, 1))\n        (sigmoid): Sigmoid()\n      )\n      (shortcut): Identity()\n    )\n    (5): BAMBlock(\n      (conv1): Conv2d(256, 256, kernel_size=(3, 3), stride=(1, 1), padding=(1, 1), bias=False)\n      (bn1): BatchNorm2d(256, eps=1e-05, momentum=0.1, affine=True, track_running_stats=True)\n      (conv2): Conv2d(256, 256, kernel_size=(3, 3), stride=(1, 1), padding=(1, 1), bias=False)\n      (bn2): BatchNorm2d(256, eps=1e-05, momentum=0.1, affine=True, track_running_stats=True)\n      (bam): BAMAttentionBlock(\n        (avg_pool): AdaptiveAvgPool2d(output_size=1)\n        (fc1): Conv2d(256, 16, kernel_size=(1, 1), stride=(1, 1))\n        (relu): ReLU()\n        (fc2): Conv2d(16, 256, kernel_size=(1, 1), stride=(1, 1))\n        (sigmoid): Sigmoid()\n      )\n      (shortcut): Identity()\n    )\n    (6): BAMBlock(\n      (conv1): Conv2d(256, 256, kernel_size=(3, 3), stride=(1, 1), padding=(1, 1), bias=False)\n      (bn1): BatchNorm2d(256, eps=1e-05, momentum=0.1, affine=True, track_running_stats=True)\n      (conv2): Conv2d(256, 256, kernel_size=(3, 3), stride=(1, 1), padding=(1, 1), bias=False)\n      (bn2): BatchNorm2d(256, eps=1e-05, momentum=0.1, affine=True, track_running_stats=True)\n      (bam): BAMAttentionBlock(\n        (avg_pool): AdaptiveAvgPool2d(output_size=1)\n        (fc1): Conv2d(256, 16, kernel_size=(1, 1), stride=(1, 1))\n        (relu): ReLU()\n        (fc2): Conv2d(16, 256, kernel_size=(1, 1), stride=(1, 1))\n        (sigmoid): Sigmoid()\n      )\n      (shortcut): Identity()\n    )\n    (7): BAMBlock(\n      (conv1): Conv2d(256, 256, kernel_size=(3, 3), stride=(1, 1), padding=(1, 1), bias=False)\n      (bn1): BatchNorm2d(256, eps=1e-05, momentum=0.1, affine=True, track_running_stats=True)\n      (conv2): Conv2d(256, 256, kernel_size=(3, 3), stride=(1, 1), padding=(1, 1), bias=False)\n      (bn2): BatchNorm2d(256, eps=1e-05, momentum=0.1, affine=True, track_running_stats=True)\n      (bam): BAMAttentionBlock(\n        (avg_pool): AdaptiveAvgPool2d(output_size=1)\n        (fc1): Conv2d(256, 16, kernel_size=(1, 1), stride=(1, 1))\n        (relu): ReLU()\n        (fc2): Conv2d(16, 256, kernel_size=(1, 1), stride=(1, 1))\n        (sigmoid): Sigmoid()\n      )\n      (shortcut): Identity()\n    )\n    (8): BAMBlock(\n      (conv1): Conv2d(256, 256, kernel_size=(3, 3), stride=(1, 1), padding=(1, 1), bias=False)\n      (bn1): BatchNorm2d(256, eps=1e-05, momentum=0.1, affine=True, track_running_stats=True)\n      (conv2): Conv2d(256, 256, kernel_size=(3, 3), stride=(1, 1), padding=(1, 1), bias=False)\n      (bn2): BatchNorm2d(256, eps=1e-05, momentum=0.1, affine=True, track_running_stats=True)\n      (bam): BAMAttentionBlock(\n        (avg_pool): AdaptiveAvgPool2d(output_size=1)\n        (fc1): Conv2d(256, 16, kernel_size=(1, 1), stride=(1, 1))\n        (relu): ReLU()\n        (fc2): Conv2d(16, 256, kernel_size=(1, 1), stride=(1, 1))\n        (sigmoid): Sigmoid()\n      )\n      (shortcut): Identity()\n    )\n    (9): BAMBlock(\n      (conv1): Conv2d(256, 256, kernel_size=(3, 3), stride=(1, 1), padding=(1, 1), bias=False)\n      (bn1): BatchNorm2d(256, eps=1e-05, momentum=0.1, affine=True, track_running_stats=True)\n      (conv2): Conv2d(256, 256, kernel_size=(3, 3), stride=(1, 1), padding=(1, 1), bias=False)\n      (bn2): BatchNorm2d(256, eps=1e-05, momentum=0.1, affine=True, track_running_stats=True)\n      (bam): BAMAttentionBlock(\n        (avg_pool): AdaptiveAvgPool2d(output_size=1)\n        (fc1): Conv2d(256, 16, kernel_size=(1, 1), stride=(1, 1))\n        (relu): ReLU()\n        (fc2): Conv2d(16, 256, kernel_size=(1, 1), stride=(1, 1))\n        (sigmoid): Sigmoid()\n      )\n      (shortcut): Identity()\n    )\n    (10): BAMBlock(\n      (conv1): Conv2d(256, 256, kernel_size=(3, 3), stride=(1, 1), padding=(1, 1), bias=False)\n      (bn1): BatchNorm2d(256, eps=1e-05, momentum=0.1, affine=True, track_running_stats=True)\n      (conv2): Conv2d(256, 256, kernel_size=(3, 3), stride=(1, 1), padding=(1, 1), bias=False)\n      (bn2): BatchNorm2d(256, eps=1e-05, momentum=0.1, affine=True, track_running_stats=True)\n      (bam): BAMAttentionBlock(\n        (avg_pool): AdaptiveAvgPool2d(output_size=1)\n        (fc1): Conv2d(256, 16, kernel_size=(1, 1), stride=(1, 1))\n        (relu): ReLU()\n        (fc2): Conv2d(16, 256, kernel_size=(1, 1), stride=(1, 1))\n        (sigmoid): Sigmoid()\n      )\n      (shortcut): Identity()\n    )\n    (11): BAMBlock(\n      (conv1): Conv2d(256, 256, kernel_size=(3, 3), stride=(1, 1), padding=(1, 1), bias=False)\n      (bn1): BatchNorm2d(256, eps=1e-05, momentum=0.1, affine=True, track_running_stats=True)\n      (conv2): Conv2d(256, 256, kernel_size=(3, 3), stride=(1, 1), padding=(1, 1), bias=False)\n      (bn2): BatchNorm2d(256, eps=1e-05, momentum=0.1, affine=True, track_running_stats=True)\n      (bam): BAMAttentionBlock(\n        (avg_pool): AdaptiveAvgPool2d(output_size=1)\n        (fc1): Conv2d(256, 16, kernel_size=(1, 1), stride=(1, 1))\n        (relu): ReLU()\n        (fc2): Conv2d(16, 256, kernel_size=(1, 1), stride=(1, 1))\n        (sigmoid): Sigmoid()\n      )\n      (shortcut): Identity()\n    )\n    (12): BAMBlock(\n      (conv1): Conv2d(256, 256, kernel_size=(3, 3), stride=(1, 1), padding=(1, 1), bias=False)\n      (bn1): BatchNorm2d(256, eps=1e-05, momentum=0.1, affine=True, track_running_stats=True)\n      (conv2): Conv2d(256, 256, kernel_size=(3, 3), stride=(1, 1), padding=(1, 1), bias=False)\n      (bn2): BatchNorm2d(256, eps=1e-05, momentum=0.1, affine=True, track_running_stats=True)\n      (bam): BAMAttentionBlock(\n        (avg_pool): AdaptiveAvgPool2d(output_size=1)\n        (fc1): Conv2d(256, 16, kernel_size=(1, 1), stride=(1, 1))\n        (relu): ReLU()\n        (fc2): Conv2d(16, 256, kernel_size=(1, 1), stride=(1, 1))\n        (sigmoid): Sigmoid()\n      )\n      (shortcut): Identity()\n    )\n    (13): BAMBlock(\n      (conv1): Conv2d(256, 256, kernel_size=(3, 3), stride=(1, 1), padding=(1, 1), bias=False)\n      (bn1): BatchNorm2d(256, eps=1e-05, momentum=0.1, affine=True, track_running_stats=True)\n      (conv2): Conv2d(256, 256, kernel_size=(3, 3), stride=(1, 1), padding=(1, 1), bias=False)\n      (bn2): BatchNorm2d(256, eps=1e-05, momentum=0.1, affine=True, track_running_stats=True)\n      (bam): BAMAttentionBlock(\n        (avg_pool): AdaptiveAvgPool2d(output_size=1)\n        (fc1): Conv2d(256, 16, kernel_size=(1, 1), stride=(1, 1))\n        (relu): ReLU()\n        (fc2): Conv2d(16, 256, kernel_size=(1, 1), stride=(1, 1))\n        (sigmoid): Sigmoid()\n      )\n      (shortcut): Identity()\n    )\n    (14): BAMBlock(\n      (conv1): Conv2d(256, 256, kernel_size=(3, 3), stride=(1, 1), padding=(1, 1), bias=False)\n      (bn1): BatchNorm2d(256, eps=1e-05, momentum=0.1, affine=True, track_running_stats=True)\n      (conv2): Conv2d(256, 256, kernel_size=(3, 3), stride=(1, 1), padding=(1, 1), bias=False)\n      (bn2): BatchNorm2d(256, eps=1e-05, momentum=0.1, affine=True, track_running_stats=True)\n      (bam): BAMAttentionBlock(\n        (avg_pool): AdaptiveAvgPool2d(output_size=1)\n        (fc1): Conv2d(256, 16, kernel_size=(1, 1), stride=(1, 1))\n        (relu): ReLU()\n        (fc2): Conv2d(16, 256, kernel_size=(1, 1), stride=(1, 1))\n        (sigmoid): Sigmoid()\n      )\n      (shortcut): Identity()\n    )\n    (15): BAMBlock(\n      (conv1): Conv2d(256, 256, kernel_size=(3, 3), stride=(1, 1), padding=(1, 1), bias=False)\n      (bn1): BatchNorm2d(256, eps=1e-05, momentum=0.1, affine=True, track_running_stats=True)\n      (conv2): Conv2d(256, 256, kernel_size=(3, 3), stride=(1, 1), padding=(1, 1), bias=False)\n      (bn2): BatchNorm2d(256, eps=1e-05, momentum=0.1, affine=True, track_running_stats=True)\n      (bam): BAMAttentionBlock(\n        (avg_pool): AdaptiveAvgPool2d(output_size=1)\n        (fc1): Conv2d(256, 16, kernel_size=(1, 1), stride=(1, 1))\n        (relu): ReLU()\n        (fc2): Conv2d(16, 256, kernel_size=(1, 1), stride=(1, 1))\n        (sigmoid): Sigmoid()\n      )\n      (shortcut): Identity()\n    )\n    (16): BAMBlock(\n      (conv1): Conv2d(256, 256, kernel_size=(3, 3), stride=(1, 1), padding=(1, 1), bias=False)\n      (bn1): BatchNorm2d(256, eps=1e-05, momentum=0.1, affine=True, track_running_stats=True)\n      (conv2): Conv2d(256, 256, kernel_size=(3, 3), stride=(1, 1), padding=(1, 1), bias=False)\n      (bn2): BatchNorm2d(256, eps=1e-05, momentum=0.1, affine=True, track_running_stats=True)\n      (bam): BAMAttentionBlock(\n        (avg_pool): AdaptiveAvgPool2d(output_size=1)\n        (fc1): Conv2d(256, 16, kernel_size=(1, 1), stride=(1, 1))\n        (relu): ReLU()\n        (fc2): Conv2d(16, 256, kernel_size=(1, 1), stride=(1, 1))\n        (sigmoid): Sigmoid()\n      )\n      (shortcut): Identity()\n    )\n    (17): BAMBlock(\n      (conv1): Conv2d(256, 256, kernel_size=(3, 3), stride=(1, 1), padding=(1, 1), bias=False)\n      (bn1): BatchNorm2d(256, eps=1e-05, momentum=0.1, affine=True, track_running_stats=True)\n      (conv2): Conv2d(256, 256, kernel_size=(3, 3), stride=(1, 1), padding=(1, 1), bias=False)\n      (bn2): BatchNorm2d(256, eps=1e-05, momentum=0.1, affine=True, track_running_stats=True)\n      (bam): BAMAttentionBlock(\n        (avg_pool): AdaptiveAvgPool2d(output_size=1)\n        (fc1): Conv2d(256, 16, kernel_size=(1, 1), stride=(1, 1))\n        (relu): ReLU()\n        (fc2): Conv2d(16, 256, kernel_size=(1, 1), stride=(1, 1))\n        (sigmoid): Sigmoid()\n      )\n      (shortcut): Identity()\n    )\n    (18): BAMBlock(\n      (conv1): Conv2d(256, 256, kernel_size=(3, 3), stride=(1, 1), padding=(1, 1), bias=False)\n      (bn1): BatchNorm2d(256, eps=1e-05, momentum=0.1, affine=True, track_running_stats=True)\n      (conv2): Conv2d(256, 256, kernel_size=(3, 3), stride=(1, 1), padding=(1, 1), bias=False)\n      (bn2): BatchNorm2d(256, eps=1e-05, momentum=0.1, affine=True, track_running_stats=True)\n      (bam): BAMAttentionBlock(\n        (avg_pool): AdaptiveAvgPool2d(output_size=1)\n        (fc1): Conv2d(256, 16, kernel_size=(1, 1), stride=(1, 1))\n        (relu): ReLU()\n        (fc2): Conv2d(16, 256, kernel_size=(1, 1), stride=(1, 1))\n        (sigmoid): Sigmoid()\n      )\n      (shortcut): Identity()\n    )\n    (19): BAMBlock(\n      (conv1): Conv2d(256, 256, kernel_size=(3, 3), stride=(1, 1), padding=(1, 1), bias=False)\n      (bn1): BatchNorm2d(256, eps=1e-05, momentum=0.1, affine=True, track_running_stats=True)\n      (conv2): Conv2d(256, 256, kernel_size=(3, 3), stride=(1, 1), padding=(1, 1), bias=False)\n      (bn2): BatchNorm2d(256, eps=1e-05, momentum=0.1, affine=True, track_running_stats=True)\n      (bam): BAMAttentionBlock(\n        (avg_pool): AdaptiveAvgPool2d(output_size=1)\n        (fc1): Conv2d(256, 16, kernel_size=(1, 1), stride=(1, 1))\n        (relu): ReLU()\n        (fc2): Conv2d(16, 256, kernel_size=(1, 1), stride=(1, 1))\n        (sigmoid): Sigmoid()\n      )\n      (shortcut): Identity()\n    )\n    (20): BAMBlock(\n      (conv1): Conv2d(256, 256, kernel_size=(3, 3), stride=(1, 1), padding=(1, 1), bias=False)\n      (bn1): BatchNorm2d(256, eps=1e-05, momentum=0.1, affine=True, track_running_stats=True)\n      (conv2): Conv2d(256, 256, kernel_size=(3, 3), stride=(1, 1), padding=(1, 1), bias=False)\n      (bn2): BatchNorm2d(256, eps=1e-05, momentum=0.1, affine=True, track_running_stats=True)\n      (bam): BAMAttentionBlock(\n        (avg_pool): AdaptiveAvgPool2d(output_size=1)\n        (fc1): Conv2d(256, 16, kernel_size=(1, 1), stride=(1, 1))\n        (relu): ReLU()\n        (fc2): Conv2d(16, 256, kernel_size=(1, 1), stride=(1, 1))\n        (sigmoid): Sigmoid()\n      )\n      (shortcut): Identity()\n    )\n    (21): BAMBlock(\n      (conv1): Conv2d(256, 256, kernel_size=(3, 3), stride=(1, 1), padding=(1, 1), bias=False)\n      (bn1): BatchNorm2d(256, eps=1e-05, momentum=0.1, affine=True, track_running_stats=True)\n      (conv2): Conv2d(256, 256, kernel_size=(3, 3), stride=(1, 1), padding=(1, 1), bias=False)\n      (bn2): BatchNorm2d(256, eps=1e-05, momentum=0.1, affine=True, track_running_stats=True)\n      (bam): BAMAttentionBlock(\n        (avg_pool): AdaptiveAvgPool2d(output_size=1)\n        (fc1): Conv2d(256, 16, kernel_size=(1, 1), stride=(1, 1))\n        (relu): ReLU()\n        (fc2): Conv2d(16, 256, kernel_size=(1, 1), stride=(1, 1))\n        (sigmoid): Sigmoid()\n      )\n      (shortcut): Identity()\n    )\n    (22): BAMBlock(\n      (conv1): Conv2d(256, 256, kernel_size=(3, 3), stride=(1, 1), padding=(1, 1), bias=False)\n      (bn1): BatchNorm2d(256, eps=1e-05, momentum=0.1, affine=True, track_running_stats=True)\n      (conv2): Conv2d(256, 256, kernel_size=(3, 3), stride=(1, 1), padding=(1, 1), bias=False)\n      (bn2): BatchNorm2d(256, eps=1e-05, momentum=0.1, affine=True, track_running_stats=True)\n      (bam): BAMAttentionBlock(\n        (avg_pool): AdaptiveAvgPool2d(output_size=1)\n        (fc1): Conv2d(256, 16, kernel_size=(1, 1), stride=(1, 1))\n        (relu): ReLU()\n        (fc2): Conv2d(16, 256, kernel_size=(1, 1), stride=(1, 1))\n        (sigmoid): Sigmoid()\n      )\n      (shortcut): Identity()\n    )\n  )\n  (layer4): Sequential(\n    (0): BAMBlock(\n      (conv1): Conv2d(256, 512, kernel_size=(3, 3), stride=(2, 2), padding=(1, 1), bias=False)\n      (bn1): BatchNorm2d(512, eps=1e-05, momentum=0.1, affine=True, track_running_stats=True)\n      (conv2): Conv2d(512, 512, kernel_size=(3, 3), stride=(1, 1), padding=(1, 1), bias=False)\n      (bn2): BatchNorm2d(512, eps=1e-05, momentum=0.1, affine=True, track_running_stats=True)\n      (bam): BAMAttentionBlock(\n        (avg_pool): AdaptiveAvgPool2d(output_size=1)\n        (fc1): Conv2d(512, 32, kernel_size=(1, 1), stride=(1, 1))\n        (relu): ReLU()\n        (fc2): Conv2d(32, 512, kernel_size=(1, 1), stride=(1, 1))\n        (sigmoid): Sigmoid()\n      )\n      (shortcut): Sequential(\n        (0): Conv2d(256, 512, kernel_size=(1, 1), stride=(2, 2), bias=False)\n        (1): BatchNorm2d(512, eps=1e-05, momentum=0.1, affine=True, track_running_stats=True)\n      )\n    )\n    (1): BAMBlock(\n      (conv1): Conv2d(512, 512, kernel_size=(3, 3), stride=(1, 1), padding=(1, 1), bias=False)\n      (bn1): BatchNorm2d(512, eps=1e-05, momentum=0.1, affine=True, track_running_stats=True)\n      (conv2): Conv2d(512, 512, kernel_size=(3, 3), stride=(1, 1), padding=(1, 1), bias=False)\n      (bn2): BatchNorm2d(512, eps=1e-05, momentum=0.1, affine=True, track_running_stats=True)\n      (bam): BAMAttentionBlock(\n        (avg_pool): AdaptiveAvgPool2d(output_size=1)\n        (fc1): Conv2d(512, 32, kernel_size=(1, 1), stride=(1, 1))\n        (relu): ReLU()\n        (fc2): Conv2d(32, 512, kernel_size=(1, 1), stride=(1, 1))\n        (sigmoid): Sigmoid()\n      )\n      (shortcut): Identity()\n    )\n    (2): BAMBlock(\n      (conv1): Conv2d(512, 512, kernel_size=(3, 3), stride=(1, 1), padding=(1, 1), bias=False)\n      (bn1): BatchNorm2d(512, eps=1e-05, momentum=0.1, affine=True, track_running_stats=True)\n      (conv2): Conv2d(512, 512, kernel_size=(3, 3), stride=(1, 1), padding=(1, 1), bias=False)\n      (bn2): BatchNorm2d(512, eps=1e-05, momentum=0.1, affine=True, track_running_stats=True)\n      (bam): BAMAttentionBlock(\n        (avg_pool): AdaptiveAvgPool2d(output_size=1)\n        (fc1): Conv2d(512, 32, kernel_size=(1, 1), stride=(1, 1))\n        (relu): ReLU()\n        (fc2): Conv2d(32, 512, kernel_size=(1, 1), stride=(1, 1))\n        (sigmoid): Sigmoid()\n      )\n      (shortcut): Identity()\n    )\n  )\n  (avgpool): AdaptiveAvgPool2d(output_size=(1, 1))\n  (fc): Linear(in_features=512, out_features=7, bias=True)\n)"
     },
     "execution_count": 10,
     "metadata": {},
     "output_type": "execute_result"
    }
   ],
   "source": [
    "net"
   ],
   "metadata": {
    "collapsed": false,
    "pycharm": {
     "name": "#%%\n"
    }
   }
  },
  {
   "cell_type": "code",
   "execution_count": 11,
   "outputs": [
    {
     "name": "stdout",
     "output_type": "stream",
     "text": [
      "==> Building model..\n"
     ]
    }
   ],
   "source": [
    "if opt[\"resume\"]:\n",
    "    # Load checkpoint.\n",
    "    print('==> Resuming from checkpoint..')\n",
    "    assert os.path.isdir(path), 'Error: no checkpoint directory found!'\n",
    "    checkpoint = torch.load(os.path.join(path, 'Test_model.t7'))\n",
    "\n",
    "    net.load_state_dict(checkpoint['net'])\n",
    "    best_Test_acc = checkpoint['best_Test_acc']\n",
    "    best_Test_acc_epoch = checkpoint['best_Test_acc_epoch']\n",
    "    start_epoch = best_Test_acc_epoch + 1\n",
    "else:\n",
    "    print('==> Building model..')\n",
    "\n",
    "if use_cuda:\n",
    "    net.cuda()\n",
    "\n",
    "criterion = nn.CrossEntropyLoss()\n",
    "optimizer = optim.SGD(net.parameters(), lr=opt[\"lr\"], momentum=0.9, weight_decay=5e-4)\n"
   ],
   "metadata": {
    "collapsed": false,
    "pycharm": {
     "name": "#%%\n"
    }
   }
  },
  {
   "cell_type": "code",
   "execution_count": 12,
   "outputs": [
    {
     "name": "stderr",
     "output_type": "stream",
     "text": [
      "wandb: Appending key for api.wandb.ai to your netrc file: C:\\Users\\dragon/.netrc\n"
     ]
    }
   ],
   "source": [
    "!wandb login \"6843d78f9c143bc4eaa7f0f888f9cd6db7f063d2\" --relogin"
   ],
   "metadata": {
    "collapsed": false,
    "pycharm": {
     "name": "#%%\n"
    }
   }
  },
  {
   "cell_type": "code",
   "execution_count": 13,
   "outputs": [
    {
     "name": "stderr",
     "output_type": "stream",
     "text": [
      "\u001B[34m\u001B[1mwandb\u001B[0m: Currently logged in as: \u001B[33maftermath0703\u001B[0m (\u001B[33mface-expression-recognize\u001B[0m). Use \u001B[1m`wandb login --relogin`\u001B[0m to force relogin\n"
     ]
    },
    {
     "data": {
      "text/plain": "<IPython.core.display.HTML object>",
      "text/html": "Tracking run with wandb version 0.15.8"
     },
     "metadata": {},
     "output_type": "display_data"
    },
    {
     "data": {
      "text/plain": "<IPython.core.display.HTML object>",
      "text/html": "Run data is saved locally in <code>E:\\projects\\Facial-Expression-Recognition\\wandb\\run-20230817_094043-3ygxzofp</code>"
     },
     "metadata": {},
     "output_type": "display_data"
    },
    {
     "data": {
      "text/plain": "<IPython.core.display.HTML object>",
      "text/html": "Syncing run <strong><a href='https://wandb.ai/face-expression-recognize/Face%20Expression%20Recognition/runs/3ygxzofp' target=\"_blank\">peachy-haze-3</a></strong> to <a href='https://wandb.ai/face-expression-recognize/Face%20Expression%20Recognition' target=\"_blank\">Weights & Biases</a> (<a href='https://wandb.me/run' target=\"_blank\">docs</a>)<br/>"
     },
     "metadata": {},
     "output_type": "display_data"
    },
    {
     "data": {
      "text/plain": "<IPython.core.display.HTML object>",
      "text/html": " View project at <a href='https://wandb.ai/face-expression-recognize/Face%20Expression%20Recognition' target=\"_blank\">https://wandb.ai/face-expression-recognize/Face%20Expression%20Recognition</a>"
     },
     "metadata": {},
     "output_type": "display_data"
    },
    {
     "data": {
      "text/plain": "<IPython.core.display.HTML object>",
      "text/html": " View run at <a href='https://wandb.ai/face-expression-recognize/Face%20Expression%20Recognition/runs/3ygxzofp' target=\"_blank\">https://wandb.ai/face-expression-recognize/Face%20Expression%20Recognition/runs/3ygxzofp</a>"
     },
     "metadata": {},
     "output_type": "display_data"
    },
    {
     "name": "stdout",
     "output_type": "stream",
     "text": [
      "\n",
      "Epoch: 0\n",
      "learning_rate: 0.01\n"
     ]
    },
    {
     "name": "stderr",
     "output_type": "stream",
     "text": [
      "  0%|          | 0/415 [00:00<?, ?it/s]E:\\projects\\Facial-Expression-Recognition\\transforms\\functional.py:63: UserWarning: TypedStorage is deprecated. It will be removed in the future and UntypedStorage will be the only storage class. This should only matter to you if you are using storages directly.  To access UntypedStorage directly, use tensor.untyped_storage() instead of tensor.storage()\n",
      "  img = torch.ByteTensor(torch.ByteStorage.from_buffer(pic.tobytes()))\n",
      "100%|██████████| 415/415 [00:19<00:00, 21.72it/s]\n",
      "15it [00:03,  4.22it/s]\n"
     ]
    },
    {
     "name": "stdout",
     "output_type": "stream",
     "text": [
      "Saving..\n",
      "best_Test_acc: 43.567\n",
      "\n",
      "Epoch: 1\n",
      "learning_rate: 0.01\n"
     ]
    },
    {
     "name": "stderr",
     "output_type": "stream",
     "text": [
      "100%|██████████| 415/415 [00:15<00:00, 26.73it/s]\n",
      "15it [00:03,  4.54it/s]\n"
     ]
    },
    {
     "name": "stdout",
     "output_type": "stream",
     "text": [
      "Saving..\n",
      "best_Test_acc: 47.638\n",
      "\n",
      "Epoch: 2\n",
      "learning_rate: 0.01\n"
     ]
    },
    {
     "name": "stderr",
     "output_type": "stream",
     "text": [
      "100%|██████████| 415/415 [00:15<00:00, 27.10it/s]\n",
      "15it [00:03,  4.50it/s]\n"
     ]
    },
    {
     "name": "stdout",
     "output_type": "stream",
     "text": [
      "\n",
      "Epoch: 3\n",
      "learning_rate: 0.01\n"
     ]
    },
    {
     "name": "stderr",
     "output_type": "stream",
     "text": [
      "100%|██████████| 415/415 [00:15<00:00, 26.07it/s]\n",
      "15it [00:03,  4.41it/s]\n"
     ]
    },
    {
     "name": "stdout",
     "output_type": "stream",
     "text": [
      "Saving..\n",
      "best_Test_acc: 54.235\n",
      "\n",
      "Epoch: 4\n",
      "learning_rate: 0.01\n"
     ]
    },
    {
     "name": "stderr",
     "output_type": "stream",
     "text": [
      "100%|██████████| 415/415 [00:15<00:00, 27.00it/s]\n",
      "15it [00:03,  4.53it/s]\n"
     ]
    },
    {
     "name": "stdout",
     "output_type": "stream",
     "text": [
      "\n",
      "Epoch: 5\n",
      "learning_rate: 0.01\n"
     ]
    },
    {
     "name": "stderr",
     "output_type": "stream",
     "text": [
      "100%|██████████| 415/415 [00:15<00:00, 27.08it/s]\n",
      "15it [00:03,  4.44it/s]\n"
     ]
    },
    {
     "name": "stdout",
     "output_type": "stream",
     "text": [
      "Saving..\n",
      "best_Test_acc: 54.995\n",
      "\n",
      "Epoch: 6\n",
      "learning_rate: 0.01\n"
     ]
    },
    {
     "name": "stderr",
     "output_type": "stream",
     "text": [
      "100%|██████████| 415/415 [00:15<00:00, 27.02it/s]\n",
      "15it [00:03,  4.48it/s]\n"
     ]
    },
    {
     "name": "stdout",
     "output_type": "stream",
     "text": [
      "Saving..\n",
      "best_Test_acc: 56.352\n",
      "\n",
      "Epoch: 7\n",
      "learning_rate: 0.01\n"
     ]
    },
    {
     "name": "stderr",
     "output_type": "stream",
     "text": [
      "100%|██████████| 415/415 [00:15<00:00, 27.11it/s]\n",
      "15it [00:03,  4.46it/s]\n"
     ]
    },
    {
     "name": "stdout",
     "output_type": "stream",
     "text": [
      "\n",
      "Epoch: 8\n",
      "learning_rate: 0.01\n"
     ]
    },
    {
     "name": "stderr",
     "output_type": "stream",
     "text": [
      "100%|██████████| 415/415 [00:16<00:00, 25.54it/s]\n",
      "15it [00:03,  4.41it/s]\n"
     ]
    },
    {
     "name": "stdout",
     "output_type": "stream",
     "text": [
      "Saving..\n",
      "best_Test_acc: 59.121\n",
      "\n",
      "Epoch: 9\n",
      "learning_rate: 0.01\n"
     ]
    },
    {
     "name": "stderr",
     "output_type": "stream",
     "text": [
      "100%|██████████| 415/415 [00:15<00:00, 26.39it/s]\n",
      "15it [00:03,  4.36it/s]\n"
     ]
    },
    {
     "name": "stdout",
     "output_type": "stream",
     "text": [
      "Saving..\n",
      "best_Test_acc: 59.772\n",
      "\n",
      "Epoch: 10\n",
      "learning_rate: 0.01\n"
     ]
    },
    {
     "name": "stderr",
     "output_type": "stream",
     "text": [
      "100%|██████████| 415/415 [00:15<00:00, 25.98it/s]\n",
      "15it [00:03,  4.34it/s]\n"
     ]
    },
    {
     "name": "stdout",
     "output_type": "stream",
     "text": [
      "\n",
      "Epoch: 11\n",
      "learning_rate: 0.01\n"
     ]
    },
    {
     "name": "stderr",
     "output_type": "stream",
     "text": [
      "100%|██████████| 415/415 [00:15<00:00, 27.04it/s]\n",
      "15it [00:03,  4.54it/s]\n"
     ]
    },
    {
     "name": "stdout",
     "output_type": "stream",
     "text": [
      "\n",
      "Epoch: 12\n",
      "learning_rate: 0.01\n"
     ]
    },
    {
     "name": "stderr",
     "output_type": "stream",
     "text": [
      "100%|██████████| 415/415 [00:15<00:00, 26.74it/s]\n",
      "15it [00:03,  4.45it/s]\n"
     ]
    },
    {
     "name": "stdout",
     "output_type": "stream",
     "text": [
      "\n",
      "Epoch: 13\n",
      "learning_rate: 0.01\n"
     ]
    },
    {
     "name": "stderr",
     "output_type": "stream",
     "text": [
      "100%|██████████| 415/415 [00:23<00:00, 18.01it/s]\n",
      "15it [00:06,  2.25it/s]\n"
     ]
    },
    {
     "name": "stdout",
     "output_type": "stream",
     "text": [
      "\n",
      "Epoch: 14\n",
      "learning_rate: 0.01\n"
     ]
    },
    {
     "name": "stderr",
     "output_type": "stream",
     "text": [
      "100%|██████████| 415/415 [00:32<00:00, 12.67it/s]\n",
      "15it [00:07,  2.04it/s]\n"
     ]
    },
    {
     "name": "stdout",
     "output_type": "stream",
     "text": [
      "\n",
      "Epoch: 15\n",
      "learning_rate: 0.01\n"
     ]
    },
    {
     "name": "stderr",
     "output_type": "stream",
     "text": [
      "100%|██████████| 415/415 [00:32<00:00, 12.83it/s]\n",
      "15it [00:07,  1.99it/s]\n"
     ]
    },
    {
     "name": "stdout",
     "output_type": "stream",
     "text": [
      "Saving..\n",
      "best_Test_acc: 61.102\n",
      "\n",
      "Epoch: 16\n",
      "learning_rate: 0.01\n"
     ]
    },
    {
     "name": "stderr",
     "output_type": "stream",
     "text": [
      "100%|██████████| 415/415 [00:32<00:00, 12.84it/s]\n",
      "15it [00:08,  1.83it/s]\n"
     ]
    },
    {
     "name": "stdout",
     "output_type": "stream",
     "text": [
      "Saving..\n",
      "best_Test_acc: 61.482\n",
      "\n",
      "Epoch: 17\n",
      "learning_rate: 0.01\n"
     ]
    },
    {
     "name": "stderr",
     "output_type": "stream",
     "text": [
      "100%|██████████| 415/415 [00:32<00:00, 12.79it/s]\n",
      "15it [00:08,  1.81it/s]\n"
     ]
    },
    {
     "name": "stdout",
     "output_type": "stream",
     "text": [
      "\n",
      "Epoch: 18\n",
      "learning_rate: 0.01\n"
     ]
    },
    {
     "name": "stderr",
     "output_type": "stream",
     "text": [
      "100%|██████████| 415/415 [00:32<00:00, 12.74it/s]\n",
      "15it [00:08,  1.86it/s]\n"
     ]
    },
    {
     "name": "stdout",
     "output_type": "stream",
     "text": [
      "\n",
      "Epoch: 19\n",
      "learning_rate: 0.01\n"
     ]
    },
    {
     "name": "stderr",
     "output_type": "stream",
     "text": [
      "100%|██████████| 415/415 [00:32<00:00, 12.69it/s]\n",
      "15it [00:07,  2.00it/s]\n"
     ]
    },
    {
     "name": "stdout",
     "output_type": "stream",
     "text": [
      "\n",
      "Epoch: 20\n",
      "learning_rate: 0.01\n"
     ]
    },
    {
     "name": "stderr",
     "output_type": "stream",
     "text": [
      "100%|██████████| 415/415 [00:32<00:00, 12.80it/s]\n",
      "15it [00:06,  2.22it/s]\n"
     ]
    },
    {
     "name": "stdout",
     "output_type": "stream",
     "text": [
      "\n",
      "Epoch: 21\n",
      "learning_rate: 0.008\n"
     ]
    },
    {
     "name": "stderr",
     "output_type": "stream",
     "text": [
      "100%|██████████| 415/415 [00:32<00:00, 12.86it/s]\n",
      "15it [00:06,  2.22it/s]\n"
     ]
    },
    {
     "name": "stdout",
     "output_type": "stream",
     "text": [
      "Saving..\n",
      "best_Test_acc: 62.568\n",
      "\n",
      "Epoch: 22\n",
      "learning_rate: 0.006400000000000001\n"
     ]
    },
    {
     "name": "stderr",
     "output_type": "stream",
     "text": [
      "100%|██████████| 415/415 [00:32<00:00, 12.73it/s]\n",
      "15it [00:06,  2.24it/s]\n"
     ]
    },
    {
     "name": "stdout",
     "output_type": "stream",
     "text": [
      "Saving..\n",
      "best_Test_acc: 62.975\n",
      "\n",
      "Epoch: 23\n",
      "learning_rate: 0.005120000000000001\n"
     ]
    },
    {
     "name": "stderr",
     "output_type": "stream",
     "text": [
      "100%|██████████| 415/415 [00:32<00:00, 12.82it/s]\n",
      "15it [00:06,  2.41it/s]\n"
     ]
    },
    {
     "name": "stdout",
     "output_type": "stream",
     "text": [
      "Saving..\n",
      "best_Test_acc: 63.328\n",
      "\n",
      "Epoch: 24\n",
      "learning_rate: 0.004096000000000001\n"
     ]
    },
    {
     "name": "stderr",
     "output_type": "stream",
     "text": [
      "100%|██████████| 415/415 [00:32<00:00, 12.78it/s]\n",
      "15it [00:06,  2.49it/s]\n"
     ]
    },
    {
     "name": "stdout",
     "output_type": "stream",
     "text": [
      "Saving..\n",
      "best_Test_acc: 64.712\n",
      "\n",
      "Epoch: 25\n",
      "learning_rate: 0.0032768000000000007\n"
     ]
    },
    {
     "name": "stderr",
     "output_type": "stream",
     "text": [
      "100%|██████████| 415/415 [00:32<00:00, 12.89it/s]\n",
      "15it [00:06,  2.48it/s]\n"
     ]
    },
    {
     "name": "stdout",
     "output_type": "stream",
     "text": [
      "Saving..\n",
      "best_Test_acc: 64.875\n",
      "\n",
      "Epoch: 26\n",
      "learning_rate: 0.002621440000000001\n"
     ]
    },
    {
     "name": "stderr",
     "output_type": "stream",
     "text": [
      "100%|██████████| 415/415 [00:32<00:00, 12.62it/s]\n",
      "15it [00:06,  2.49it/s]\n"
     ]
    },
    {
     "name": "stdout",
     "output_type": "stream",
     "text": [
      "Saving..\n",
      "best_Test_acc: 65.554\n",
      "\n",
      "Epoch: 27\n",
      "learning_rate: 0.002097152000000001\n"
     ]
    },
    {
     "name": "stderr",
     "output_type": "stream",
     "text": [
      "100%|██████████| 415/415 [00:32<00:00, 12.88it/s]\n",
      "15it [00:06,  2.49it/s]\n"
     ]
    },
    {
     "name": "stdout",
     "output_type": "stream",
     "text": [
      "Saving..\n",
      "best_Test_acc: 65.907\n",
      "\n",
      "Epoch: 28\n",
      "learning_rate: 0.001677721600000001\n"
     ]
    },
    {
     "name": "stderr",
     "output_type": "stream",
     "text": [
      "100%|██████████| 415/415 [00:32<00:00, 12.84it/s]\n",
      "15it [00:06,  2.47it/s]\n"
     ]
    },
    {
     "name": "stdout",
     "output_type": "stream",
     "text": [
      "\n",
      "Epoch: 29\n",
      "learning_rate: 0.0013421772800000006\n"
     ]
    },
    {
     "name": "stderr",
     "output_type": "stream",
     "text": [
      "100%|██████████| 415/415 [00:32<00:00, 12.88it/s]\n",
      "15it [00:06,  2.29it/s]\n"
     ]
    },
    {
     "name": "stdout",
     "output_type": "stream",
     "text": [
      "Saving..\n",
      "best_Test_acc: 66.422\n",
      "\n",
      "Epoch: 30\n",
      "learning_rate: 0.0010737418240000006\n"
     ]
    },
    {
     "name": "stderr",
     "output_type": "stream",
     "text": [
      "100%|██████████| 415/415 [00:32<00:00, 12.88it/s]\n",
      "15it [00:05,  2.51it/s]\n"
     ]
    },
    {
     "name": "stdout",
     "output_type": "stream",
     "text": [
      "Saving..\n",
      "best_Test_acc: 66.504\n",
      "\n",
      "Epoch: 31\n",
      "learning_rate: 0.0008589934592000006\n"
     ]
    },
    {
     "name": "stderr",
     "output_type": "stream",
     "text": [
      "100%|██████████| 415/415 [00:32<00:00, 12.86it/s]\n",
      "15it [00:06,  2.49it/s]\n"
     ]
    },
    {
     "name": "stdout",
     "output_type": "stream",
     "text": [
      "Saving..\n",
      "best_Test_acc: 66.667\n",
      "\n",
      "Epoch: 32\n",
      "learning_rate: 0.0006871947673600004\n"
     ]
    },
    {
     "name": "stderr",
     "output_type": "stream",
     "text": [
      "100%|██████████| 415/415 [00:32<00:00, 12.81it/s]\n",
      "15it [00:06,  2.47it/s]\n"
     ]
    },
    {
     "name": "stdout",
     "output_type": "stream",
     "text": [
      "\n",
      "Epoch: 33\n",
      "learning_rate: 0.0005497558138880004\n"
     ]
    },
    {
     "name": "stderr",
     "output_type": "stream",
     "text": [
      "100%|██████████| 415/415 [00:33<00:00, 12.52it/s]\n",
      "15it [00:06,  2.45it/s]\n"
     ]
    },
    {
     "name": "stdout",
     "output_type": "stream",
     "text": [
      "\n",
      "Epoch: 34\n",
      "learning_rate: 0.00043980465111040037\n"
     ]
    },
    {
     "name": "stderr",
     "output_type": "stream",
     "text": [
      "100%|██████████| 415/415 [00:32<00:00, 12.73it/s]\n",
      "15it [00:06,  2.48it/s]\n"
     ]
    },
    {
     "name": "stdout",
     "output_type": "stream",
     "text": [
      "Saving..\n",
      "best_Test_acc: 66.775\n",
      "\n",
      "Epoch: 35\n",
      "learning_rate: 0.0003518437208883203\n"
     ]
    },
    {
     "name": "stderr",
     "output_type": "stream",
     "text": [
      "100%|██████████| 415/415 [00:32<00:00, 12.73it/s]\n",
      "15it [00:06,  2.46it/s]\n"
     ]
    },
    {
     "name": "stdout",
     "output_type": "stream",
     "text": [
      "\n",
      "Epoch: 36\n",
      "learning_rate: 0.00028147497671065624\n"
     ]
    },
    {
     "name": "stderr",
     "output_type": "stream",
     "text": [
      "100%|██████████| 415/415 [00:33<00:00, 12.53it/s]\n",
      "15it [00:06,  2.46it/s]\n"
     ]
    },
    {
     "name": "stdout",
     "output_type": "stream",
     "text": [
      "\n",
      "Epoch: 37\n",
      "learning_rate: 0.00022517998136852504\n"
     ]
    },
    {
     "name": "stderr",
     "output_type": "stream",
     "text": [
      "100%|██████████| 415/415 [00:32<00:00, 12.76it/s]\n",
      "15it [00:06,  2.44it/s]\n"
     ]
    },
    {
     "name": "stdout",
     "output_type": "stream",
     "text": [
      "\n",
      "Epoch: 38\n",
      "learning_rate: 0.00018014398509482002\n"
     ]
    },
    {
     "name": "stderr",
     "output_type": "stream",
     "text": [
      "100%|██████████| 415/415 [00:32<00:00, 12.75it/s]\n",
      "15it [00:06,  2.48it/s]\n"
     ]
    },
    {
     "name": "stdout",
     "output_type": "stream",
     "text": [
      "\n",
      "Epoch: 39\n",
      "learning_rate: 0.00014411518807585602\n"
     ]
    },
    {
     "name": "stderr",
     "output_type": "stream",
     "text": [
      "100%|██████████| 415/415 [00:32<00:00, 12.76it/s]\n",
      "15it [00:06,  2.48it/s]\n"
     ]
    },
    {
     "name": "stdout",
     "output_type": "stream",
     "text": [
      "\n",
      "Epoch: 40\n",
      "learning_rate: 0.00011529215046068484\n"
     ]
    },
    {
     "name": "stderr",
     "output_type": "stream",
     "text": [
      "100%|██████████| 415/415 [00:33<00:00, 12.52it/s]\n",
      "15it [00:06,  2.46it/s]\n"
     ]
    },
    {
     "name": "stdout",
     "output_type": "stream",
     "text": [
      "\n",
      "Epoch: 41\n",
      "learning_rate: 9.223372036854788e-05\n"
     ]
    },
    {
     "name": "stderr",
     "output_type": "stream",
     "text": [
      "100%|██████████| 415/415 [00:32<00:00, 12.72it/s]\n",
      "15it [00:06,  2.47it/s]\n"
     ]
    },
    {
     "name": "stdout",
     "output_type": "stream",
     "text": [
      "\n",
      "Epoch: 42\n",
      "learning_rate: 7.37869762948383e-05\n"
     ]
    },
    {
     "name": "stderr",
     "output_type": "stream",
     "text": [
      "100%|██████████| 415/415 [00:32<00:00, 12.75it/s]\n",
      "15it [00:06,  2.50it/s]\n"
     ]
    },
    {
     "name": "stdout",
     "output_type": "stream",
     "text": [
      "\n",
      "Epoch: 43\n",
      "learning_rate: 5.902958103587064e-05\n"
     ]
    },
    {
     "name": "stderr",
     "output_type": "stream",
     "text": [
      "100%|██████████| 415/415 [00:33<00:00, 12.53it/s]\n",
      "15it [00:06,  2.46it/s]\n"
     ]
    },
    {
     "name": "stdout",
     "output_type": "stream",
     "text": [
      "\n",
      "Epoch: 44\n",
      "learning_rate: 4.722366482869652e-05\n"
     ]
    },
    {
     "name": "stderr",
     "output_type": "stream",
     "text": [
      "100%|██████████| 415/415 [00:32<00:00, 12.76it/s]\n",
      "15it [00:06,  2.46it/s]\n"
     ]
    },
    {
     "name": "stdout",
     "output_type": "stream",
     "text": [
      "\n",
      "Epoch: 45\n",
      "learning_rate: 3.777893186295722e-05\n"
     ]
    },
    {
     "name": "stderr",
     "output_type": "stream",
     "text": [
      "100%|██████████| 415/415 [00:32<00:00, 12.74it/s]\n",
      "15it [00:06,  2.44it/s]\n"
     ]
    },
    {
     "name": "stdout",
     "output_type": "stream",
     "text": [
      "\n",
      "Epoch: 46\n",
      "learning_rate: 3.0223145490365776e-05\n"
     ]
    },
    {
     "name": "stderr",
     "output_type": "stream",
     "text": [
      "100%|██████████| 415/415 [00:32<00:00, 12.74it/s]\n",
      "15it [00:06,  2.47it/s]\n"
     ]
    },
    {
     "name": "stdout",
     "output_type": "stream",
     "text": [
      "\n",
      "Epoch: 47\n",
      "learning_rate: 2.417851639229262e-05\n"
     ]
    },
    {
     "name": "stderr",
     "output_type": "stream",
     "text": [
      "100%|██████████| 415/415 [00:34<00:00, 12.16it/s]\n",
      "15it [00:06,  2.49it/s]\n"
     ]
    },
    {
     "name": "stdout",
     "output_type": "stream",
     "text": [
      "\n",
      "Epoch: 48\n",
      "learning_rate: 1.9342813113834096e-05\n"
     ]
    },
    {
     "name": "stderr",
     "output_type": "stream",
     "text": [
      "100%|██████████| 415/415 [00:23<00:00, 17.78it/s]\n",
      "15it [00:03,  4.50it/s]\n"
     ]
    },
    {
     "name": "stdout",
     "output_type": "stream",
     "text": [
      "\n",
      "Epoch: 49\n",
      "learning_rate: 1.547425049106728e-05\n"
     ]
    },
    {
     "name": "stderr",
     "output_type": "stream",
     "text": [
      "100%|██████████| 415/415 [00:19<00:00, 21.12it/s]\n",
      "15it [00:08,  1.78it/s]\n"
     ]
    },
    {
     "name": "stdout",
     "output_type": "stream",
     "text": [
      "\n",
      "Epoch: 50\n",
      "learning_rate: 1.2379400392853824e-05\n"
     ]
    },
    {
     "name": "stderr",
     "output_type": "stream",
     "text": [
      "100%|██████████| 415/415 [00:32<00:00, 12.76it/s]\n",
      "15it [00:06,  2.28it/s]\n"
     ]
    },
    {
     "name": "stdout",
     "output_type": "stream",
     "text": [
      "\n",
      "Epoch: 51\n",
      "learning_rate: 9.903520314283058e-06\n"
     ]
    },
    {
     "name": "stderr",
     "output_type": "stream",
     "text": [
      "100%|██████████| 415/415 [00:32<00:00, 12.66it/s]\n",
      "15it [00:06,  2.26it/s]\n"
     ]
    },
    {
     "name": "stdout",
     "output_type": "stream",
     "text": [
      "\n",
      "Epoch: 52\n",
      "learning_rate: 7.922816251426448e-06\n"
     ]
    },
    {
     "name": "stderr",
     "output_type": "stream",
     "text": [
      "100%|██████████| 415/415 [00:33<00:00, 12.48it/s]\n",
      "15it [00:06,  2.22it/s]\n"
     ]
    },
    {
     "name": "stdout",
     "output_type": "stream",
     "text": [
      "\n",
      "Epoch: 53\n",
      "learning_rate: 6.338253001141158e-06\n"
     ]
    },
    {
     "name": "stderr",
     "output_type": "stream",
     "text": [
      "100%|██████████| 415/415 [00:32<00:00, 12.63it/s]\n",
      "15it [00:06,  2.47it/s]\n"
     ]
    },
    {
     "name": "stdout",
     "output_type": "stream",
     "text": [
      "\n",
      "Epoch: 54\n",
      "learning_rate: 5.0706024009129275e-06\n"
     ]
    },
    {
     "name": "stderr",
     "output_type": "stream",
     "text": [
      "100%|██████████| 415/415 [00:33<00:00, 12.38it/s]\n",
      "15it [00:06,  2.45it/s]\n"
     ]
    },
    {
     "name": "stdout",
     "output_type": "stream",
     "text": [
      "\n",
      "Epoch: 55\n",
      "learning_rate: 4.056481920730342e-06\n"
     ]
    },
    {
     "name": "stderr",
     "output_type": "stream",
     "text": [
      "100%|██████████| 415/415 [00:32<00:00, 12.63it/s]\n",
      "15it [00:06,  2.46it/s]\n"
     ]
    },
    {
     "name": "stdout",
     "output_type": "stream",
     "text": [
      "\n",
      "Epoch: 56\n",
      "learning_rate: 3.2451855365842735e-06\n"
     ]
    },
    {
     "name": "stderr",
     "output_type": "stream",
     "text": [
      "100%|██████████| 415/415 [00:32<00:00, 12.61it/s]\n",
      "15it [00:06,  2.47it/s]\n"
     ]
    },
    {
     "name": "stdout",
     "output_type": "stream",
     "text": [
      "\n",
      "Epoch: 57\n",
      "learning_rate: 2.5961484292674196e-06\n"
     ]
    },
    {
     "name": "stderr",
     "output_type": "stream",
     "text": [
      "100%|██████████| 415/415 [00:33<00:00, 12.39it/s]\n",
      "15it [00:06,  2.45it/s]\n"
     ]
    },
    {
     "name": "stdout",
     "output_type": "stream",
     "text": [
      "\n",
      "Epoch: 58\n",
      "learning_rate: 2.0769187434139356e-06\n"
     ]
    },
    {
     "name": "stderr",
     "output_type": "stream",
     "text": [
      "100%|██████████| 415/415 [00:32<00:00, 12.64it/s]\n",
      "15it [00:06,  2.47it/s]\n"
     ]
    },
    {
     "name": "stdout",
     "output_type": "stream",
     "text": [
      "\n",
      "Epoch: 59\n",
      "learning_rate: 1.6615349947311485e-06\n"
     ]
    },
    {
     "name": "stderr",
     "output_type": "stream",
     "text": [
      "100%|██████████| 415/415 [00:32<00:00, 12.59it/s]\n",
      "15it [00:06,  2.32it/s]"
     ]
    },
    {
     "name": "stdout",
     "output_type": "stream",
     "text": [
      "best_Test_acc: 66.775\n",
      "best_Test_acc_epoch: 34\n"
     ]
    },
    {
     "name": "stderr",
     "output_type": "stream",
     "text": [
      "\n"
     ]
    },
    {
     "data": {
      "text/plain": "<IPython.core.display.HTML object>",
      "text/html": "Waiting for W&B process to finish... <strong style=\"color:green\">(success).</strong>"
     },
     "metadata": {},
     "output_type": "display_data"
    },
    {
     "data": {
      "text/plain": "<IPython.core.display.HTML object>",
      "text/html": "<style>\n    table.wandb td:nth-child(1) { padding: 0 10px; text-align: left ; width: auto;} td:nth-child(2) {text-align: left ; width: 100%}\n    .wandb-row { display: flex; flex-direction: row; flex-wrap: wrap; justify-content: flex-start; width: 100% }\n    .wandb-col { display: flex; flex-direction: column; flex-basis: 100%; flex: 1; padding: 10px; }\n    </style>\n<div class=\"wandb-row\"><div class=\"wandb-col\"><h3>Run history:</h3><br/><table class=\"wandb\"><tr><td>Learning Rate</td><td>██████████████▇▅▄▃▂▂▂▂▁▁▁▁▁▁▁▁▁▁▁▁▁▁▁▁▁▁</td></tr><tr><td>Test Acc</td><td>▁▂▄▄▅▅▆▅▅▅▆▆▆▆▇▇▇▇██████████████████████</td></tr><tr><td>Test Loss</td><td>█▆▄▄▄▃▂▃▃▄▂▁▂▂▁▁▁▁▁▂▂▂▃▃▃▃▃▃▄▄▄▄▄▄▄▄▄▄▄▄</td></tr><tr><td>Train Acc</td><td>▁▂▃▃▄▄▄▄▄▄▅▅▅▅▅▆▆▆▇▇▇▇██████████████████</td></tr><tr><td>Train Loss</td><td>█▇▆▆▆▅▅▅▅▅▅▄▄▄▄▄▃▃▂▂▂▂▂▁▁▁▁▁▁▁▁▁▁▁▁▁▁▁▁▁</td></tr></table><br/></div><div class=\"wandb-col\"><h3>Run summary:</h3><br/><table class=\"wandb\"><tr><td>Learning Rate</td><td>0.0</td></tr><tr><td>Test Acc</td><td>66.61238</td></tr><tr><td>Test Loss</td><td>17.80893</td></tr><tr><td>Train Acc</td><td>94.75211</td></tr><tr><td>Train Loss</td><td>65.36344</td></tr></table><br/></div></div>"
     },
     "metadata": {},
     "output_type": "display_data"
    },
    {
     "data": {
      "text/plain": "<IPython.core.display.HTML object>",
      "text/html": " View run <strong style=\"color:#cdcd00\">peachy-haze-3</strong> at: <a href='https://wandb.ai/face-expression-recognize/Face%20Expression%20Recognition/runs/3ygxzofp' target=\"_blank\">https://wandb.ai/face-expression-recognize/Face%20Expression%20Recognition/runs/3ygxzofp</a><br/> View job at <a href='https://wandb.ai/face-expression-recognize/Face%20Expression%20Recognition/jobs/QXJ0aWZhY3RDb2xsZWN0aW9uOjkwODQ3MTk2/version_details/v1' target=\"_blank\">https://wandb.ai/face-expression-recognize/Face%20Expression%20Recognition/jobs/QXJ0aWZhY3RDb2xsZWN0aW9uOjkwODQ3MTk2/version_details/v1</a><br/>Synced 5 W&B file(s), 0 media file(s), 0 artifact file(s) and 0 other file(s)"
     },
     "metadata": {},
     "output_type": "display_data"
    },
    {
     "data": {
      "text/plain": "<IPython.core.display.HTML object>",
      "text/html": "Find logs at: <code>.\\wandb\\run-20230817_094043-3ygxzofp\\logs</code>"
     },
     "metadata": {},
     "output_type": "display_data"
    }
   ],
   "source": [
    "from PIL import Image\n",
    "\n",
    "all_predicted = None\n",
    "all_targets = None\n",
    "import wandb\n",
    "\n",
    "wandb.init(project=\"Face Expression Recognition\", entity=\"face-expression-recognize\")\n",
    "for epoch in range(start_epoch, total_epoch):\n",
    "    train_loss, train_acc, current_lr = train(epoch)\n",
    "    all_predicted, all_targets, test_loss, test_acc = test(epoch=epoch, all_predicted=all_predicted,\n",
    "                                                           all_targets=all_targets,\n",
    "                                                           model_name=\"ResNet101 BAMAttention.pth\")\n",
    "    wandb.log({\"Train Loss\": train_loss,\n",
    "               \"Test Loss\": test_loss,\n",
    "               \"Train Acc\": train_acc,\n",
    "               \"Test Acc\": test_acc,\n",
    "               \"Learning Rate\": current_lr})\n",
    "    # print(all_predicted, all_targets)\n",
    "\n",
    "print(\"best_Test_acc: %0.3f\" % best_Test_acc)\n",
    "print(\"best_Test_acc_epoch: %d\" % best_Test_acc_epoch)\n",
    "wandb.finish()"
   ],
   "metadata": {
    "collapsed": false,
    "pycharm": {
     "name": "#%%\n"
    }
   }
  },
  {
   "cell_type": "code",
   "execution_count": 14,
   "outputs": [],
   "source": [
    "import itertools\n",
    "from matplotlib import pyplot as plt\n",
    "\n",
    "\n",
    "def plot_confusion_matrix(cm, classes,\n",
    "                          normalize=False,\n",
    "                          title='Confusion matrix',\n",
    "                          cmap=plt.cm.Blues):\n",
    "    \"\"\"\n",
    "    This function prints and plots the confusion matrix.\n",
    "    Normalization can be applied by setting `normalize=True`.\n",
    "    \"\"\"\n",
    "\n",
    "    if normalize:\n",
    "        cm = cm.astype('float') / cm.sum(axis=1)[:, np.newaxis]\n",
    "        print(\"Normalized confusion matrix\")\n",
    "    else:\n",
    "        print('Confusion matrix, without normalization')\n",
    "\n",
    "    print(cm)\n",
    "\n",
    "    plt.imshow(cm, interpolation='nearest', cmap=cmap)\n",
    "    plt.title(title, fontsize=16)\n",
    "    plt.colorbar()\n",
    "    tick_marks = np.arange(len(classes))\n",
    "    plt.xticks(tick_marks, classes, rotation=45)\n",
    "    plt.yticks(tick_marks, classes)\n",
    "\n",
    "    fmt = '.2f' if normalize else 'd'\n",
    "    thresh = cm.max() / 2.\n",
    "    for i, j in itertools.product(range(cm.shape[0]), range(cm.shape[1])):\n",
    "        plt.text(j, i, format(cm[i, j], fmt),\n",
    "                 horizontalalignment=\"center\",\n",
    "                 color=\"white\" if cm[i, j] > thresh else \"black\")\n",
    "\n",
    "    plt.ylabel('True label', fontsize=18)\n",
    "    plt.xlabel('Predicted label', fontsize=18)\n",
    "    plt.tight_layout()"
   ],
   "metadata": {
    "collapsed": false,
    "pycharm": {
     "name": "#%%\n"
    }
   }
  },
  {
   "cell_type": "code",
   "execution_count": 15,
   "outputs": [
    {
     "name": "stdout",
     "output_type": "stream",
     "text": [
      "Normalized confusion matrix\n",
      "[[0.62 0.01 0.09 0.05 0.1  0.12 0.02]\n",
      " [0.18 0.65 0.06 0.01 0.01 0.06 0.03]\n",
      " [0.1  0.   0.47 0.04 0.12 0.19 0.08]\n",
      " [0.01 0.   0.02 0.87 0.06 0.04 0.01]\n",
      " [0.07 0.   0.05 0.07 0.6  0.18 0.02]\n",
      " [0.08 0.   0.12 0.06 0.17 0.55 0.02]\n",
      " [0.03 0.   0.06 0.04 0.04 0.02 0.81]]\n"
     ]
    },
    {
     "data": {
      "text/plain": "<Figure size 1000x800 with 2 Axes>",
      "image/png": "[encoded data removed]"
     },
     "metadata": {},
     "output_type": "display_data"
    }
   ],
   "source": [
    "from matplotlib import pyplot as plt\n",
    "from sklearn.metrics import confusion_matrix\n",
    "\n",
    "class_names = ['Angry', 'Disgust', 'Fear', 'Happy', 'Sad', 'Surprise', 'Contempt']\n",
    "\n",
    "# Compute confusion matrix\n",
    "matrix = confusion_matrix(all_targets.data.cpu().numpy(), all_predicted.cpu().numpy())\n",
    "np.set_printoptions(precision=2)\n",
    "\n",
    "# Plot normalized confusion matrix\n",
    "plt.figure(figsize=(10, 8))\n",
    "plot_confusion_matrix(matrix, classes=class_names, normalize=True,\n",
    "                      title='ResNet101 with BAM Attention Confusion Matrix (Accuracy: %0.3f%%)' % best_Test_acc)\n",
    "plt.show()\n",
    "plt.savefig(os.path.join(opt[\"dataset\"] + '_' + opt[\"model\"], 'ResNet101 with BAMAttention Confusion Matrix.png'))\n",
    "plt.close()"
   ],
   "metadata": {
    "collapsed": false,
    "pycharm": {
     "name": "#%%\n"
    }
   }
  },
  {
   "cell_type": "markdown",
   "source": [
    "# CBAM"
   ],
   "metadata": {
    "collapsed": false,
    "pycharm": {
     "name": "#%% md\n"
    }
   }
  },
  {
   "cell_type": "code",
   "execution_count": 16,
   "outputs": [],
   "source": [
    "from sklearn.model_selection import StratifiedKFold\n",
    "from torch.autograd import Variable\n",
    "import utils\n",
    "from torch import nn, optim\n",
    "from models import ResNet18, VGG\n",
    "import transforms\n",
    "import torch\n",
    "\n",
    "use_cuda = torch.cuda.is_available()\n",
    "opt = {\n",
    "    \"model\": \"ResNet101\",\n",
    "    \"dataset\": \"all\",\n",
    "    \"fold\": 10,\n",
    "    \"train_bs\": 64,\n",
    "    \"test_bs\": 256,\n",
    "    \"val_bs\": 256,\n",
    "    \"lr\": 0.01,\n",
    "    \"resume\": None,\n",
    "}\n",
    "\n",
    "best_Test_acc = 0  # best PrivateTest accuracy\n",
    "best_Test_acc_epoch = 0\n",
    "start_epoch = 0  # start from epoch 0 or last checkpoint epoch\n",
    "\n",
    "learning_rate_decay_start = 20  # 50\n",
    "learning_rate_decay_every = 1  # 5\n",
    "learning_rate_decay_rate = 0.8  # 0.9\n",
    "\n",
    "cut_size = 44\n",
    "total_epoch = 60"
   ],
   "metadata": {
    "collapsed": false,
    "pycharm": {
     "name": "#%%\n"
    }
   }
  },
  {
   "cell_type": "code",
   "execution_count": 17,
   "outputs": [
    {
     "data": {
      "text/plain": "9266"
     },
     "execution_count": 17,
     "metadata": {},
     "output_type": "execute_result"
    }
   ],
   "source": [
    "import gc\n",
    "del net\n",
    "gc.collect()"
   ],
   "metadata": {
    "collapsed": false,
    "pycharm": {
     "name": "#%%\n"
    }
   }
  },
  {
   "cell_type": "code",
   "execution_count": 18,
   "outputs": [
    {
     "data": {
      "text/plain": "ResNet101(\n  (conv1): Conv2d(3, 64, kernel_size=(7, 7), stride=(2, 2), padding=(3, 3), bias=False)\n  (bn1): BatchNorm2d(64, eps=1e-05, momentum=0.1, affine=True, track_running_stats=True)\n  (maxpool): MaxPool2d(kernel_size=3, stride=2, padding=1, dilation=1, ceil_mode=False)\n  (layer1): Sequential(\n    (0): CBAMBlock(\n      (conv1): Conv2d(64, 64, kernel_size=(3, 3), stride=(1, 1), padding=(1, 1), bias=False)\n      (bn1): BatchNorm2d(64, eps=1e-05, momentum=0.1, affine=True, track_running_stats=True)\n      (conv2): Conv2d(64, 64, kernel_size=(3, 3), stride=(1, 1), padding=(1, 1), bias=False)\n      (bn2): BatchNorm2d(64, eps=1e-05, momentum=0.1, affine=True, track_running_stats=True)\n      (cbam): CBAMAttentionBlock(\n        (channel_attention): ChannelAttention(\n          (avg_pool): AdaptiveAvgPool2d(output_size=1)\n          (max_pool): AdaptiveMaxPool2d(output_size=1)\n          (fc1): Conv2d(64, 4, kernel_size=(1, 1), stride=(1, 1))\n          (relu): ReLU()\n          (fc2): Conv2d(4, 64, kernel_size=(1, 1), stride=(1, 1))\n          (sigmoid): Sigmoid()\n        )\n        (spatial_attention): SpatialAttention(\n          (conv): Conv2d(2, 1, kernel_size=(7, 7), stride=(1, 1), padding=(3, 3))\n          (sigmoid): Sigmoid()\n        )\n      )\n      (shortcut): Identity()\n    )\n    (1): CBAMBlock(\n      (conv1): Conv2d(64, 64, kernel_size=(3, 3), stride=(1, 1), padding=(1, 1), bias=False)\n      (bn1): BatchNorm2d(64, eps=1e-05, momentum=0.1, affine=True, track_running_stats=True)\n      (conv2): Conv2d(64, 64, kernel_size=(3, 3), stride=(1, 1), padding=(1, 1), bias=False)\n      (bn2): BatchNorm2d(64, eps=1e-05, momentum=0.1, affine=True, track_running_stats=True)\n      (cbam): CBAMAttentionBlock(\n        (channel_attention): ChannelAttention(\n          (avg_pool): AdaptiveAvgPool2d(output_size=1)\n          (max_pool): AdaptiveMaxPool2d(output_size=1)\n          (fc1): Conv2d(64, 4, kernel_size=(1, 1), stride=(1, 1))\n          (relu): ReLU()\n          (fc2): Conv2d(4, 64, kernel_size=(1, 1), stride=(1, 1))\n          (sigmoid): Sigmoid()\n        )\n        (spatial_attention): SpatialAttention(\n          (conv): Conv2d(2, 1, kernel_size=(7, 7), stride=(1, 1), padding=(3, 3))\n          (sigmoid): Sigmoid()\n        )\n      )\n      (shortcut): Identity()\n    )\n    (2): CBAMBlock(\n      (conv1): Conv2d(64, 64, kernel_size=(3, 3), stride=(1, 1), padding=(1, 1), bias=False)\n      (bn1): BatchNorm2d(64, eps=1e-05, momentum=0.1, affine=True, track_running_stats=True)\n      (conv2): Conv2d(64, 64, kernel_size=(3, 3), stride=(1, 1), padding=(1, 1), bias=False)\n      (bn2): BatchNorm2d(64, eps=1e-05, momentum=0.1, affine=True, track_running_stats=True)\n      (cbam): CBAMAttentionBlock(\n        (channel_attention): ChannelAttention(\n          (avg_pool): AdaptiveAvgPool2d(output_size=1)\n          (max_pool): AdaptiveMaxPool2d(output_size=1)\n          (fc1): Conv2d(64, 4, kernel_size=(1, 1), stride=(1, 1))\n          (relu): ReLU()\n          (fc2): Conv2d(4, 64, kernel_size=(1, 1), stride=(1, 1))\n          (sigmoid): Sigmoid()\n        )\n        (spatial_attention): SpatialAttention(\n          (conv): Conv2d(2, 1, kernel_size=(7, 7), stride=(1, 1), padding=(3, 3))\n          (sigmoid): Sigmoid()\n        )\n      )\n      (shortcut): Identity()\n    )\n  )\n  (layer2): Sequential(\n    (0): CBAMBlock(\n      (conv1): Conv2d(64, 128, kernel_size=(3, 3), stride=(2, 2), padding=(1, 1), bias=False)\n      (bn1): BatchNorm2d(128, eps=1e-05, momentum=0.1, affine=True, track_running_stats=True)\n      (conv2): Conv2d(128, 128, kernel_size=(3, 3), stride=(1, 1), padding=(1, 1), bias=False)\n      (bn2): BatchNorm2d(128, eps=1e-05, momentum=0.1, affine=True, track_running_stats=True)\n      (cbam): CBAMAttentionBlock(\n        (channel_attention): ChannelAttention(\n          (avg_pool): AdaptiveAvgPool2d(output_size=1)\n          (max_pool): AdaptiveMaxPool2d(output_size=1)\n          (fc1): Conv2d(128, 8, kernel_size=(1, 1), stride=(1, 1))\n          (relu): ReLU()\n          (fc2): Conv2d(8, 128, kernel_size=(1, 1), stride=(1, 1))\n          (sigmoid): Sigmoid()\n        )\n        (spatial_attention): SpatialAttention(\n          (conv): Conv2d(2, 1, kernel_size=(7, 7), stride=(1, 1), padding=(3, 3))\n          (sigmoid): Sigmoid()\n        )\n      )\n      (shortcut): Sequential(\n        (0): Conv2d(64, 128, kernel_size=(1, 1), stride=(2, 2), bias=False)\n        (1): BatchNorm2d(128, eps=1e-05, momentum=0.1, affine=True, track_running_stats=True)\n      )\n    )\n    (1): CBAMBlock(\n      (conv1): Conv2d(128, 128, kernel_size=(3, 3), stride=(1, 1), padding=(1, 1), bias=False)\n      (bn1): BatchNorm2d(128, eps=1e-05, momentum=0.1, affine=True, track_running_stats=True)\n      (conv2): Conv2d(128, 128, kernel_size=(3, 3), stride=(1, 1), padding=(1, 1), bias=False)\n      (bn2): BatchNorm2d(128, eps=1e-05, momentum=0.1, affine=True, track_running_stats=True)\n      (cbam): CBAMAttentionBlock(\n        (channel_attention): ChannelAttention(\n          (avg_pool): AdaptiveAvgPool2d(output_size=1)\n          (max_pool): AdaptiveMaxPool2d(output_size=1)\n          (fc1): Conv2d(128, 8, kernel_size=(1, 1), stride=(1, 1))\n          (relu): ReLU()\n          (fc2): Conv2d(8, 128, kernel_size=(1, 1), stride=(1, 1))\n          (sigmoid): Sigmoid()\n        )\n        (spatial_attention): SpatialAttention(\n          (conv): Conv2d(2, 1, kernel_size=(7, 7), stride=(1, 1), padding=(3, 3))\n          (sigmoid): Sigmoid()\n        )\n      )\n      (shortcut): Identity()\n    )\n    (2): CBAMBlock(\n      (conv1): Conv2d(128, 128, kernel_size=(3, 3), stride=(1, 1), padding=(1, 1), bias=False)\n      (bn1): BatchNorm2d(128, eps=1e-05, momentum=0.1, affine=True, track_running_stats=True)\n      (conv2): Conv2d(128, 128, kernel_size=(3, 3), stride=(1, 1), padding=(1, 1), bias=False)\n      (bn2): BatchNorm2d(128, eps=1e-05, momentum=0.1, affine=True, track_running_stats=True)\n      (cbam): CBAMAttentionBlock(\n        (channel_attention): ChannelAttention(\n          (avg_pool): AdaptiveAvgPool2d(output_size=1)\n          (max_pool): AdaptiveMaxPool2d(output_size=1)\n          (fc1): Conv2d(128, 8, kernel_size=(1, 1), stride=(1, 1))\n          (relu): ReLU()\n          (fc2): Conv2d(8, 128, kernel_size=(1, 1), stride=(1, 1))\n          (sigmoid): Sigmoid()\n        )\n        (spatial_attention): SpatialAttention(\n          (conv): Conv2d(2, 1, kernel_size=(7, 7), stride=(1, 1), padding=(3, 3))\n          (sigmoid): Sigmoid()\n        )\n      )\n      (shortcut): Identity()\n    )\n    (3): CBAMBlock(\n      (conv1): Conv2d(128, 128, kernel_size=(3, 3), stride=(1, 1), padding=(1, 1), bias=False)\n      (bn1): BatchNorm2d(128, eps=1e-05, momentum=0.1, affine=True, track_running_stats=True)\n      (conv2): Conv2d(128, 128, kernel_size=(3, 3), stride=(1, 1), padding=(1, 1), bias=False)\n      (bn2): BatchNorm2d(128, eps=1e-05, momentum=0.1, affine=True, track_running_stats=True)\n      (cbam): CBAMAttentionBlock(\n        (channel_attention): ChannelAttention(\n          (avg_pool): AdaptiveAvgPool2d(output_size=1)\n          (max_pool): AdaptiveMaxPool2d(output_size=1)\n          (fc1): Conv2d(128, 8, kernel_size=(1, 1), stride=(1, 1))\n          (relu): ReLU()\n          (fc2): Conv2d(8, 128, kernel_size=(1, 1), stride=(1, 1))\n          (sigmoid): Sigmoid()\n        )\n        (spatial_attention): SpatialAttention(\n          (conv): Conv2d(2, 1, kernel_size=(7, 7), stride=(1, 1), padding=(3, 3))\n          (sigmoid): Sigmoid()\n        )\n      )\n      (shortcut): Identity()\n    )\n  )\n  (layer3): Sequential(\n    (0): CBAMBlock(\n      (conv1): Conv2d(128, 256, kernel_size=(3, 3), stride=(2, 2), padding=(1, 1), bias=False)\n      (bn1): BatchNorm2d(256, eps=1e-05, momentum=0.1, affine=True, track_running_stats=True)\n      (conv2): Conv2d(256, 256, kernel_size=(3, 3), stride=(1, 1), padding=(1, 1), bias=False)\n      (bn2): BatchNorm2d(256, eps=1e-05, momentum=0.1, affine=True, track_running_stats=True)\n      (cbam): CBAMAttentionBlock(\n        (channel_attention): ChannelAttention(\n          (avg_pool): AdaptiveAvgPool2d(output_size=1)\n          (max_pool): AdaptiveMaxPool2d(output_size=1)\n          (fc1): Conv2d(256, 16, kernel_size=(1, 1), stride=(1, 1))\n          (relu): ReLU()\n          (fc2): Conv2d(16, 256, kernel_size=(1, 1), stride=(1, 1))\n          (sigmoid): Sigmoid()\n        )\n        (spatial_attention): SpatialAttention(\n          (conv): Conv2d(2, 1, kernel_size=(7, 7), stride=(1, 1), padding=(3, 3))\n          (sigmoid): Sigmoid()\n        )\n      )\n      (shortcut): Sequential(\n        (0): Conv2d(128, 256, kernel_size=(1, 1), stride=(2, 2), bias=False)\n        (1): BatchNorm2d(256, eps=1e-05, momentum=0.1, affine=True, track_running_stats=True)\n      )\n    )\n    (1): CBAMBlock(\n      (conv1): Conv2d(256, 256, kernel_size=(3, 3), stride=(1, 1), padding=(1, 1), bias=False)\n      (bn1): BatchNorm2d(256, eps=1e-05, momentum=0.1, affine=True, track_running_stats=True)\n      (conv2): Conv2d(256, 256, kernel_size=(3, 3), stride=(1, 1), padding=(1, 1), bias=False)\n      (bn2): BatchNorm2d(256, eps=1e-05, momentum=0.1, affine=True, track_running_stats=True)\n      (cbam): CBAMAttentionBlock(\n        (channel_attention): ChannelAttention(\n          (avg_pool): AdaptiveAvgPool2d(output_size=1)\n          (max_pool): AdaptiveMaxPool2d(output_size=1)\n          (fc1): Conv2d(256, 16, kernel_size=(1, 1), stride=(1, 1))\n          (relu): ReLU()\n          (fc2): Conv2d(16, 256, kernel_size=(1, 1), stride=(1, 1))\n          (sigmoid): Sigmoid()\n        )\n        (spatial_attention): SpatialAttention(\n          (conv): Conv2d(2, 1, kernel_size=(7, 7), stride=(1, 1), padding=(3, 3))\n          (sigmoid): Sigmoid()\n        )\n      )\n      (shortcut): Identity()\n    )\n    (2): CBAMBlock(\n      (conv1): Conv2d(256, 256, kernel_size=(3, 3), stride=(1, 1), padding=(1, 1), bias=False)\n      (bn1): BatchNorm2d(256, eps=1e-05, momentum=0.1, affine=True, track_running_stats=True)\n      (conv2): Conv2d(256, 256, kernel_size=(3, 3), stride=(1, 1), padding=(1, 1), bias=False)\n      (bn2): BatchNorm2d(256, eps=1e-05, momentum=0.1, affine=True, track_running_stats=True)\n      (cbam): CBAMAttentionBlock(\n        (channel_attention): ChannelAttention(\n          (avg_pool): AdaptiveAvgPool2d(output_size=1)\n          (max_pool): AdaptiveMaxPool2d(output_size=1)\n          (fc1): Conv2d(256, 16, kernel_size=(1, 1), stride=(1, 1))\n          (relu): ReLU()\n          (fc2): Conv2d(16, 256, kernel_size=(1, 1), stride=(1, 1))\n          (sigmoid): Sigmoid()\n        )\n        (spatial_attention): SpatialAttention(\n          (conv): Conv2d(2, 1, kernel_size=(7, 7), stride=(1, 1), padding=(3, 3))\n          (sigmoid): Sigmoid()\n        )\n      )\n      (shortcut): Identity()\n    )\n    (3): CBAMBlock(\n      (conv1): Conv2d(256, 256, kernel_size=(3, 3), stride=(1, 1), padding=(1, 1), bias=False)\n      (bn1): BatchNorm2d(256, eps=1e-05, momentum=0.1, affine=True, track_running_stats=True)\n      (conv2): Conv2d(256, 256, kernel_size=(3, 3), stride=(1, 1), padding=(1, 1), bias=False)\n      (bn2): BatchNorm2d(256, eps=1e-05, momentum=0.1, affine=True, track_running_stats=True)\n      (cbam): CBAMAttentionBlock(\n        (channel_attention): ChannelAttention(\n          (avg_pool): AdaptiveAvgPool2d(output_size=1)\n          (max_pool): AdaptiveMaxPool2d(output_size=1)\n          (fc1): Conv2d(256, 16, kernel_size=(1, 1), stride=(1, 1))\n          (relu): ReLU()\n          (fc2): Conv2d(16, 256, kernel_size=(1, 1), stride=(1, 1))\n          (sigmoid): Sigmoid()\n        )\n        (spatial_attention): SpatialAttention(\n          (conv): Conv2d(2, 1, kernel_size=(7, 7), stride=(1, 1), padding=(3, 3))\n          (sigmoid): Sigmoid()\n        )\n      )\n      (shortcut): Identity()\n    )\n    (4): CBAMBlock(\n      (conv1): Conv2d(256, 256, kernel_size=(3, 3), stride=(1, 1), padding=(1, 1), bias=False)\n      (bn1): BatchNorm2d(256, eps=1e-05, momentum=0.1, affine=True, track_running_stats=True)\n      (conv2): Conv2d(256, 256, kernel_size=(3, 3), stride=(1, 1), padding=(1, 1), bias=False)\n      (bn2): BatchNorm2d(256, eps=1e-05, momentum=0.1, affine=True, track_running_stats=True)\n      (cbam): CBAMAttentionBlock(\n        (channel_attention): ChannelAttention(\n          (avg_pool): AdaptiveAvgPool2d(output_size=1)\n          (max_pool): AdaptiveMaxPool2d(output_size=1)\n          (fc1): Conv2d(256, 16, kernel_size=(1, 1), stride=(1, 1))\n          (relu): ReLU()\n          (fc2): Conv2d(16, 256, kernel_size=(1, 1), stride=(1, 1))\n          (sigmoid): Sigmoid()\n        )\n        (spatial_attention): SpatialAttention(\n          (conv): Conv2d(2, 1, kernel_size=(7, 7), stride=(1, 1), padding=(3, 3))\n          (sigmoid): Sigmoid()\n        )\n      )\n      (shortcut): Identity()\n    )\n    (5): CBAMBlock(\n      (conv1): Conv2d(256, 256, kernel_size=(3, 3), stride=(1, 1), padding=(1, 1), bias=False)\n      (bn1): BatchNorm2d(256, eps=1e-05, momentum=0.1, affine=True, track_running_stats=True)\n      (conv2): Conv2d(256, 256, kernel_size=(3, 3), stride=(1, 1), padding=(1, 1), bias=False)\n      (bn2): BatchNorm2d(256, eps=1e-05, momentum=0.1, affine=True, track_running_stats=True)\n      (cbam): CBAMAttentionBlock(\n        (channel_attention): ChannelAttention(\n          (avg_pool): AdaptiveAvgPool2d(output_size=1)\n          (max_pool): AdaptiveMaxPool2d(output_size=1)\n          (fc1): Conv2d(256, 16, kernel_size=(1, 1), stride=(1, 1))\n          (relu): ReLU()\n          (fc2): Conv2d(16, 256, kernel_size=(1, 1), stride=(1, 1))\n          (sigmoid): Sigmoid()\n        )\n        (spatial_attention): SpatialAttention(\n          (conv): Conv2d(2, 1, kernel_size=(7, 7), stride=(1, 1), padding=(3, 3))\n          (sigmoid): Sigmoid()\n        )\n      )\n      (shortcut): Identity()\n    )\n    (6): CBAMBlock(\n      (conv1): Conv2d(256, 256, kernel_size=(3, 3), stride=(1, 1), padding=(1, 1), bias=False)\n      (bn1): BatchNorm2d(256, eps=1e-05, momentum=0.1, affine=True, track_running_stats=True)\n      (conv2): Conv2d(256, 256, kernel_size=(3, 3), stride=(1, 1), padding=(1, 1), bias=False)\n      (bn2): BatchNorm2d(256, eps=1e-05, momentum=0.1, affine=True, track_running_stats=True)\n      (cbam): CBAMAttentionBlock(\n        (channel_attention): ChannelAttention(\n          (avg_pool): AdaptiveAvgPool2d(output_size=1)\n          (max_pool): AdaptiveMaxPool2d(output_size=1)\n          (fc1): Conv2d(256, 16, kernel_size=(1, 1), stride=(1, 1))\n          (relu): ReLU()\n          (fc2): Conv2d(16, 256, kernel_size=(1, 1), stride=(1, 1))\n          (sigmoid): Sigmoid()\n        )\n        (spatial_attention): SpatialAttention(\n          (conv): Conv2d(2, 1, kernel_size=(7, 7), stride=(1, 1), padding=(3, 3))\n          (sigmoid): Sigmoid()\n        )\n      )\n      (shortcut): Identity()\n    )\n    (7): CBAMBlock(\n      (conv1): Conv2d(256, 256, kernel_size=(3, 3), stride=(1, 1), padding=(1, 1), bias=False)\n      (bn1): BatchNorm2d(256, eps=1e-05, momentum=0.1, affine=True, track_running_stats=True)\n      (conv2): Conv2d(256, 256, kernel_size=(3, 3), stride=(1, 1), padding=(1, 1), bias=False)\n      (bn2): BatchNorm2d(256, eps=1e-05, momentum=0.1, affine=True, track_running_stats=True)\n      (cbam): CBAMAttentionBlock(\n        (channel_attention): ChannelAttention(\n          (avg_pool): AdaptiveAvgPool2d(output_size=1)\n          (max_pool): AdaptiveMaxPool2d(output_size=1)\n          (fc1): Conv2d(256, 16, kernel_size=(1, 1), stride=(1, 1))\n          (relu): ReLU()\n          (fc2): Conv2d(16, 256, kernel_size=(1, 1), stride=(1, 1))\n          (sigmoid): Sigmoid()\n        )\n        (spatial_attention): SpatialAttention(\n          (conv): Conv2d(2, 1, kernel_size=(7, 7), stride=(1, 1), padding=(3, 3))\n          (sigmoid): Sigmoid()\n        )\n      )\n      (shortcut): Identity()\n    )\n    (8): CBAMBlock(\n      (conv1): Conv2d(256, 256, kernel_size=(3, 3), stride=(1, 1), padding=(1, 1), bias=False)\n      (bn1): BatchNorm2d(256, eps=1e-05, momentum=0.1, affine=True, track_running_stats=True)\n      (conv2): Conv2d(256, 256, kernel_size=(3, 3), stride=(1, 1), padding=(1, 1), bias=False)\n      (bn2): BatchNorm2d(256, eps=1e-05, momentum=0.1, affine=True, track_running_stats=True)\n      (cbam): CBAMAttentionBlock(\n        (channel_attention): ChannelAttention(\n          (avg_pool): AdaptiveAvgPool2d(output_size=1)\n          (max_pool): AdaptiveMaxPool2d(output_size=1)\n          (fc1): Conv2d(256, 16, kernel_size=(1, 1), stride=(1, 1))\n          (relu): ReLU()\n          (fc2): Conv2d(16, 256, kernel_size=(1, 1), stride=(1, 1))\n          (sigmoid): Sigmoid()\n        )\n        (spatial_attention): SpatialAttention(\n          (conv): Conv2d(2, 1, kernel_size=(7, 7), stride=(1, 1), padding=(3, 3))\n          (sigmoid): Sigmoid()\n        )\n      )\n      (shortcut): Identity()\n    )\n    (9): CBAMBlock(\n      (conv1): Conv2d(256, 256, kernel_size=(3, 3), stride=(1, 1), padding=(1, 1), bias=False)\n      (bn1): BatchNorm2d(256, eps=1e-05, momentum=0.1, affine=True, track_running_stats=True)\n      (conv2): Conv2d(256, 256, kernel_size=(3, 3), stride=(1, 1), padding=(1, 1), bias=False)\n      (bn2): BatchNorm2d(256, eps=1e-05, momentum=0.1, affine=True, track_running_stats=True)\n      (cbam): CBAMAttentionBlock(\n        (channel_attention): ChannelAttention(\n          (avg_pool): AdaptiveAvgPool2d(output_size=1)\n          (max_pool): AdaptiveMaxPool2d(output_size=1)\n          (fc1): Conv2d(256, 16, kernel_size=(1, 1), stride=(1, 1))\n          (relu): ReLU()\n          (fc2): Conv2d(16, 256, kernel_size=(1, 1), stride=(1, 1))\n          (sigmoid): Sigmoid()\n        )\n        (spatial_attention): SpatialAttention(\n          (conv): Conv2d(2, 1, kernel_size=(7, 7), stride=(1, 1), padding=(3, 3))\n          (sigmoid): Sigmoid()\n        )\n      )\n      (shortcut): Identity()\n    )\n    (10): CBAMBlock(\n      (conv1): Conv2d(256, 256, kernel_size=(3, 3), stride=(1, 1), padding=(1, 1), bias=False)\n      (bn1): BatchNorm2d(256, eps=1e-05, momentum=0.1, affine=True, track_running_stats=True)\n      (conv2): Conv2d(256, 256, kernel_size=(3, 3), stride=(1, 1), padding=(1, 1), bias=False)\n      (bn2): BatchNorm2d(256, eps=1e-05, momentum=0.1, affine=True, track_running_stats=True)\n      (cbam): CBAMAttentionBlock(\n        (channel_attention): ChannelAttention(\n          (avg_pool): AdaptiveAvgPool2d(output_size=1)\n          (max_pool): AdaptiveMaxPool2d(output_size=1)\n          (fc1): Conv2d(256, 16, kernel_size=(1, 1), stride=(1, 1))\n          (relu): ReLU()\n          (fc2): Conv2d(16, 256, kernel_size=(1, 1), stride=(1, 1))\n          (sigmoid): Sigmoid()\n        )\n        (spatial_attention): SpatialAttention(\n          (conv): Conv2d(2, 1, kernel_size=(7, 7), stride=(1, 1), padding=(3, 3))\n          (sigmoid): Sigmoid()\n        )\n      )\n      (shortcut): Identity()\n    )\n    (11): CBAMBlock(\n      (conv1): Conv2d(256, 256, kernel_size=(3, 3), stride=(1, 1), padding=(1, 1), bias=False)\n      (bn1): BatchNorm2d(256, eps=1e-05, momentum=0.1, affine=True, track_running_stats=True)\n      (conv2): Conv2d(256, 256, kernel_size=(3, 3), stride=(1, 1), padding=(1, 1), bias=False)\n      (bn2): BatchNorm2d(256, eps=1e-05, momentum=0.1, affine=True, track_running_stats=True)\n      (cbam): CBAMAttentionBlock(\n        (channel_attention): ChannelAttention(\n          (avg_pool): AdaptiveAvgPool2d(output_size=1)\n          (max_pool): AdaptiveMaxPool2d(output_size=1)\n          (fc1): Conv2d(256, 16, kernel_size=(1, 1), stride=(1, 1))\n          (relu): ReLU()\n          (fc2): Conv2d(16, 256, kernel_size=(1, 1), stride=(1, 1))\n          (sigmoid): Sigmoid()\n        )\n        (spatial_attention): SpatialAttention(\n          (conv): Conv2d(2, 1, kernel_size=(7, 7), stride=(1, 1), padding=(3, 3))\n          (sigmoid): Sigmoid()\n        )\n      )\n      (shortcut): Identity()\n    )\n    (12): CBAMBlock(\n      (conv1): Conv2d(256, 256, kernel_size=(3, 3), stride=(1, 1), padding=(1, 1), bias=False)\n      (bn1): BatchNorm2d(256, eps=1e-05, momentum=0.1, affine=True, track_running_stats=True)\n      (conv2): Conv2d(256, 256, kernel_size=(3, 3), stride=(1, 1), padding=(1, 1), bias=False)\n      (bn2): BatchNorm2d(256, eps=1e-05, momentum=0.1, affine=True, track_running_stats=True)\n      (cbam): CBAMAttentionBlock(\n        (channel_attention): ChannelAttention(\n          (avg_pool): AdaptiveAvgPool2d(output_size=1)\n          (max_pool): AdaptiveMaxPool2d(output_size=1)\n          (fc1): Conv2d(256, 16, kernel_size=(1, 1), stride=(1, 1))\n          (relu): ReLU()\n          (fc2): Conv2d(16, 256, kernel_size=(1, 1), stride=(1, 1))\n          (sigmoid): Sigmoid()\n        )\n        (spatial_attention): SpatialAttention(\n          (conv): Conv2d(2, 1, kernel_size=(7, 7), stride=(1, 1), padding=(3, 3))\n          (sigmoid): Sigmoid()\n        )\n      )\n      (shortcut): Identity()\n    )\n    (13): CBAMBlock(\n      (conv1): Conv2d(256, 256, kernel_size=(3, 3), stride=(1, 1), padding=(1, 1), bias=False)\n      (bn1): BatchNorm2d(256, eps=1e-05, momentum=0.1, affine=True, track_running_stats=True)\n      (conv2): Conv2d(256, 256, kernel_size=(3, 3), stride=(1, 1), padding=(1, 1), bias=False)\n      (bn2): BatchNorm2d(256, eps=1e-05, momentum=0.1, affine=True, track_running_stats=True)\n      (cbam): CBAMAttentionBlock(\n        (channel_attention): ChannelAttention(\n          (avg_pool): AdaptiveAvgPool2d(output_size=1)\n          (max_pool): AdaptiveMaxPool2d(output_size=1)\n          (fc1): Conv2d(256, 16, kernel_size=(1, 1), stride=(1, 1))\n          (relu): ReLU()\n          (fc2): Conv2d(16, 256, kernel_size=(1, 1), stride=(1, 1))\n          (sigmoid): Sigmoid()\n        )\n        (spatial_attention): SpatialAttention(\n          (conv): Conv2d(2, 1, kernel_size=(7, 7), stride=(1, 1), padding=(3, 3))\n          (sigmoid): Sigmoid()\n        )\n      )\n      (shortcut): Identity()\n    )\n    (14): CBAMBlock(\n      (conv1): Conv2d(256, 256, kernel_size=(3, 3), stride=(1, 1), padding=(1, 1), bias=False)\n      (bn1): BatchNorm2d(256, eps=1e-05, momentum=0.1, affine=True, track_running_stats=True)\n      (conv2): Conv2d(256, 256, kernel_size=(3, 3), stride=(1, 1), padding=(1, 1), bias=False)\n      (bn2): BatchNorm2d(256, eps=1e-05, momentum=0.1, affine=True, track_running_stats=True)\n      (cbam): CBAMAttentionBlock(\n        (channel_attention): ChannelAttention(\n          (avg_pool): AdaptiveAvgPool2d(output_size=1)\n          (max_pool): AdaptiveMaxPool2d(output_size=1)\n          (fc1): Conv2d(256, 16, kernel_size=(1, 1), stride=(1, 1))\n          (relu): ReLU()\n          (fc2): Conv2d(16, 256, kernel_size=(1, 1), stride=(1, 1))\n          (sigmoid): Sigmoid()\n        )\n        (spatial_attention): SpatialAttention(\n          (conv): Conv2d(2, 1, kernel_size=(7, 7), stride=(1, 1), padding=(3, 3))\n          (sigmoid): Sigmoid()\n        )\n      )\n      (shortcut): Identity()\n    )\n    (15): CBAMBlock(\n      (conv1): Conv2d(256, 256, kernel_size=(3, 3), stride=(1, 1), padding=(1, 1), bias=False)\n      (bn1): BatchNorm2d(256, eps=1e-05, momentum=0.1, affine=True, track_running_stats=True)\n      (conv2): Conv2d(256, 256, kernel_size=(3, 3), stride=(1, 1), padding=(1, 1), bias=False)\n      (bn2): BatchNorm2d(256, eps=1e-05, momentum=0.1, affine=True, track_running_stats=True)\n      (cbam): CBAMAttentionBlock(\n        (channel_attention): ChannelAttention(\n          (avg_pool): AdaptiveAvgPool2d(output_size=1)\n          (max_pool): AdaptiveMaxPool2d(output_size=1)\n          (fc1): Conv2d(256, 16, kernel_size=(1, 1), stride=(1, 1))\n          (relu): ReLU()\n          (fc2): Conv2d(16, 256, kernel_size=(1, 1), stride=(1, 1))\n          (sigmoid): Sigmoid()\n        )\n        (spatial_attention): SpatialAttention(\n          (conv): Conv2d(2, 1, kernel_size=(7, 7), stride=(1, 1), padding=(3, 3))\n          (sigmoid): Sigmoid()\n        )\n      )\n      (shortcut): Identity()\n    )\n    (16): CBAMBlock(\n      (conv1): Conv2d(256, 256, kernel_size=(3, 3), stride=(1, 1), padding=(1, 1), bias=False)\n      (bn1): BatchNorm2d(256, eps=1e-05, momentum=0.1, affine=True, track_running_stats=True)\n      (conv2): Conv2d(256, 256, kernel_size=(3, 3), stride=(1, 1), padding=(1, 1), bias=False)\n      (bn2): BatchNorm2d(256, eps=1e-05, momentum=0.1, affine=True, track_running_stats=True)\n      (cbam): CBAMAttentionBlock(\n        (channel_attention): ChannelAttention(\n          (avg_pool): AdaptiveAvgPool2d(output_size=1)\n          (max_pool): AdaptiveMaxPool2d(output_size=1)\n          (fc1): Conv2d(256, 16, kernel_size=(1, 1), stride=(1, 1))\n          (relu): ReLU()\n          (fc2): Conv2d(16, 256, kernel_size=(1, 1), stride=(1, 1))\n          (sigmoid): Sigmoid()\n        )\n        (spatial_attention): SpatialAttention(\n          (conv): Conv2d(2, 1, kernel_size=(7, 7), stride=(1, 1), padding=(3, 3))\n          (sigmoid): Sigmoid()\n        )\n      )\n      (shortcut): Identity()\n    )\n    (17): CBAMBlock(\n      (conv1): Conv2d(256, 256, kernel_size=(3, 3), stride=(1, 1), padding=(1, 1), bias=False)\n      (bn1): BatchNorm2d(256, eps=1e-05, momentum=0.1, affine=True, track_running_stats=True)\n      (conv2): Conv2d(256, 256, kernel_size=(3, 3), stride=(1, 1), padding=(1, 1), bias=False)\n      (bn2): BatchNorm2d(256, eps=1e-05, momentum=0.1, affine=True, track_running_stats=True)\n      (cbam): CBAMAttentionBlock(\n        (channel_attention): ChannelAttention(\n          (avg_pool): AdaptiveAvgPool2d(output_size=1)\n          (max_pool): AdaptiveMaxPool2d(output_size=1)\n          (fc1): Conv2d(256, 16, kernel_size=(1, 1), stride=(1, 1))\n          (relu): ReLU()\n          (fc2): Conv2d(16, 256, kernel_size=(1, 1), stride=(1, 1))\n          (sigmoid): Sigmoid()\n        )\n        (spatial_attention): SpatialAttention(\n          (conv): Conv2d(2, 1, kernel_size=(7, 7), stride=(1, 1), padding=(3, 3))\n          (sigmoid): Sigmoid()\n        )\n      )\n      (shortcut): Identity()\n    )\n    (18): CBAMBlock(\n      (conv1): Conv2d(256, 256, kernel_size=(3, 3), stride=(1, 1), padding=(1, 1), bias=False)\n      (bn1): BatchNorm2d(256, eps=1e-05, momentum=0.1, affine=True, track_running_stats=True)\n      (conv2): Conv2d(256, 256, kernel_size=(3, 3), stride=(1, 1), padding=(1, 1), bias=False)\n      (bn2): BatchNorm2d(256, eps=1e-05, momentum=0.1, affine=True, track_running_stats=True)\n      (cbam): CBAMAttentionBlock(\n        (channel_attention): ChannelAttention(\n          (avg_pool): AdaptiveAvgPool2d(output_size=1)\n          (max_pool): AdaptiveMaxPool2d(output_size=1)\n          (fc1): Conv2d(256, 16, kernel_size=(1, 1), stride=(1, 1))\n          (relu): ReLU()\n          (fc2): Conv2d(16, 256, kernel_size=(1, 1), stride=(1, 1))\n          (sigmoid): Sigmoid()\n        )\n        (spatial_attention): SpatialAttention(\n          (conv): Conv2d(2, 1, kernel_size=(7, 7), stride=(1, 1), padding=(3, 3))\n          (sigmoid): Sigmoid()\n        )\n      )\n      (shortcut): Identity()\n    )\n    (19): CBAMBlock(\n      (conv1): Conv2d(256, 256, kernel_size=(3, 3), stride=(1, 1), padding=(1, 1), bias=False)\n      (bn1): BatchNorm2d(256, eps=1e-05, momentum=0.1, affine=True, track_running_stats=True)\n      (conv2): Conv2d(256, 256, kernel_size=(3, 3), stride=(1, 1), padding=(1, 1), bias=False)\n      (bn2): BatchNorm2d(256, eps=1e-05, momentum=0.1, affine=True, track_running_stats=True)\n      (cbam): CBAMAttentionBlock(\n        (channel_attention): ChannelAttention(\n          (avg_pool): AdaptiveAvgPool2d(output_size=1)\n          (max_pool): AdaptiveMaxPool2d(output_size=1)\n          (fc1): Conv2d(256, 16, kernel_size=(1, 1), stride=(1, 1))\n          (relu): ReLU()\n          (fc2): Conv2d(16, 256, kernel_size=(1, 1), stride=(1, 1))\n          (sigmoid): Sigmoid()\n        )\n        (spatial_attention): SpatialAttention(\n          (conv): Conv2d(2, 1, kernel_size=(7, 7), stride=(1, 1), padding=(3, 3))\n          (sigmoid): Sigmoid()\n        )\n      )\n      (shortcut): Identity()\n    )\n    (20): CBAMBlock(\n      (conv1): Conv2d(256, 256, kernel_size=(3, 3), stride=(1, 1), padding=(1, 1), bias=False)\n      (bn1): BatchNorm2d(256, eps=1e-05, momentum=0.1, affine=True, track_running_stats=True)\n      (conv2): Conv2d(256, 256, kernel_size=(3, 3), stride=(1, 1), padding=(1, 1), bias=False)\n      (bn2): BatchNorm2d(256, eps=1e-05, momentum=0.1, affine=True, track_running_stats=True)\n      (cbam): CBAMAttentionBlock(\n        (channel_attention): ChannelAttention(\n          (avg_pool): AdaptiveAvgPool2d(output_size=1)\n          (max_pool): AdaptiveMaxPool2d(output_size=1)\n          (fc1): Conv2d(256, 16, kernel_size=(1, 1), stride=(1, 1))\n          (relu): ReLU()\n          (fc2): Conv2d(16, 256, kernel_size=(1, 1), stride=(1, 1))\n          (sigmoid): Sigmoid()\n        )\n        (spatial_attention): SpatialAttention(\n          (conv): Conv2d(2, 1, kernel_size=(7, 7), stride=(1, 1), padding=(3, 3))\n          (sigmoid): Sigmoid()\n        )\n      )\n      (shortcut): Identity()\n    )\n    (21): CBAMBlock(\n      (conv1): Conv2d(256, 256, kernel_size=(3, 3), stride=(1, 1), padding=(1, 1), bias=False)\n      (bn1): BatchNorm2d(256, eps=1e-05, momentum=0.1, affine=True, track_running_stats=True)\n      (conv2): Conv2d(256, 256, kernel_size=(3, 3), stride=(1, 1), padding=(1, 1), bias=False)\n      (bn2): BatchNorm2d(256, eps=1e-05, momentum=0.1, affine=True, track_running_stats=True)\n      (cbam): CBAMAttentionBlock(\n        (channel_attention): ChannelAttention(\n          (avg_pool): AdaptiveAvgPool2d(output_size=1)\n          (max_pool): AdaptiveMaxPool2d(output_size=1)\n          (fc1): Conv2d(256, 16, kernel_size=(1, 1), stride=(1, 1))\n          (relu): ReLU()\n          (fc2): Conv2d(16, 256, kernel_size=(1, 1), stride=(1, 1))\n          (sigmoid): Sigmoid()\n        )\n        (spatial_attention): SpatialAttention(\n          (conv): Conv2d(2, 1, kernel_size=(7, 7), stride=(1, 1), padding=(3, 3))\n          (sigmoid): Sigmoid()\n        )\n      )\n      (shortcut): Identity()\n    )\n    (22): CBAMBlock(\n      (conv1): Conv2d(256, 256, kernel_size=(3, 3), stride=(1, 1), padding=(1, 1), bias=False)\n      (bn1): BatchNorm2d(256, eps=1e-05, momentum=0.1, affine=True, track_running_stats=True)\n      (conv2): Conv2d(256, 256, kernel_size=(3, 3), stride=(1, 1), padding=(1, 1), bias=False)\n      (bn2): BatchNorm2d(256, eps=1e-05, momentum=0.1, affine=True, track_running_stats=True)\n      (cbam): CBAMAttentionBlock(\n        (channel_attention): ChannelAttention(\n          (avg_pool): AdaptiveAvgPool2d(output_size=1)\n          (max_pool): AdaptiveMaxPool2d(output_size=1)\n          (fc1): Conv2d(256, 16, kernel_size=(1, 1), stride=(1, 1))\n          (relu): ReLU()\n          (fc2): Conv2d(16, 256, kernel_size=(1, 1), stride=(1, 1))\n          (sigmoid): Sigmoid()\n        )\n        (spatial_attention): SpatialAttention(\n          (conv): Conv2d(2, 1, kernel_size=(7, 7), stride=(1, 1), padding=(3, 3))\n          (sigmoid): Sigmoid()\n        )\n      )\n      (shortcut): Identity()\n    )\n  )\n  (layer4): Sequential(\n    (0): CBAMBlock(\n      (conv1): Conv2d(256, 512, kernel_size=(3, 3), stride=(2, 2), padding=(1, 1), bias=False)\n      (bn1): BatchNorm2d(512, eps=1e-05, momentum=0.1, affine=True, track_running_stats=True)\n      (conv2): Conv2d(512, 512, kernel_size=(3, 3), stride=(1, 1), padding=(1, 1), bias=False)\n      (bn2): BatchNorm2d(512, eps=1e-05, momentum=0.1, affine=True, track_running_stats=True)\n      (cbam): CBAMAttentionBlock(\n        (channel_attention): ChannelAttention(\n          (avg_pool): AdaptiveAvgPool2d(output_size=1)\n          (max_pool): AdaptiveMaxPool2d(output_size=1)\n          (fc1): Conv2d(512, 32, kernel_size=(1, 1), stride=(1, 1))\n          (relu): ReLU()\n          (fc2): Conv2d(32, 512, kernel_size=(1, 1), stride=(1, 1))\n          (sigmoid): Sigmoid()\n        )\n        (spatial_attention): SpatialAttention(\n          (conv): Conv2d(2, 1, kernel_size=(7, 7), stride=(1, 1), padding=(3, 3))\n          (sigmoid): Sigmoid()\n        )\n      )\n      (shortcut): Sequential(\n        (0): Conv2d(256, 512, kernel_size=(1, 1), stride=(2, 2), bias=False)\n        (1): BatchNorm2d(512, eps=1e-05, momentum=0.1, affine=True, track_running_stats=True)\n      )\n    )\n    (1): CBAMBlock(\n      (conv1): Conv2d(512, 512, kernel_size=(3, 3), stride=(1, 1), padding=(1, 1), bias=False)\n      (bn1): BatchNorm2d(512, eps=1e-05, momentum=0.1, affine=True, track_running_stats=True)\n      (conv2): Conv2d(512, 512, kernel_size=(3, 3), stride=(1, 1), padding=(1, 1), bias=False)\n      (bn2): BatchNorm2d(512, eps=1e-05, momentum=0.1, affine=True, track_running_stats=True)\n      (cbam): CBAMAttentionBlock(\n        (channel_attention): ChannelAttention(\n          (avg_pool): AdaptiveAvgPool2d(output_size=1)\n          (max_pool): AdaptiveMaxPool2d(output_size=1)\n          (fc1): Conv2d(512, 32, kernel_size=(1, 1), stride=(1, 1))\n          (relu): ReLU()\n          (fc2): Conv2d(32, 512, kernel_size=(1, 1), stride=(1, 1))\n          (sigmoid): Sigmoid()\n        )\n        (spatial_attention): SpatialAttention(\n          (conv): Conv2d(2, 1, kernel_size=(7, 7), stride=(1, 1), padding=(3, 3))\n          (sigmoid): Sigmoid()\n        )\n      )\n      (shortcut): Identity()\n    )\n    (2): CBAMBlock(\n      (conv1): Conv2d(512, 512, kernel_size=(3, 3), stride=(1, 1), padding=(1, 1), bias=False)\n      (bn1): BatchNorm2d(512, eps=1e-05, momentum=0.1, affine=True, track_running_stats=True)\n      (conv2): Conv2d(512, 512, kernel_size=(3, 3), stride=(1, 1), padding=(1, 1), bias=False)\n      (bn2): BatchNorm2d(512, eps=1e-05, momentum=0.1, affine=True, track_running_stats=True)\n      (cbam): CBAMAttentionBlock(\n        (channel_attention): ChannelAttention(\n          (avg_pool): AdaptiveAvgPool2d(output_size=1)\n          (max_pool): AdaptiveMaxPool2d(output_size=1)\n          (fc1): Conv2d(512, 32, kernel_size=(1, 1), stride=(1, 1))\n          (relu): ReLU()\n          (fc2): Conv2d(32, 512, kernel_size=(1, 1), stride=(1, 1))\n          (sigmoid): Sigmoid()\n        )\n        (spatial_attention): SpatialAttention(\n          (conv): Conv2d(2, 1, kernel_size=(7, 7), stride=(1, 1), padding=(3, 3))\n          (sigmoid): Sigmoid()\n        )\n      )\n      (shortcut): Identity()\n    )\n  )\n  (avgpool): AdaptiveAvgPool2d(output_size=(1, 1))\n  (fc): Linear(in_features=512, out_features=7, bias=True)\n)"
     },
     "execution_count": 18,
     "metadata": {},
     "output_type": "execute_result"
    }
   ],
   "source": [
    "from models import CBAMAttention\n",
    "\n",
    "net = CBAMAttention.resnet101_CBAM_attention(7)\n",
    "net"
   ],
   "metadata": {
    "collapsed": false,
    "pycharm": {
     "name": "#%%\n"
    }
   }
  },
  {
   "cell_type": "code",
   "execution_count": 19,
   "outputs": [
    {
     "name": "stdout",
     "output_type": "stream",
     "text": [
      "==> Building model..\n"
     ]
    }
   ],
   "source": [
    "if opt[\"resume\"]:\n",
    "    # Load checkpoint.\n",
    "    print('==> Resuming from checkpoint..')\n",
    "    assert os.path.isdir(path), 'Error: no checkpoint directory found!'\n",
    "    checkpoint = torch.load(os.path.join(path, 'Test_model.t7'))\n",
    "\n",
    "    net.load_state_dict(checkpoint['net'])\n",
    "    best_Test_acc = checkpoint['best_Test_acc']\n",
    "    best_Test_acc_epoch = checkpoint['best_Test_acc_epoch']\n",
    "    start_epoch = best_Test_acc_epoch + 1\n",
    "else:\n",
    "    print('==> Building model..')\n",
    "\n",
    "if use_cuda:\n",
    "    net.cuda()\n",
    "\n",
    "criterion = nn.CrossEntropyLoss()\n",
    "optimizer = optim.SGD(net.parameters(), lr=opt[\"lr\"], momentum=0.9, weight_decay=5e-4)\n"
   ],
   "metadata": {
    "collapsed": false,
    "pycharm": {
     "name": "#%%\n"
    }
   }
  },
  {
   "cell_type": "code",
   "execution_count": 20,
   "outputs": [
    {
     "name": "stderr",
     "output_type": "stream",
     "text": [
      "\u001B[34m\u001B[1mwandb\u001B[0m: Currently logged in as: \u001B[33maftermath0703\u001B[0m. Use \u001B[1m`wandb login --relogin`\u001B[0m to force relogin\n"
     ]
    },
    {
     "data": {
      "text/plain": "<IPython.core.display.HTML object>",
      "text/html": "Tracking run with wandb version 0.15.8"
     },
     "metadata": {},
     "output_type": "display_data"
    },
    {
     "data": {
      "text/plain": "<IPython.core.display.HTML object>",
      "text/html": "Run data is saved locally in <code>E:\\projects\\Facial-Expression-Recognition\\wandb\\run-20230817_101516-7i80oudu</code>"
     },
     "metadata": {},
     "output_type": "display_data"
    },
    {
     "data": {
      "text/plain": "<IPython.core.display.HTML object>",
      "text/html": "Syncing run <strong><a href='https://wandb.ai/aftermath0703/Face%20Expression%20Recognition/runs/7i80oudu' target=\"_blank\">radiant-dawn-16</a></strong> to <a href='https://wandb.ai/aftermath0703/Face%20Expression%20Recognition' target=\"_blank\">Weights & Biases</a> (<a href='https://wandb.me/run' target=\"_blank\">docs</a>)<br/>"
     },
     "metadata": {},
     "output_type": "display_data"
    },
    {
     "data": {
      "text/plain": "<IPython.core.display.HTML object>",
      "text/html": " View project at <a href='https://wandb.ai/aftermath0703/Face%20Expression%20Recognition' target=\"_blank\">https://wandb.ai/aftermath0703/Face%20Expression%20Recognition</a>"
     },
     "metadata": {},
     "output_type": "display_data"
    },
    {
     "data": {
      "text/plain": "<IPython.core.display.HTML object>",
      "text/html": " View run at <a href='https://wandb.ai/aftermath0703/Face%20Expression%20Recognition/runs/7i80oudu' target=\"_blank\">https://wandb.ai/aftermath0703/Face%20Expression%20Recognition/runs/7i80oudu</a>"
     },
     "metadata": {},
     "output_type": "display_data"
    },
    {
     "name": "stdout",
     "output_type": "stream",
     "text": [
      "\n",
      "Epoch: 0\n",
      "learning_rate: 0.01\n"
     ]
    },
    {
     "name": "stderr",
     "output_type": "stream",
     "text": [
      "100%|██████████| 415/415 [00:46<00:00,  8.84it/s]\n",
      "15it [00:06,  2.44it/s]\n"
     ]
    },
    {
     "name": "stdout",
     "output_type": "stream",
     "text": [
      "Saving..\n",
      "best_Test_acc: 22.828\n",
      "\n",
      "Epoch: 1\n",
      "learning_rate: 0.01\n"
     ]
    },
    {
     "name": "stderr",
     "output_type": "stream",
     "text": [
      "100%|██████████| 415/415 [00:47<00:00,  8.77it/s]\n",
      "15it [00:06,  2.44it/s]\n"
     ]
    },
    {
     "name": "stdout",
     "output_type": "stream",
     "text": [
      "Saving..\n",
      "best_Test_acc: 46.308\n",
      "\n",
      "Epoch: 2\n",
      "learning_rate: 0.01\n"
     ]
    },
    {
     "name": "stderr",
     "output_type": "stream",
     "text": [
      "100%|██████████| 415/415 [00:46<00:00,  8.85it/s]\n",
      "15it [00:06,  2.38it/s]\n"
     ]
    },
    {
     "name": "stdout",
     "output_type": "stream",
     "text": [
      "Saving..\n",
      "best_Test_acc: 51.059\n",
      "\n",
      "Epoch: 3\n",
      "learning_rate: 0.01\n"
     ]
    },
    {
     "name": "stderr",
     "output_type": "stream",
     "text": [
      "100%|██████████| 415/415 [00:47<00:00,  8.72it/s]\n",
      "15it [00:06,  2.42it/s]\n"
     ]
    },
    {
     "name": "stdout",
     "output_type": "stream",
     "text": [
      "Saving..\n",
      "best_Test_acc: 53.990\n",
      "\n",
      "Epoch: 4\n",
      "learning_rate: 0.01\n"
     ]
    },
    {
     "name": "stderr",
     "output_type": "stream",
     "text": [
      "100%|██████████| 415/415 [00:46<00:00,  8.90it/s]\n",
      "15it [00:06,  2.46it/s]\n"
     ]
    },
    {
     "name": "stdout",
     "output_type": "stream",
     "text": [
      "\n",
      "Epoch: 5\n",
      "learning_rate: 0.01\n"
     ]
    },
    {
     "name": "stderr",
     "output_type": "stream",
     "text": [
      "100%|██████████| 415/415 [00:47<00:00,  8.78it/s]\n",
      "15it [00:06,  2.45it/s]\n"
     ]
    },
    {
     "name": "stdout",
     "output_type": "stream",
     "text": [
      "Saving..\n",
      "best_Test_acc: 57.546\n",
      "\n",
      "Epoch: 6\n",
      "learning_rate: 0.01\n"
     ]
    },
    {
     "name": "stderr",
     "output_type": "stream",
     "text": [
      "100%|██████████| 415/415 [00:46<00:00,  8.88it/s]\n",
      "15it [00:06,  2.43it/s]\n"
     ]
    },
    {
     "name": "stdout",
     "output_type": "stream",
     "text": [
      "Saving..\n",
      "best_Test_acc: 59.066\n",
      "\n",
      "Epoch: 7\n",
      "learning_rate: 0.01\n"
     ]
    },
    {
     "name": "stderr",
     "output_type": "stream",
     "text": [
      "100%|██████████| 415/415 [00:47<00:00,  8.76it/s]\n",
      "15it [00:06,  2.40it/s]\n"
     ]
    },
    {
     "name": "stdout",
     "output_type": "stream",
     "text": [
      "\n",
      "Epoch: 8\n",
      "learning_rate: 0.01\n"
     ]
    },
    {
     "name": "stderr",
     "output_type": "stream",
     "text": [
      "100%|██████████| 415/415 [00:47<00:00,  8.80it/s]\n",
      "15it [00:06,  2.44it/s]\n"
     ]
    },
    {
     "name": "stdout",
     "output_type": "stream",
     "text": [
      "\n",
      "Epoch: 9\n",
      "learning_rate: 0.01\n"
     ]
    },
    {
     "name": "stderr",
     "output_type": "stream",
     "text": [
      "100%|██████████| 415/415 [00:47<00:00,  8.70it/s]\n",
      "15it [00:06,  2.41it/s]\n"
     ]
    },
    {
     "name": "stdout",
     "output_type": "stream",
     "text": [
      "\n",
      "Epoch: 10\n",
      "learning_rate: 0.01\n"
     ]
    },
    {
     "name": "stderr",
     "output_type": "stream",
     "text": [
      "100%|██████████| 415/415 [00:47<00:00,  8.82it/s]\n",
      "15it [00:06,  2.43it/s]\n"
     ]
    },
    {
     "name": "stdout",
     "output_type": "stream",
     "text": [
      "\n",
      "Epoch: 11\n",
      "learning_rate: 0.01\n"
     ]
    },
    {
     "name": "stderr",
     "output_type": "stream",
     "text": [
      "100%|██████████| 415/415 [00:47<00:00,  8.71it/s]\n",
      "15it [00:06,  2.41it/s]\n"
     ]
    },
    {
     "name": "stdout",
     "output_type": "stream",
     "text": [
      "Saving..\n",
      "best_Test_acc: 59.663\n",
      "\n",
      "Epoch: 12\n",
      "learning_rate: 0.01\n"
     ]
    },
    {
     "name": "stderr",
     "output_type": "stream",
     "text": [
      "100%|██████████| 415/415 [00:47<00:00,  8.70it/s]\n",
      "15it [00:06,  2.40it/s]\n"
     ]
    },
    {
     "name": "stdout",
     "output_type": "stream",
     "text": [
      "Saving..\n",
      "best_Test_acc: 62.405\n",
      "\n",
      "Epoch: 13\n",
      "learning_rate: 0.01\n"
     ]
    },
    {
     "name": "stderr",
     "output_type": "stream",
     "text": [
      "100%|██████████| 415/415 [00:47<00:00,  8.79it/s]\n",
      "15it [00:06,  2.42it/s]\n"
     ]
    },
    {
     "name": "stdout",
     "output_type": "stream",
     "text": [
      "\n",
      "Epoch: 14\n",
      "learning_rate: 0.01\n"
     ]
    },
    {
     "name": "stderr",
     "output_type": "stream",
     "text": [
      "100%|██████████| 415/415 [00:47<00:00,  8.70it/s]\n",
      "15it [00:06,  2.40it/s]\n"
     ]
    },
    {
     "name": "stdout",
     "output_type": "stream",
     "text": [
      "\n",
      "Epoch: 15\n",
      "learning_rate: 0.01\n"
     ]
    },
    {
     "name": "stderr",
     "output_type": "stream",
     "text": [
      "100%|██████████| 415/415 [00:47<00:00,  8.81it/s]\n",
      "15it [00:06,  2.40it/s]\n"
     ]
    },
    {
     "name": "stdout",
     "output_type": "stream",
     "text": [
      "\n",
      "Epoch: 16\n",
      "learning_rate: 0.01\n"
     ]
    },
    {
     "name": "stderr",
     "output_type": "stream",
     "text": [
      "100%|██████████| 415/415 [00:47<00:00,  8.70it/s]\n",
      "15it [00:06,  2.40it/s]\n"
     ]
    },
    {
     "name": "stdout",
     "output_type": "stream",
     "text": [
      "\n",
      "Epoch: 17\n",
      "learning_rate: 0.01\n"
     ]
    },
    {
     "name": "stderr",
     "output_type": "stream",
     "text": [
      "100%|██████████| 415/415 [00:47<00:00,  8.73it/s]\n",
      "15it [00:06,  2.41it/s]\n"
     ]
    },
    {
     "name": "stdout",
     "output_type": "stream",
     "text": [
      "\n",
      "Epoch: 18\n",
      "learning_rate: 0.01\n"
     ]
    },
    {
     "name": "stderr",
     "output_type": "stream",
     "text": [
      "100%|██████████| 415/415 [00:47<00:00,  8.70it/s]\n",
      "15it [00:06,  2.41it/s]\n"
     ]
    },
    {
     "name": "stdout",
     "output_type": "stream",
     "text": [
      "\n",
      "Epoch: 19\n",
      "learning_rate: 0.01\n"
     ]
    },
    {
     "name": "stderr",
     "output_type": "stream",
     "text": [
      "100%|██████████| 415/415 [00:47<00:00,  8.80it/s]\n",
      "15it [00:06,  2.18it/s]\n"
     ]
    },
    {
     "name": "stdout",
     "output_type": "stream",
     "text": [
      "\n",
      "Epoch: 20\n",
      "learning_rate: 0.01\n"
     ]
    },
    {
     "name": "stderr",
     "output_type": "stream",
     "text": [
      "100%|██████████| 415/415 [00:47<00:00,  8.81it/s]\n",
      "15it [00:06,  2.41it/s]\n"
     ]
    },
    {
     "name": "stdout",
     "output_type": "stream",
     "text": [
      "\n",
      "Epoch: 21\n",
      "learning_rate: 0.008\n"
     ]
    },
    {
     "name": "stderr",
     "output_type": "stream",
     "text": [
      "100%|██████████| 415/415 [00:46<00:00,  8.95it/s]\n",
      "15it [00:03,  4.22it/s]\n"
     ]
    },
    {
     "name": "stdout",
     "output_type": "stream",
     "text": [
      "\n",
      "Epoch: 22\n",
      "learning_rate: 0.006400000000000001\n"
     ]
    },
    {
     "name": "stderr",
     "output_type": "stream",
     "text": [
      "100%|██████████| 415/415 [00:22<00:00, 18.80it/s]\n",
      "15it [00:03,  4.21it/s]\n"
     ]
    },
    {
     "name": "stdout",
     "output_type": "stream",
     "text": [
      "Saving..\n",
      "best_Test_acc: 63.572\n",
      "\n",
      "Epoch: 23\n",
      "learning_rate: 0.005120000000000001\n"
     ]
    },
    {
     "name": "stderr",
     "output_type": "stream",
     "text": [
      "100%|██████████| 415/415 [00:21<00:00, 18.98it/s]\n",
      "15it [00:03,  4.24it/s]\n"
     ]
    },
    {
     "name": "stdout",
     "output_type": "stream",
     "text": [
      "Saving..\n",
      "best_Test_acc: 65.499\n",
      "\n",
      "Epoch: 24\n",
      "learning_rate: 0.004096000000000001\n"
     ]
    },
    {
     "name": "stderr",
     "output_type": "stream",
     "text": [
      "100%|██████████| 415/415 [00:21<00:00, 18.93it/s]\n",
      "15it [00:03,  4.23it/s]\n"
     ]
    },
    {
     "name": "stdout",
     "output_type": "stream",
     "text": [
      "\n",
      "Epoch: 25\n",
      "learning_rate: 0.0032768000000000007\n"
     ]
    },
    {
     "name": "stderr",
     "output_type": "stream",
     "text": [
      "100%|██████████| 415/415 [00:21<00:00, 19.00it/s]\n",
      "15it [00:03,  4.23it/s]\n"
     ]
    },
    {
     "name": "stdout",
     "output_type": "stream",
     "text": [
      "\n",
      "Epoch: 26\n",
      "learning_rate: 0.002621440000000001\n"
     ]
    },
    {
     "name": "stderr",
     "output_type": "stream",
     "text": [
      "100%|██████████| 415/415 [00:21<00:00, 19.04it/s]\n",
      "15it [00:03,  4.22it/s]\n"
     ]
    },
    {
     "name": "stdout",
     "output_type": "stream",
     "text": [
      "Saving..\n",
      "best_Test_acc: 66.069\n",
      "\n",
      "Epoch: 27\n",
      "learning_rate: 0.002097152000000001\n"
     ]
    },
    {
     "name": "stderr",
     "output_type": "stream",
     "text": [
      "100%|██████████| 415/415 [00:21<00:00, 19.01it/s]\n",
      "15it [00:03,  4.18it/s]\n"
     ]
    },
    {
     "name": "stdout",
     "output_type": "stream",
     "text": [
      "\n",
      "Epoch: 28\n",
      "learning_rate: 0.001677721600000001\n"
     ]
    },
    {
     "name": "stderr",
     "output_type": "stream",
     "text": [
      "100%|██████████| 415/415 [00:21<00:00, 19.12it/s]\n",
      "15it [00:03,  4.22it/s]\n"
     ]
    },
    {
     "name": "stdout",
     "output_type": "stream",
     "text": [
      "\n",
      "Epoch: 29\n",
      "learning_rate: 0.0013421772800000006\n"
     ]
    },
    {
     "name": "stderr",
     "output_type": "stream",
     "text": [
      "100%|██████████| 415/415 [00:21<00:00, 19.14it/s]\n",
      "15it [00:03,  4.24it/s]\n"
     ]
    },
    {
     "name": "stdout",
     "output_type": "stream",
     "text": [
      "Saving..\n",
      "best_Test_acc: 66.667\n",
      "\n",
      "Epoch: 30\n",
      "learning_rate: 0.0010737418240000006\n"
     ]
    },
    {
     "name": "stderr",
     "output_type": "stream",
     "text": [
      "100%|██████████| 415/415 [00:21<00:00, 19.01it/s]\n",
      "15it [00:03,  4.15it/s]\n"
     ]
    },
    {
     "name": "stdout",
     "output_type": "stream",
     "text": [
      "\n",
      "Epoch: 31\n",
      "learning_rate: 0.0008589934592000006\n"
     ]
    },
    {
     "name": "stderr",
     "output_type": "stream",
     "text": [
      "100%|██████████| 415/415 [00:22<00:00, 18.75it/s]\n",
      "15it [00:03,  4.20it/s]\n"
     ]
    },
    {
     "name": "stdout",
     "output_type": "stream",
     "text": [
      "\n",
      "Epoch: 32\n",
      "learning_rate: 0.0006871947673600004\n"
     ]
    },
    {
     "name": "stderr",
     "output_type": "stream",
     "text": [
      "100%|██████████| 415/415 [00:21<00:00, 18.88it/s]\n",
      "15it [00:03,  4.18it/s]\n"
     ]
    },
    {
     "name": "stdout",
     "output_type": "stream",
     "text": [
      "Saving..\n",
      "best_Test_acc: 66.748\n",
      "\n",
      "Epoch: 33\n",
      "learning_rate: 0.0005497558138880004\n"
     ]
    },
    {
     "name": "stderr",
     "output_type": "stream",
     "text": [
      "100%|██████████| 415/415 [00:21<00:00, 18.97it/s]\n",
      "15it [00:03,  4.15it/s]\n"
     ]
    },
    {
     "name": "stdout",
     "output_type": "stream",
     "text": [
      "\n",
      "Epoch: 34\n",
      "learning_rate: 0.00043980465111040037\n"
     ]
    },
    {
     "name": "stderr",
     "output_type": "stream",
     "text": [
      "100%|██████████| 415/415 [00:21<00:00, 19.02it/s]\n",
      "15it [00:03,  4.21it/s]\n"
     ]
    },
    {
     "name": "stdout",
     "output_type": "stream",
     "text": [
      "\n",
      "Epoch: 35\n",
      "learning_rate: 0.0003518437208883203\n"
     ]
    },
    {
     "name": "stderr",
     "output_type": "stream",
     "text": [
      "100%|██████████| 415/415 [00:21<00:00, 19.04it/s]\n",
      "15it [00:03,  4.16it/s]\n"
     ]
    },
    {
     "name": "stdout",
     "output_type": "stream",
     "text": [
      "\n",
      "Epoch: 36\n",
      "learning_rate: 0.00028147497671065624\n"
     ]
    },
    {
     "name": "stderr",
     "output_type": "stream",
     "text": [
      "100%|██████████| 415/415 [00:22<00:00, 18.41it/s]\n",
      "15it [00:03,  4.21it/s]\n"
     ]
    },
    {
     "name": "stdout",
     "output_type": "stream",
     "text": [
      "\n",
      "Epoch: 37\n",
      "learning_rate: 0.00022517998136852504\n"
     ]
    },
    {
     "name": "stderr",
     "output_type": "stream",
     "text": [
      "100%|██████████| 415/415 [00:21<00:00, 19.00it/s]\n",
      "15it [00:03,  4.20it/s]\n"
     ]
    },
    {
     "name": "stdout",
     "output_type": "stream",
     "text": [
      "\n",
      "Epoch: 38\n",
      "learning_rate: 0.00018014398509482002\n"
     ]
    },
    {
     "name": "stderr",
     "output_type": "stream",
     "text": [
      "100%|██████████| 415/415 [00:21<00:00, 19.02it/s]\n",
      "15it [00:03,  4.18it/s]\n"
     ]
    },
    {
     "name": "stdout",
     "output_type": "stream",
     "text": [
      "Saving..\n",
      "best_Test_acc: 67.047\n",
      "\n",
      "Epoch: 39\n",
      "learning_rate: 0.00014411518807585602\n"
     ]
    },
    {
     "name": "stderr",
     "output_type": "stream",
     "text": [
      "100%|██████████| 415/415 [00:21<00:00, 18.90it/s]\n",
      "15it [00:03,  4.21it/s]\n"
     ]
    },
    {
     "name": "stdout",
     "output_type": "stream",
     "text": [
      "Saving..\n",
      "best_Test_acc: 67.237\n",
      "\n",
      "Epoch: 40\n",
      "learning_rate: 0.00011529215046068484\n"
     ]
    },
    {
     "name": "stderr",
     "output_type": "stream",
     "text": [
      "100%|██████████| 415/415 [00:21<00:00, 18.96it/s]\n",
      "15it [00:03,  4.21it/s]\n"
     ]
    },
    {
     "name": "stdout",
     "output_type": "stream",
     "text": [
      "\n",
      "Epoch: 41\n",
      "learning_rate: 9.223372036854788e-05\n"
     ]
    },
    {
     "name": "stderr",
     "output_type": "stream",
     "text": [
      "100%|██████████| 415/415 [00:21<00:00, 19.06it/s]\n",
      "15it [00:03,  4.15it/s]\n"
     ]
    },
    {
     "name": "stdout",
     "output_type": "stream",
     "text": [
      "\n",
      "Epoch: 42\n",
      "learning_rate: 7.37869762948383e-05\n"
     ]
    },
    {
     "name": "stderr",
     "output_type": "stream",
     "text": [
      "100%|██████████| 415/415 [00:21<00:00, 18.96it/s]\n",
      "15it [00:03,  4.20it/s]\n"
     ]
    },
    {
     "name": "stdout",
     "output_type": "stream",
     "text": [
      "\n",
      "Epoch: 43\n",
      "learning_rate: 5.902958103587064e-05\n"
     ]
    },
    {
     "name": "stderr",
     "output_type": "stream",
     "text": [
      "100%|██████████| 415/415 [00:21<00:00, 19.08it/s]\n",
      "15it [00:03,  4.23it/s]\n"
     ]
    },
    {
     "name": "stdout",
     "output_type": "stream",
     "text": [
      "\n",
      "Epoch: 44\n",
      "learning_rate: 4.722366482869652e-05\n"
     ]
    },
    {
     "name": "stderr",
     "output_type": "stream",
     "text": [
      "100%|██████████| 415/415 [00:21<00:00, 19.12it/s]\n",
      "15it [00:03,  4.13it/s]\n"
     ]
    },
    {
     "name": "stdout",
     "output_type": "stream",
     "text": [
      "\n",
      "Epoch: 45\n",
      "learning_rate: 3.777893186295722e-05\n"
     ]
    },
    {
     "name": "stderr",
     "output_type": "stream",
     "text": [
      "100%|██████████| 415/415 [00:21<00:00, 19.03it/s]\n",
      "15it [00:03,  4.21it/s]\n"
     ]
    },
    {
     "name": "stdout",
     "output_type": "stream",
     "text": [
      "\n",
      "Epoch: 46\n",
      "learning_rate: 3.0223145490365776e-05\n"
     ]
    },
    {
     "name": "stderr",
     "output_type": "stream",
     "text": [
      "100%|██████████| 415/415 [00:21<00:00, 18.94it/s]\n",
      "15it [00:03,  4.14it/s]\n"
     ]
    },
    {
     "name": "stdout",
     "output_type": "stream",
     "text": [
      "\n",
      "Epoch: 47\n",
      "learning_rate: 2.417851639229262e-05\n"
     ]
    },
    {
     "name": "stderr",
     "output_type": "stream",
     "text": [
      "100%|██████████| 415/415 [00:21<00:00, 19.07it/s]\n",
      "15it [00:03,  4.24it/s]\n"
     ]
    },
    {
     "name": "stdout",
     "output_type": "stream",
     "text": [
      "\n",
      "Epoch: 48\n",
      "learning_rate: 1.9342813113834096e-05\n"
     ]
    },
    {
     "name": "stderr",
     "output_type": "stream",
     "text": [
      "100%|██████████| 415/415 [00:21<00:00, 18.92it/s]\n",
      "15it [00:03,  4.21it/s]\n"
     ]
    },
    {
     "name": "stdout",
     "output_type": "stream",
     "text": [
      "\n",
      "Epoch: 49\n",
      "learning_rate: 1.547425049106728e-05\n"
     ]
    },
    {
     "name": "stderr",
     "output_type": "stream",
     "text": [
      "100%|██████████| 415/415 [00:21<00:00, 18.97it/s]\n",
      "15it [00:03,  4.18it/s]\n"
     ]
    },
    {
     "name": "stdout",
     "output_type": "stream",
     "text": [
      "\n",
      "Epoch: 50\n",
      "learning_rate: 1.2379400392853824e-05\n"
     ]
    },
    {
     "name": "stderr",
     "output_type": "stream",
     "text": [
      "100%|██████████| 415/415 [00:21<00:00, 19.05it/s]\n",
      "15it [00:03,  4.17it/s]\n"
     ]
    },
    {
     "name": "stdout",
     "output_type": "stream",
     "text": [
      "\n",
      "Epoch: 51\n",
      "learning_rate: 9.903520314283058e-06\n"
     ]
    },
    {
     "name": "stderr",
     "output_type": "stream",
     "text": [
      "100%|██████████| 415/415 [00:21<00:00, 19.01it/s]\n",
      "15it [00:03,  4.25it/s]\n"
     ]
    },
    {
     "name": "stdout",
     "output_type": "stream",
     "text": [
      "\n",
      "Epoch: 52\n",
      "learning_rate: 7.922816251426448e-06\n"
     ]
    },
    {
     "name": "stderr",
     "output_type": "stream",
     "text": [
      "100%|██████████| 415/415 [00:21<00:00, 19.01it/s]\n",
      "15it [00:03,  4.23it/s]\n"
     ]
    },
    {
     "name": "stdout",
     "output_type": "stream",
     "text": [
      "\n",
      "Epoch: 53\n",
      "learning_rate: 6.338253001141158e-06\n"
     ]
    },
    {
     "name": "stderr",
     "output_type": "stream",
     "text": [
      "100%|██████████| 415/415 [00:21<00:00, 19.11it/s]\n",
      "15it [00:03,  4.21it/s]\n"
     ]
    },
    {
     "name": "stdout",
     "output_type": "stream",
     "text": [
      "\n",
      "Epoch: 54\n",
      "learning_rate: 5.0706024009129275e-06\n"
     ]
    },
    {
     "name": "stderr",
     "output_type": "stream",
     "text": [
      "100%|██████████| 415/415 [00:21<00:00, 18.98it/s]\n",
      "15it [00:03,  4.19it/s]\n"
     ]
    },
    {
     "name": "stdout",
     "output_type": "stream",
     "text": [
      "\n",
      "Epoch: 55\n",
      "learning_rate: 4.056481920730342e-06\n"
     ]
    },
    {
     "name": "stderr",
     "output_type": "stream",
     "text": [
      "100%|██████████| 415/415 [00:22<00:00, 18.36it/s]\n",
      "15it [00:03,  4.24it/s]\n"
     ]
    },
    {
     "name": "stdout",
     "output_type": "stream",
     "text": [
      "\n",
      "Epoch: 56\n",
      "learning_rate: 3.2451855365842735e-06\n"
     ]
    },
    {
     "name": "stderr",
     "output_type": "stream",
     "text": [
      "100%|██████████| 415/415 [00:21<00:00, 19.07it/s]\n",
      "15it [00:03,  4.15it/s]\n"
     ]
    },
    {
     "name": "stdout",
     "output_type": "stream",
     "text": [
      "\n",
      "Epoch: 57\n",
      "learning_rate: 2.5961484292674196e-06\n"
     ]
    },
    {
     "name": "stderr",
     "output_type": "stream",
     "text": [
      "100%|██████████| 415/415 [00:21<00:00, 19.12it/s]\n",
      "15it [00:03,  4.20it/s]\n"
     ]
    },
    {
     "name": "stdout",
     "output_type": "stream",
     "text": [
      "\n",
      "Epoch: 58\n",
      "learning_rate: 2.0769187434139356e-06\n"
     ]
    },
    {
     "name": "stderr",
     "output_type": "stream",
     "text": [
      "100%|██████████| 415/415 [00:21<00:00, 19.04it/s]\n",
      "15it [00:03,  4.13it/s]\n"
     ]
    },
    {
     "name": "stdout",
     "output_type": "stream",
     "text": [
      "\n",
      "Epoch: 59\n",
      "learning_rate: 1.6615349947311485e-06\n"
     ]
    },
    {
     "name": "stderr",
     "output_type": "stream",
     "text": [
      "100%|██████████| 415/415 [00:21<00:00, 19.05it/s]\n",
      "15it [00:03,  4.18it/s]"
     ]
    },
    {
     "name": "stdout",
     "output_type": "stream",
     "text": [
      "best_Test_acc: 67.237\n",
      "best_Test_acc_epoch: 39\n"
     ]
    },
    {
     "name": "stderr",
     "output_type": "stream",
     "text": [
      "\n"
     ]
    },
    {
     "data": {
      "text/plain": "<IPython.core.display.HTML object>",
      "text/html": "Waiting for W&B process to finish... <strong style=\"color:green\">(success).</strong>"
     },
     "metadata": {},
     "output_type": "display_data"
    },
    {
     "data": {
      "text/plain": "<IPython.core.display.HTML object>",
      "text/html": "<style>\n    table.wandb td:nth-child(1) { padding: 0 10px; text-align: left ; width: auto;} td:nth-child(2) {text-align: left ; width: 100%}\n    .wandb-row { display: flex; flex-direction: row; flex-wrap: wrap; justify-content: flex-start; width: 100% }\n    .wandb-col { display: flex; flex-direction: column; flex-basis: 100%; flex: 1; padding: 10px; }\n    </style>\n<div class=\"wandb-row\"><div class=\"wandb-col\"><h3>Run history:</h3><br/><table class=\"wandb\"><tr><td>Learning Rate</td><td>██████████████▇▅▄▃▂▂▂▂▁▁▁▁▁▁▁▁▁▁▁▁▁▁▁▁▁▁</td></tr><tr><td>Test Acc</td><td>▁▅▆▆▇▇▇▆▇▇▆▇▆▅▇▇████████████████████████</td></tr><tr><td>Test Loss</td><td>█▃▃▂▂▂▂▂▁▁▂▁▂▃▁▁▁▁▂▂▂▂▃▃▃▃▃▃▃▃▃▃▃▃▃▃▃▃▃▃</td></tr><tr><td>Train Acc</td><td>▁▂▃▃▄▄▄▄▄▄▅▅▅▅▅▆▆▇▇▇▇███████████████████</td></tr><tr><td>Train Loss</td><td>█▇▆▆▆▅▅▅▅▅▅▄▄▄▄▃▃▃▂▂▂▂▁▁▁▁▁▁▁▁▁▁▁▁▁▁▁▁▁▁</td></tr></table><br/></div><div class=\"wandb-col\"><h3>Run summary:</h3><br/><table class=\"wandb\"><tr><td>Learning Rate</td><td>0.0</td></tr><tr><td>Test Acc</td><td>66.66666</td></tr><tr><td>Test Loss</td><td>19.84895</td></tr><tr><td>Train Acc</td><td>96.91079</td></tr><tr><td>Train Loss</td><td>37.49591</td></tr></table><br/></div></div>"
     },
     "metadata": {},
     "output_type": "display_data"
    },
    {
     "data": {
      "text/plain": "<IPython.core.display.HTML object>",
      "text/html": " View run <strong style=\"color:#cdcd00\">radiant-dawn-16</strong> at: <a href='https://wandb.ai/aftermath0703/Face%20Expression%20Recognition/runs/7i80oudu' target=\"_blank\">https://wandb.ai/aftermath0703/Face%20Expression%20Recognition/runs/7i80oudu</a><br/> View job at <a href='https://wandb.ai/aftermath0703/Face%20Expression%20Recognition/jobs/QXJ0aWZhY3RDb2xsZWN0aW9uOjkwODU2NTEx/version_details/v0' target=\"_blank\">https://wandb.ai/aftermath0703/Face%20Expression%20Recognition/jobs/QXJ0aWZhY3RDb2xsZWN0aW9uOjkwODU2NTEx/version_details/v0</a><br/>Synced 5 W&B file(s), 0 media file(s), 0 artifact file(s) and 0 other file(s)"
     },
     "metadata": {},
     "output_type": "display_data"
    },
    {
     "data": {
      "text/plain": "<IPython.core.display.HTML object>",
      "text/html": "Find logs at: <code>.\\wandb\\run-20230817_101516-7i80oudu\\logs</code>"
     },
     "metadata": {},
     "output_type": "display_data"
    }
   ],
   "source": [
    "all_predicted = None\n",
    "all_targets = None\n",
    "import wandb\n",
    "\n",
    "wandb.init(project=\"Face Expression Recognition\", entity=\"aftermath0703\")\n",
    "for epoch in range(start_epoch, total_epoch):\n",
    "    train_loss, train_acc, current_lr = train(epoch)\n",
    "    all_predicted, all_targets, test_loss, test_acc = test(epoch=epoch, all_predicted=all_predicted,\n",
    "                                                           all_targets=all_targets,\n",
    "                                                           model_name=\"ResNet101 CBAMAttention.pth\")\n",
    "    wandb.log({\"Train Loss\": train_loss,\n",
    "               \"Test Loss\": test_loss,\n",
    "               \"Train Acc\": train_acc,\n",
    "               \"Test Acc\": test_acc,\n",
    "               \"Learning Rate\": current_lr})\n",
    "    # print(all_predicted, all_targets)\n",
    "\n",
    "print(\"best_Test_acc: %0.3f\" % best_Test_acc)\n",
    "print(\"best_Test_acc_epoch: %d\" % best_Test_acc_epoch)\n",
    "wandb.finish()"
   ],
   "metadata": {
    "collapsed": false,
    "pycharm": {
     "name": "#%%\n"
    }
   }
  },
  {
   "cell_type": "code",
   "execution_count": 21,
   "outputs": [
    {
     "name": "stdout",
     "output_type": "stream",
     "text": [
      "Normalized confusion matrix\n",
      "[[0.61 0.   0.07 0.05 0.11 0.14 0.02]\n",
      " [0.14 0.68 0.04 0.03 0.03 0.06 0.03]\n",
      " [0.1  0.   0.47 0.03 0.12 0.21 0.07]\n",
      " [0.02 0.   0.01 0.87 0.05 0.04 0.01]\n",
      " [0.07 0.   0.04 0.08 0.62 0.18 0.01]\n",
      " [0.08 0.   0.12 0.06 0.15 0.57 0.01]\n",
      " [0.02 0.   0.07 0.04 0.04 0.03 0.8 ]]\n"
     ]
    },
    {
     "data": {
      "text/plain": "<Figure size 1000x800 with 2 Axes>",
      "image/png": "[encoded data removed]"
     },
     "metadata": {},
     "output_type": "display_data"
    }
   ],
   "source": [
    "import itertools\n",
    "from matplotlib import pyplot as plt\n",
    "\n",
    "\n",
    "def plot_confusion_matrix(cm, classes,\n",
    "                          normalize=False,\n",
    "                          title='Confusion matrix',\n",
    "                          cmap=plt.cm.Blues):\n",
    "    \"\"\"\n",
    "    This function prints and plots the confusion matrix.\n",
    "    Normalization can be applied by setting `normalize=True`.\n",
    "    \"\"\"\n",
    "\n",
    "    if normalize:\n",
    "        cm = cm.astype('float') / cm.sum(axis=1)[:, np.newaxis]\n",
    "        print(\"Normalized confusion matrix\")\n",
    "    else:\n",
    "        print('Confusion matrix, without normalization')\n",
    "\n",
    "    print(cm)\n",
    "\n",
    "    plt.imshow(cm, interpolation='nearest', cmap=cmap)\n",
    "    plt.title(title, fontsize=16)\n",
    "    plt.colorbar()\n",
    "    tick_marks = np.arange(len(classes))\n",
    "    plt.xticks(tick_marks, classes, rotation=45)\n",
    "    plt.yticks(tick_marks, classes)\n",
    "\n",
    "    fmt = '.2f' if normalize else 'd'\n",
    "    thresh = cm.max() / 2.\n",
    "    for i, j in itertools.product(range(cm.shape[0]), range(cm.shape[1])):\n",
    "        plt.text(j, i, format(cm[i, j], fmt),\n",
    "                 horizontalalignment=\"center\",\n",
    "                 color=\"white\" if cm[i, j] > thresh else \"black\")\n",
    "\n",
    "    plt.ylabel('True label', fontsize=18)\n",
    "    plt.xlabel('Predicted label', fontsize=18)\n",
    "    plt.tight_layout()\n",
    "\n",
    "\n",
    "from matplotlib import pyplot as plt\n",
    "from sklearn.metrics import confusion_matrix\n",
    "\n",
    "class_names = ['Angry', 'Disgust', 'Fear', 'Happy', 'Sad', 'Surprise', 'Contempt']\n",
    "\n",
    "# Compute confusion matrix\n",
    "matrix = confusion_matrix(all_targets.data.cpu().numpy(), all_predicted.cpu().numpy())\n",
    "np.set_printoptions(precision=2)\n",
    "\n",
    "# Plot normalized confusion matrix\n",
    "plt.figure(figsize=(10, 8))\n",
    "plot_confusion_matrix(matrix, classes=class_names, normalize=True,\n",
    "                      title='ResNet101 with CBAM Attention Confusion Matrix (Accuracy: %0.3f%%)' % best_Test_acc)\n",
    "plt.show()\n",
    "plt.savefig(os.path.join(opt[\"dataset\"] + '_' + opt[\"model\"], 'ResNet101 with CBAMAttention Confusion Matrix.png'))\n",
    "plt.close()"
   ],
   "metadata": {
    "collapsed": false,
    "pycharm": {
     "name": "#%%\n"
    }
   }
  },
  {
   "cell_type": "code",
   "execution_count": 21,
   "outputs": [],
   "source": [],
   "metadata": {
    "collapsed": false,
    "pycharm": {
     "name": "#%%\n"
    }
   }
  }
 ],
 "metadata": {
  "kernelspec": {
   "display_name": "Python 3",
   "language": "python",
   "name": "python3"
  },
  "language_info": {
   "codemirror_mode": {
    "name": "ipython",
    "version": 2
   },
   "file_extension": ".py",
   "mimetype": "text/x-python",
   "name": "python",
   "nbconvert_exporter": "python",
   "pygments_lexer": "ipython2",
   "version": "2.7.6"
  }
 },
 "nbformat": 4,
 "nbformat_minor": 0
}