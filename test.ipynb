{
 "cells": [
  {
   "cell_type": "code",
   "execution_count": 1,
   "metadata": {
    "collapsed": true
   },
   "outputs": [
    {
     "name": "stdout",
     "output_type": "stream",
     "text": [
      "['CK+48\\\\angry', 'CK+48\\\\disgust', 'CK+48\\\\fear', 'CK+48\\\\happy', 'CK+48\\\\neutral', 'CK+48\\\\sad', 'CK+48\\\\surprise', 'fer\\\\all\\\\angry', 'fer\\\\all\\\\disgust', 'fer\\\\all\\\\fear', 'fer\\\\all\\\\happy', 'fer\\\\all\\\\neutral', 'fer\\\\all\\\\sad', 'fer\\\\all\\\\surprise']\n"
     ]
    }
   ],
   "source": [
    "import csv\n",
    "import os\n",
    "import numpy as np\n",
    "import h5py\n",
    "import skimage.io\n",
    "\n",
    "from glob import glob\n",
    "img_path_list = glob(\"CK+48\\\\*\") + glob(\"fer\\\\all\\\\*\")\n",
    "print(img_path_list)"
   ]
  },
  {
   "cell_type": "code",
   "execution_count": 2,
   "outputs": [],
   "source": [
    "# Creat the list to store the data and label information\n",
    "# train_pixel = []\n",
    "# train_label = []\n",
    "# test_pixel = []\n",
    "# test_label = []\n",
    "data_pixel = {}\n",
    "data_label = {}\n",
    "datapath = os.path.join('data','all_data.npy')\n",
    "if not os.path.exists(os.path.dirname(datapath)):\n",
    "    os.makedirs(os.path.dirname(datapath))"
   ],
   "metadata": {
    "collapsed": false,
    "pycharm": {
     "name": "#%%\n"
    }
   }
  },
  {
   "cell_type": "code",
   "execution_count": 3,
   "outputs": [],
   "source": [
    "import random\n",
    "import torch\n",
    "\n",
    "def setup_seed(seed):\n",
    "     torch.manual_seed(seed)\n",
    "     torch.cuda.manual_seed_all(seed)\n",
    "     np.random.seed(seed)\n",
    "     random.seed(seed)\n",
    "     torch.backends.cudnn.deterministic = True\n",
    "# 设置随机数种子\n",
    "setup_seed(3407)"
   ],
   "metadata": {
    "collapsed": false,
    "pycharm": {
     "name": "#%%\n"
    }
   }
  },
  {
   "cell_type": "code",
   "execution_count": 4,
   "outputs": [],
   "source": [
    "for i, img_path in enumerate(img_path_list):\n",
    "    tag = img_path.split(\"\\\\\")[-1]\n",
    "    data_pixel.setdefault(tag, [])\n",
    "    data_label.setdefault(tag, [])\n",
    "    files = os.listdir(img_path)\n",
    "    files.sort()\n",
    "    length = len(files)\n",
    "    for j, filename in enumerate(files):\n",
    "        I = skimage.io.imread(os.path.join(img_path,filename))\n",
    "        data_pixel[tag].append(I.tolist())\n",
    "        data_label[tag].append(i%7)\n",
    "        # if j<length*0.8:\n",
    "        #     train_pixel.append(I.tolist())\n",
    "        #     train_label.append(i)\n",
    "        # else:\n",
    "        #     test_pixel.append(I.tolist())\n",
    "        #     test_label.append(i)"
   ],
   "metadata": {
    "collapsed": false,
    "pycharm": {
     "name": "#%%\n"
    }
   }
  },
  {
   "cell_type": "code",
   "source": [
    "print(len(data_pixel))\n",
    "print(len(data_label))"
   ],
   "metadata": {
    "collapsed": false,
    "pycharm": {
     "name": "#%%\n"
    }
   },
   "execution_count": 5,
   "outputs": [
    {
     "name": "stdout",
     "output_type": "stream",
     "text": [
      "7\n",
      "7\n"
     ]
    }
   ]
  },
  {
   "cell_type": "code",
   "execution_count": 6,
   "outputs": [],
   "source": [
    "from PIL import Image\n",
    "import numpy as np\n",
    "import h5py\n",
    "import torch.utils.data as data\n",
    "\n",
    "\n",
    "class CustomDataset(data.Dataset):\n",
    "    \"\"\"\n",
    "    Args:\n",
    "        train (bool, optional): If True, creates dataset from training set, otherwise\n",
    "            creates from test set.\n",
    "        transform (callable, optional): A function/transform that  takes in an PIL image\n",
    "            and returns a transformed version. E.g, ``transforms.RandomCrop``\n",
    "    \"\"\"\n",
    "\n",
    "    def __init__(self, data_pixel, data_label, fold=1, transform=None):\n",
    "        self.transform = transform\n",
    "        self.fold = fold  # the k-fold cross validation\n",
    "        self.data_pixel = data_pixel\n",
    "        self.data_label = data_label\n",
    "\n",
    "\n",
    "    def __getitem__(self, index):\n",
    "        \"\"\"\n",
    "        Args:\n",
    "            index (int): Index\n",
    "\n",
    "        Returns:\n",
    "            tuple: (image, target) where target is index of the target class.\n",
    "        \"\"\"\n",
    "        img, target = np.array(self.data_pixel[index]), self.data_label[index]\n",
    "        # doing this so that it is consistent with all other datasets\n",
    "        # to return a PIL Image\n",
    "        img = img[:, :, np.newaxis]\n",
    "        img = np.concatenate((img, img, img), axis=2)\n",
    "        img = img.astype(np.uint8)\n",
    "        img = Image.fromarray(img)\n",
    "        if self.transform is not None:\n",
    "            img = self.transform(img)\n",
    "        return img, target\n",
    "\n",
    "    def __len__(self):\n",
    "        return len(self.data_pixel)\n"
   ],
   "metadata": {
    "collapsed": false,
    "pycharm": {
     "name": "#%%\n"
    }
   }
  },
  {
   "cell_type": "code",
   "execution_count": 7,
   "outputs": [],
   "source": [
    "from sklearn.model_selection import StratifiedKFold\n",
    "from torch.autograd import Variable\n",
    "import utils\n",
    "from torch import nn, optim\n",
    "from models import ResNet18, VGG\n",
    "import transforms\n",
    "import torch\n",
    "\n",
    "use_cuda = torch.cuda.is_available()\n",
    "opt = {\n",
    "    \"model\": \"ResNet101\",\n",
    "    \"dataset\": \"all\",\n",
    "    \"fold\": 10,\n",
    "    \"train_bs\": 64,\n",
    "    \"test_bs\": 256,\n",
    "    \"val_bs\":256,\n",
    "    \"lr\": 0.01,\n",
    "    \"resume\": None,\n",
    "}\n",
    "\n",
    "\n",
    "best_Test_acc = 0  # best PrivateTest accuracy\n",
    "best_Test_acc_epoch = 0\n",
    "start_epoch = 0  # start from epoch 0 or last checkpoint epoch\n",
    "\n",
    "learning_rate_decay_start = 20  # 50\n",
    "learning_rate_decay_every = 1  # 5\n",
    "learning_rate_decay_rate = 0.8  # 0.9\n",
    "\n",
    "cut_size = 44\n",
    "total_epoch = 60\n",
    "\n",
    "path = os.path.join(opt[\"dataset\"] + '_' + opt[\"model\"], str(opt[\"fold\"]))\n",
    "\n",
    "# Data\n",
    "transform_train = transforms.Compose([\n",
    "    transforms.RandomCrop(cut_size),\n",
    "    transforms.RandomHorizontalFlip(),\n",
    "    transforms.ToTensor(),\n",
    "])\n",
    "\n",
    "transform_test = transforms.Compose([\n",
    "    transforms.TenCrop(cut_size),\n",
    "    transforms.Lambda(lambda crops: torch.stack([transforms.ToTensor()(crop) for crop in crops])),\n",
    "])"
   ],
   "metadata": {
    "collapsed": false,
    "pycharm": {
     "name": "#%%\n"
    }
   }
  },
  {
   "cell_type": "code",
   "execution_count": 8,
   "outputs": [
    {
     "name": "stdout",
     "output_type": "stream",
     "text": [
      "26544\n",
      "6640\n",
      "3684\n"
     ]
    }
   ],
   "source": [
    "from sklearn.model_selection import train_test_split, KFold\n",
    "train_data = []\n",
    "val_data = []\n",
    "test_data = []\n",
    "train_labels = []\n",
    "val_labels = []\n",
    "test_labels = []\n",
    "skf = StratifiedKFold(n_splits=10, shuffle=True, random_state=3407)\n",
    "for tag in data_pixel.keys():\n",
    "    # print(\"************************************************************************************************\")\n",
    "    X = data_pixel[tag]\n",
    "    y = data_label[tag]\n",
    "    # print(\"X.len= \", len(X))\n",
    "    for train_val_index, test_index in skf.split(X, y):\n",
    "        train_val_X, test_X = [X[i] for i in train_val_index], [X[i] for i in test_index]\n",
    "        train_val_y, test_y = [y[i] for i in train_val_index], [y[i] for i in test_index]\n",
    "        # print(\"train_val_X.len= \", len(train_val_X))\n",
    "        # print(\"test_X.len= \", len(test_X))\n",
    "\n",
    "        train_X, val_X, train_y, val_y = train_test_split(train_val_X, train_val_y, test_size=0.2, random_state=3407)\n",
    "        # print(\"train_X.len= \", len(train_X))\n",
    "        # print(\"val_X.len= \", len(val_X))\n",
    "\n",
    "        # # print(len(train_X))\n",
    "    for i in train_X:\n",
    "        train_data.append(i)\n",
    "    for i in train_y:\n",
    "        train_labels.append(i)\n",
    "    for i in val_X:\n",
    "        val_data.append(i)\n",
    "    for i in val_y:\n",
    "        val_labels.append(i)\n",
    "    for i in test_X:\n",
    "        test_data.append(i)\n",
    "    for i in test_y:\n",
    "        test_labels.append(i)\n",
    "\n",
    "print(len(train_data))\n",
    "print(len(val_data))\n",
    "print(len(test_data))"
   ],
   "metadata": {
    "collapsed": false,
    "pycharm": {
     "name": "#%%\n"
    }
   }
  },
  {
   "cell_type": "code",
   "execution_count": 9,
   "outputs": [],
   "source": [
    "# def flat(data):\n",
    "#     return [i for sublist in data for i in sublist]"
   ],
   "metadata": {
    "collapsed": false,
    "pycharm": {
     "name": "#%%\n"
    }
   }
  },
  {
   "cell_type": "code",
   "execution_count": 10,
   "outputs": [
    {
     "ename": "TypeError",
     "evalue": "'int' object is not iterable",
     "output_type": "error",
     "traceback": [
      "\u001B[1;31m---------------------------------------------------------------------------\u001B[0m",
      "\u001B[1;31mTypeError\u001B[0m                                 Traceback (most recent call last)",
      "Cell \u001B[1;32mIn[10], line 2\u001B[0m\n\u001B[0;32m      1\u001B[0m train_data \u001B[38;5;241m=\u001B[39m flat(train_data)\n\u001B[1;32m----> 2\u001B[0m train_labels \u001B[38;5;241m=\u001B[39m \u001B[43mflat\u001B[49m\u001B[43m(\u001B[49m\u001B[43mtrain_labels\u001B[49m\u001B[43m)\u001B[49m\n\u001B[0;32m      3\u001B[0m val_data \u001B[38;5;241m=\u001B[39m flat(val_data)\n\u001B[0;32m      4\u001B[0m val_labels \u001B[38;5;241m=\u001B[39m flat(val_labels)\n",
      "Cell \u001B[1;32mIn[9], line 2\u001B[0m, in \u001B[0;36mflat\u001B[1;34m(data)\u001B[0m\n\u001B[0;32m      1\u001B[0m \u001B[38;5;28;01mdef\u001B[39;00m \u001B[38;5;21mflat\u001B[39m(data):\n\u001B[1;32m----> 2\u001B[0m     \u001B[38;5;28;01mreturn\u001B[39;00m [i \u001B[38;5;28;01mfor\u001B[39;00m sublist \u001B[38;5;129;01min\u001B[39;00m data \u001B[38;5;28;01mfor\u001B[39;00m i \u001B[38;5;129;01min\u001B[39;00m sublist]\n",
      "Cell \u001B[1;32mIn[9], line 2\u001B[0m, in \u001B[0;36m<listcomp>\u001B[1;34m(.0)\u001B[0m\n\u001B[0;32m      1\u001B[0m \u001B[38;5;28;01mdef\u001B[39;00m \u001B[38;5;21mflat\u001B[39m(data):\n\u001B[1;32m----> 2\u001B[0m     \u001B[38;5;28;01mreturn\u001B[39;00m [i \u001B[38;5;28;01mfor\u001B[39;00m sublist \u001B[38;5;129;01min\u001B[39;00m data \u001B[38;5;28;01mfor\u001B[39;00m i \u001B[38;5;129;01min\u001B[39;00m sublist]\n",
      "\u001B[1;31mTypeError\u001B[0m: 'int' object is not iterable"
     ]
    }
   ],
   "source": [
    "# train_data = flat(train_data)\n",
    "# train_labels = flat(train_labels)\n",
    "# val_data = flat(val_data)\n",
    "# val_labels = flat(val_labels)\n",
    "# test_data = flat(test_data)\n",
    "# test_labels = flat(test_labels)\n",
    "#\n",
    "# print(len(train_data))\n",
    "# print(len(val_data))\n",
    "# print(len(test_data))"
   ],
   "metadata": {
    "collapsed": false,
    "pycharm": {
     "name": "#%%\n"
    }
   }
  },
  {
   "cell_type": "code",
   "execution_count": 34,
   "outputs": [
    {
     "ename": "TypeError",
     "evalue": "only integer scalar arrays can be converted to a scalar index",
     "output_type": "error",
     "traceback": [
      "\u001B[1;31m---------------------------------------------------------------------------\u001B[0m",
      "\u001B[1;31mTypeError\u001B[0m                                 Traceback (most recent call last)",
      "Cell \u001B[1;32mIn[34], line 3\u001B[0m\n\u001B[0;32m      1\u001B[0m skf \u001B[38;5;241m=\u001B[39m StratifiedKFold(n_splits\u001B[38;5;241m=\u001B[39mopt[\u001B[38;5;124m\"\u001B[39m\u001B[38;5;124mfold\u001B[39m\u001B[38;5;124m\"\u001B[39m])\n\u001B[0;32m      2\u001B[0m train_val_indices, test_indices \u001B[38;5;241m=\u001B[39m \u001B[38;5;28mnext\u001B[39m(skf\u001B[38;5;241m.\u001B[39msplit(data_pixel, data_label))\n\u001B[1;32m----> 3\u001B[0m train_indices, val_indices \u001B[38;5;241m=\u001B[39m \u001B[38;5;28mnext\u001B[39m(skf\u001B[38;5;241m.\u001B[39msplit(\u001B[43mdata_pixel\u001B[49m\u001B[43m[\u001B[49m\u001B[43mtrain_val_indices\u001B[49m\u001B[43m]\u001B[49m, data_label[train_val_indices]))\n\u001B[0;32m      4\u001B[0m train_data \u001B[38;5;241m=\u001B[39m [data_pixel[i] \u001B[38;5;28;01mfor\u001B[39;00m i \u001B[38;5;129;01min\u001B[39;00m train_indices]\n\u001B[0;32m      5\u001B[0m train_labels \u001B[38;5;241m=\u001B[39m [data_label[i] \u001B[38;5;28;01mfor\u001B[39;00m i \u001B[38;5;129;01min\u001B[39;00m train_indices]\n",
      "\u001B[1;31mTypeError\u001B[0m: only integer scalar arrays can be converted to a scalar index"
     ]
    }
   ],
   "source": [
    "\n",
    "# for train_index, test_index in skf.split(data_pixel, data_label):\n",
    "#     # print(train_index, test_index)\n",
    "#     # for i in train_index:\n",
    "#     #     print(i)\n",
    "#     train_data, test_data = [data_pixel[i] for i in train_index], [data_pixel[i] for i in test_index]\n",
    "#     train_labels, test_labels = [data_label[i] for i in train_index], [data_label[i] for i in test_index]"
   ],
   "metadata": {
    "collapsed": false,
    "pycharm": {
     "name": "#%%\n"
    }
   }
  },
  {
   "cell_type": "code",
   "execution_count": 9,
   "outputs": [
    {
     "name": "stdout",
     "output_type": "stream",
     "text": [
      "26544\n",
      "3684\n"
     ]
    }
   ],
   "source": [
    "print(len(train_data))\n",
    "print(len(test_data))"
   ],
   "metadata": {
    "collapsed": false,
    "pycharm": {
     "name": "#%%\n"
    }
   }
  },
  {
   "cell_type": "code",
   "execution_count": 10,
   "outputs": [],
   "source": [
    "trainset = CustomDataset(fold=opt[\"fold\"], transform=transform_train, data_pixel=train_data, data_label=train_labels)\n",
    "trainloader = torch.utils.data.DataLoader(trainset, batch_size=opt[\"train_bs\"], shuffle=True)\n",
    "testset = CustomDataset(fold=opt[\"fold\"], transform=transform_test, data_pixel=test_data, data_label=test_labels)\n",
    "testloader = torch.utils.data.DataLoader(testset, batch_size=opt[\"test_bs\"], shuffle=False)\n",
    "valset = CustomDataset(fold=opt[\"fold\"], transform=transform_test, data_pixel=val_data, data_label=val_labels)\n",
    "valloader = torch.utils.data.DataLoader(valset, batch_size=opt[\"val_bs\"], shuffle=False)\n"
   ],
   "metadata": {
    "collapsed": false,
    "pycharm": {
     "name": "#%%\n"
    }
   }
  },
  {
   "cell_type": "code",
   "execution_count": 11,
   "outputs": [
    {
     "name": "stdout",
     "output_type": "stream",
     "text": [
      "torch.Size([64, 3, 44, 44])\n",
      "torch.Size([64])\n"
     ]
    },
    {
     "name": "stderr",
     "output_type": "stream",
     "text": [
      "E:\\projects\\Facial-Expression-Recognition\\transforms\\functional.py:63: UserWarning: TypedStorage is deprecated. It will be removed in the future and UntypedStorage will be the only storage class. This should only matter to you if you are using storages directly.  To access UntypedStorage directly, use tensor.untyped_storage() instead of tensor.storage()\n",
      "  img = torch.ByteTensor(torch.ByteStorage.from_buffer(pic.tobytes()))\n"
     ]
    }
   ],
   "source": [
    "for batch_idx, (inputs, targets) in enumerate(trainloader):\n",
    "    print(inputs.shape)\n",
    "    print(targets.shape)\n",
    "    break"
   ],
   "metadata": {
    "collapsed": false,
    "pycharm": {
     "name": "#%%\n"
    }
   }
  },
  {
   "cell_type": "code",
   "execution_count": 12,
   "outputs": [],
   "source": [
    "from tqdm import tqdm\n",
    "\n",
    "# Training\n",
    "def train(epoch):\n",
    "    print('\\nEpoch: %d' % epoch)\n",
    "    global Train_acc\n",
    "    net.train()\n",
    "    train_loss = 0\n",
    "    correct = 0\n",
    "    total = 0\n",
    "\n",
    "    if epoch > learning_rate_decay_start >= 0:\n",
    "        frac = (epoch - learning_rate_decay_start) // learning_rate_decay_every\n",
    "        decay_factor = learning_rate_decay_rate ** frac\n",
    "        current_lr = opt[\"lr\"] * decay_factor\n",
    "        utils.set_lr(optimizer, current_lr)  # set the decayed rate\n",
    "    else:\n",
    "        current_lr = opt[\"lr\"]\n",
    "    print('learning_rate: %s' % str(current_lr))\n",
    "\n",
    "    for inputs, targets in tqdm(trainloader):\n",
    "        # print(batch_idx, (inputs, targets))\n",
    "        if use_cuda:\n",
    "            inputs, targets = inputs.cuda(), targets.cuda()\n",
    "        # print(inputs, targets)\n",
    "        optimizer.zero_grad()\n",
    "        # print(optimizer)\n",
    "        inputs, targets = Variable(inputs), Variable(targets)\n",
    "        # print(inputs, targets)\n",
    "        outputs = net(inputs)\n",
    "        loss = criterion(outputs, targets)\n",
    "        loss.backward()\n",
    "        utils.clip_gradient(optimizer, 0.1)\n",
    "        optimizer.step()\n",
    "\n",
    "        train_loss += loss.item()\n",
    "        _, predicted = torch.max(outputs.data, 1)\n",
    "        total += targets.size(0)\n",
    "        correct += predicted.eq(targets.data).cpu().sum()\n",
    "\n",
    "        # utils.progress_bar(batch_idx, len(trainloader), 'Loss: %.3f | Acc: %.3f%% (%d/%d)\\n'\n",
    "        #                    % (train_loss / (batch_idx + 1), 100. * correct / total, correct, total))\n",
    "\n",
    "\n",
    "\n",
    "    Train_acc = 100. * correct / total\n",
    "\n"
   ],
   "metadata": {
    "collapsed": false,
    "pycharm": {
     "name": "#%%\n"
    }
   }
  },
  {
   "cell_type": "code",
   "execution_count": 13,
   "outputs": [],
   "source": [
    "def test(epoch, all_predicted, all_targets):\n",
    "    global Test_acc\n",
    "    global best_Test_acc\n",
    "    global best_Test_acc_epoch\n",
    "\n",
    "    net.eval()\n",
    "    PrivateTest_loss = 0\n",
    "    correct = 0\n",
    "    total = 0\n",
    "    for batch_idx, (inputs, targets) in tqdm(enumerate(testloader)):\n",
    "        bs, ncrops, c, h, w = np.shape(inputs)\n",
    "        inputs = inputs.view(-1, c, h, w)\n",
    "\n",
    "        if use_cuda:\n",
    "            inputs, targets = inputs.cuda(), targets.cuda()\n",
    "        with torch.no_grad():\n",
    "            inputs, targets = Variable(inputs), Variable(targets)\n",
    "        outputs = net(inputs)\n",
    "        outputs_avg = outputs.view(bs, ncrops, -1).mean(1)  # avg over crops\n",
    "\n",
    "        loss = criterion(outputs_avg, targets)\n",
    "        PrivateTest_loss += loss.item()\n",
    "        _, predicted = torch.max(outputs_avg.data, 1)\n",
    "        total += targets.size(0)\n",
    "        correct += predicted.eq(targets.data).cpu().sum()\n",
    "\n",
    "        # utils.progress_bar(batch_idx, len(testloader), 'Loss: %.3f | Acc: %.3f%% (%d/%d)\\n'\n",
    "        #                    % (PrivateTest_loss / (batch_idx + 1), 100. * correct / total, correct, total))\n",
    "\n",
    "        if batch_idx == 0:\n",
    "            temp_all_predicted = predicted\n",
    "            temp_all_targets = targets\n",
    "        else:\n",
    "            temp_all_predicted = torch.cat((temp_all_predicted, predicted), 0)\n",
    "            temp_all_targets = torch.cat((temp_all_targets, targets), 0)\n",
    "\n",
    "    # Save checkpoint.\n",
    "    Test_acc = 100. * correct / total\n",
    "\n",
    "    if Test_acc > best_Test_acc:\n",
    "        print('Saving..')\n",
    "        print(\"best_Test_acc: %0.3f\" % Test_acc)\n",
    "        state = {'net': net.state_dict() if use_cuda else net,\n",
    "                 'best_Test_acc': Test_acc,\n",
    "                 'best_Test_acc_epoch': epoch,\n",
    "                 }\n",
    "        if not os.path.isdir(opt[\"dataset\"] + '_' + opt[\"model\"]):\n",
    "            os.mkdir(opt[\"dataset\"] + '_' + opt[\"model\"])\n",
    "        if not os.path.isdir(path):\n",
    "            os.mkdir(path)\n",
    "        torch.save(state, os.path.join(path, 'resnet101_SelfAttention_Test_model.t7'))\n",
    "        best_Test_acc = Test_acc\n",
    "        best_Test_acc_epoch = epoch\n",
    "        all_predicted = temp_all_predicted\n",
    "        all_targets = temp_all_targets\n",
    "        # print(\"test\", all_predicted, all_targets)\n",
    "\n",
    "    return all_predicted, all_targets\n"
   ],
   "metadata": {
    "collapsed": false,
    "pycharm": {
     "name": "#%%\n"
    }
   }
  },
  {
   "cell_type": "code",
   "execution_count": 14,
   "outputs": [],
   "source": [
    "def validate():\n",
    "    net.eval()\n",
    "    val_loss = 0\n",
    "    val_correct = 0\n",
    "    val_total = 0\n",
    "    with torch.no_grad():\n",
    "        for batch_idx, (inputs, targets) in enumerate(valloader):\n",
    "            bs, ncrops, c, h, w = np.shape(inputs)\n",
    "            inputs = inputs.view(-1, c, h, w)\n",
    "            if use_cuda:\n",
    "                inputs, targets = inputs.cuda(), targets.cuda()\n",
    "\n",
    "            inputs, targets = Variable(inputs), Variable(targets)\n",
    "            outputs = net(inputs)\n",
    "            outputs_avg = outputs.view(bs, ncrops, -1).mean(1)  # avg over crops\n",
    "            loss = criterion(outputs_avg, targets)\n",
    "            val_loss += loss.item()\n",
    "            _, predicted = torch.max(outputs_avg.data, 1)\n",
    "            val_total += targets.size(0)\n",
    "            val_correct += predicted.eq(targets.data).cpu().sum()\n",
    "            utils.progress_bar(batch_idx, len(valloader), 'Loss: %.3f | Acc: %.3f%% (%d/%d)\\n'\n",
    "                               % (val_loss / (batch_idx + 1), 100. * val_correct / val_total, val_correct, val_total))\n",
    "    val_acc = 100. * val_correct / val_total\n",
    "    return val_loss, val_acc"
   ],
   "metadata": {
    "collapsed": false,
    "pycharm": {
     "name": "#%%\n"
    }
   }
  },
  {
   "cell_type": "code",
   "execution_count": 24,
   "outputs": [],
   "source": [
    "# Model\n",
    "# if opt[\"model\"] == 'VGG19':\n",
    "#     net = VGG('VGG19')\n",
    "# elif opt[\"model\"] == 'ResNet18':\n",
    "#     net = ResNet18()\n"
   ],
   "metadata": {
    "collapsed": false,
    "pycharm": {
     "name": "#%%\n"
    }
   }
  },
  {
   "cell_type": "markdown",
   "source": [
    "# ResNet101"
   ],
   "metadata": {
    "collapsed": false
   }
  },
  {
   "cell_type": "code",
   "execution_count": 25,
   "outputs": [
    {
     "name": "stdout",
     "output_type": "stream",
     "text": [
      "==> Building model..\n"
     ]
    }
   ],
   "source": [
    "from models import resnet101\n",
    "net = resnet101.resnet101(num_classes=7)\n",
    "\n",
    "if opt[\"resume\"]:\n",
    "    # Load checkpoint.\n",
    "    print('==> Resuming from checkpoint..')\n",
    "    assert os.path.isdir(path), 'Error: no checkpoint directory found!'\n",
    "    checkpoint = torch.load(os.path.join(path, 'Test_model.t7'))\n",
    "\n",
    "    net.load_state_dict(checkpoint['net'])\n",
    "    best_Test_acc = checkpoint['best_Test_acc']\n",
    "    best_Test_acc_epoch = checkpoint['best_Test_acc_epoch']\n",
    "    start_epoch = best_Test_acc_epoch + 1\n",
    "else:\n",
    "    print('==> Building model..')\n",
    "\n",
    "if use_cuda:\n",
    "    net.cuda()\n",
    "\n",
    "criterion = nn.CrossEntropyLoss()\n",
    "optimizer = optim.SGD(net.parameters(), lr=opt[\"lr\"], momentum=0.9, weight_decay=5e-4)"
   ],
   "metadata": {
    "collapsed": false,
    "pycharm": {
     "name": "#%%\n"
    }
   }
  },
  {
   "cell_type": "code",
   "execution_count": 26,
   "outputs": [
    {
     "name": "stdout",
     "output_type": "stream",
     "text": [
      "\n",
      "Epoch: 0\n",
      "learning_rate: 0.01\n"
     ]
    },
    {
     "name": "stderr",
     "output_type": "stream",
     "text": [
      "100%|██████████| 415/415 [00:14<00:00, 27.99it/s]\n",
      "15it [00:03,  4.56it/s]\n"
     ]
    },
    {
     "name": "stdout",
     "output_type": "stream",
     "text": [
      "Saving..\n",
      "best_Test_acc: 21.960\n",
      "\n",
      "Epoch: 1\n",
      "learning_rate: 0.01\n"
     ]
    },
    {
     "name": "stderr",
     "output_type": "stream",
     "text": [
      "100%|██████████| 415/415 [00:11<00:00, 36.72it/s]\n",
      "15it [00:03,  4.72it/s]\n"
     ]
    },
    {
     "name": "stdout",
     "output_type": "stream",
     "text": [
      "Saving..\n",
      "best_Test_acc: 34.446\n",
      "\n",
      "Epoch: 2\n",
      "learning_rate: 0.01\n"
     ]
    },
    {
     "name": "stderr",
     "output_type": "stream",
     "text": [
      "100%|██████████| 415/415 [00:11<00:00, 36.72it/s]\n",
      "15it [00:03,  4.75it/s]\n"
     ]
    },
    {
     "name": "stdout",
     "output_type": "stream",
     "text": [
      "Saving..\n",
      "best_Test_acc: 46.118\n",
      "\n",
      "Epoch: 3\n",
      "learning_rate: 0.01\n"
     ]
    },
    {
     "name": "stderr",
     "output_type": "stream",
     "text": [
      "100%|██████████| 415/415 [00:11<00:00, 36.87it/s]\n",
      "15it [00:03,  4.76it/s]\n"
     ]
    },
    {
     "name": "stdout",
     "output_type": "stream",
     "text": [
      "Saving..\n",
      "best_Test_acc: 50.706\n",
      "\n",
      "Epoch: 4\n",
      "learning_rate: 0.01\n"
     ]
    },
    {
     "name": "stderr",
     "output_type": "stream",
     "text": [
      "100%|██████████| 415/415 [00:11<00:00, 36.89it/s]\n",
      "15it [00:03,  4.65it/s]\n"
     ]
    },
    {
     "name": "stdout",
     "output_type": "stream",
     "text": [
      "\n",
      "Epoch: 5\n",
      "learning_rate: 0.01\n"
     ]
    },
    {
     "name": "stderr",
     "output_type": "stream",
     "text": [
      "100%|██████████| 415/415 [00:11<00:00, 37.09it/s]\n",
      "15it [00:03,  4.77it/s]\n"
     ]
    },
    {
     "name": "stdout",
     "output_type": "stream",
     "text": [
      "Saving..\n",
      "best_Test_acc: 51.412\n",
      "\n",
      "Epoch: 6\n",
      "learning_rate: 0.01\n"
     ]
    },
    {
     "name": "stderr",
     "output_type": "stream",
     "text": [
      "100%|██████████| 415/415 [00:11<00:00, 37.05it/s]\n",
      "15it [00:03,  4.75it/s]\n"
     ]
    },
    {
     "name": "stdout",
     "output_type": "stream",
     "text": [
      "Saving..\n",
      "best_Test_acc: 52.090\n",
      "\n",
      "Epoch: 7\n",
      "learning_rate: 0.01\n"
     ]
    },
    {
     "name": "stderr",
     "output_type": "stream",
     "text": [
      "100%|██████████| 415/415 [00:11<00:00, 36.93it/s]\n",
      "15it [00:03,  4.80it/s]\n"
     ]
    },
    {
     "name": "stdout",
     "output_type": "stream",
     "text": [
      "Saving..\n",
      "best_Test_acc: 54.207\n",
      "\n",
      "Epoch: 8\n",
      "learning_rate: 0.01\n"
     ]
    },
    {
     "name": "stderr",
     "output_type": "stream",
     "text": [
      "100%|██████████| 415/415 [00:11<00:00, 37.00it/s]\n",
      "15it [00:03,  4.76it/s]\n"
     ]
    },
    {
     "name": "stdout",
     "output_type": "stream",
     "text": [
      "\n",
      "Epoch: 9\n",
      "learning_rate: 0.01\n"
     ]
    },
    {
     "name": "stderr",
     "output_type": "stream",
     "text": [
      "100%|██████████| 415/415 [00:11<00:00, 37.07it/s]\n",
      "15it [00:03,  4.76it/s]\n"
     ]
    },
    {
     "name": "stdout",
     "output_type": "stream",
     "text": [
      "Saving..\n",
      "best_Test_acc: 55.157\n",
      "\n",
      "Epoch: 10\n",
      "learning_rate: 0.01\n"
     ]
    },
    {
     "name": "stderr",
     "output_type": "stream",
     "text": [
      "100%|██████████| 415/415 [00:11<00:00, 37.07it/s]\n",
      "15it [00:03,  4.74it/s]\n"
     ]
    },
    {
     "name": "stdout",
     "output_type": "stream",
     "text": [
      "Saving..\n",
      "best_Test_acc: 58.035\n",
      "\n",
      "Epoch: 11\n",
      "learning_rate: 0.01\n"
     ]
    },
    {
     "name": "stderr",
     "output_type": "stream",
     "text": [
      "100%|██████████| 415/415 [00:11<00:00, 37.06it/s]\n",
      "15it [00:03,  4.77it/s]\n"
     ]
    },
    {
     "name": "stdout",
     "output_type": "stream",
     "text": [
      "Saving..\n",
      "best_Test_acc: 59.093\n",
      "\n",
      "Epoch: 12\n",
      "learning_rate: 0.01\n"
     ]
    },
    {
     "name": "stderr",
     "output_type": "stream",
     "text": [
      "100%|██████████| 415/415 [00:11<00:00, 37.05it/s]\n",
      "15it [00:03,  4.75it/s]\n"
     ]
    },
    {
     "name": "stdout",
     "output_type": "stream",
     "text": [
      "\n",
      "Epoch: 13\n",
      "learning_rate: 0.01\n"
     ]
    },
    {
     "name": "stderr",
     "output_type": "stream",
     "text": [
      "100%|██████████| 415/415 [00:11<00:00, 36.98it/s]\n",
      "15it [00:03,  4.76it/s]\n"
     ]
    },
    {
     "name": "stdout",
     "output_type": "stream",
     "text": [
      "Saving..\n",
      "best_Test_acc: 60.098\n",
      "\n",
      "Epoch: 14\n",
      "learning_rate: 0.01\n"
     ]
    },
    {
     "name": "stderr",
     "output_type": "stream",
     "text": [
      "100%|██████████| 415/415 [00:11<00:00, 36.86it/s]\n",
      "15it [00:03,  4.62it/s]\n"
     ]
    },
    {
     "name": "stdout",
     "output_type": "stream",
     "text": [
      "\n",
      "Epoch: 15\n",
      "learning_rate: 0.01\n"
     ]
    },
    {
     "name": "stderr",
     "output_type": "stream",
     "text": [
      "100%|██████████| 415/415 [00:11<00:00, 36.58it/s]\n",
      "15it [00:03,  4.68it/s]\n"
     ]
    },
    {
     "name": "stdout",
     "output_type": "stream",
     "text": [
      "\n",
      "Epoch: 16\n",
      "learning_rate: 0.01\n"
     ]
    },
    {
     "name": "stderr",
     "output_type": "stream",
     "text": [
      "100%|██████████| 415/415 [00:11<00:00, 36.60it/s]\n",
      "15it [00:03,  4.73it/s]\n"
     ]
    },
    {
     "name": "stdout",
     "output_type": "stream",
     "text": [
      "\n",
      "Epoch: 17\n",
      "learning_rate: 0.01\n"
     ]
    },
    {
     "name": "stderr",
     "output_type": "stream",
     "text": [
      "100%|██████████| 415/415 [00:11<00:00, 36.61it/s]\n",
      "15it [00:03,  4.73it/s]\n"
     ]
    },
    {
     "name": "stdout",
     "output_type": "stream",
     "text": [
      "Saving..\n",
      "best_Test_acc: 61.835\n",
      "\n",
      "Epoch: 18\n",
      "learning_rate: 0.01\n"
     ]
    },
    {
     "name": "stderr",
     "output_type": "stream",
     "text": [
      "100%|██████████| 415/415 [00:11<00:00, 36.65it/s]\n",
      "15it [00:03,  4.74it/s]\n"
     ]
    },
    {
     "name": "stdout",
     "output_type": "stream",
     "text": [
      "Saving..\n",
      "best_Test_acc: 62.215\n",
      "\n",
      "Epoch: 19\n",
      "learning_rate: 0.01\n"
     ]
    },
    {
     "name": "stderr",
     "output_type": "stream",
     "text": [
      "100%|██████████| 415/415 [00:11<00:00, 36.51it/s]\n",
      "15it [00:03,  4.70it/s]\n"
     ]
    },
    {
     "name": "stdout",
     "output_type": "stream",
     "text": [
      "\n",
      "Epoch: 20\n",
      "learning_rate: 0.01\n"
     ]
    },
    {
     "name": "stderr",
     "output_type": "stream",
     "text": [
      "100%|██████████| 415/415 [00:11<00:00, 36.71it/s]\n",
      "15it [00:03,  4.71it/s]\n"
     ]
    },
    {
     "name": "stdout",
     "output_type": "stream",
     "text": [
      "\n",
      "Epoch: 21\n",
      "learning_rate: 0.008\n"
     ]
    },
    {
     "name": "stderr",
     "output_type": "stream",
     "text": [
      "100%|██████████| 415/415 [00:11<00:00, 36.76it/s]\n",
      "15it [00:03,  4.70it/s]\n"
     ]
    },
    {
     "name": "stdout",
     "output_type": "stream",
     "text": [
      "Saving..\n",
      "best_Test_acc: 62.676\n",
      "\n",
      "Epoch: 22\n",
      "learning_rate: 0.006400000000000001\n"
     ]
    },
    {
     "name": "stderr",
     "output_type": "stream",
     "text": [
      "100%|██████████| 415/415 [00:11<00:00, 36.96it/s]\n",
      "15it [00:03,  4.64it/s]\n"
     ]
    },
    {
     "name": "stdout",
     "output_type": "stream",
     "text": [
      "Saving..\n",
      "best_Test_acc: 62.839\n",
      "\n",
      "Epoch: 23\n",
      "learning_rate: 0.005120000000000001\n"
     ]
    },
    {
     "name": "stderr",
     "output_type": "stream",
     "text": [
      "100%|██████████| 415/415 [00:11<00:00, 36.62it/s]\n",
      "15it [00:03,  4.71it/s]\n"
     ]
    },
    {
     "name": "stdout",
     "output_type": "stream",
     "text": [
      "\n",
      "Epoch: 24\n",
      "learning_rate: 0.004096000000000001\n"
     ]
    },
    {
     "name": "stderr",
     "output_type": "stream",
     "text": [
      "100%|██████████| 415/415 [00:11<00:00, 36.93it/s]\n",
      "15it [00:03,  4.72it/s]\n"
     ]
    },
    {
     "name": "stdout",
     "output_type": "stream",
     "text": [
      "Saving..\n",
      "best_Test_acc: 65.337\n",
      "\n",
      "Epoch: 25\n",
      "learning_rate: 0.0032768000000000007\n"
     ]
    },
    {
     "name": "stderr",
     "output_type": "stream",
     "text": [
      "100%|██████████| 415/415 [00:11<00:00, 36.87it/s]\n",
      "15it [00:03,  4.72it/s]\n"
     ]
    },
    {
     "name": "stdout",
     "output_type": "stream",
     "text": [
      "Saving..\n",
      "best_Test_acc: 65.499\n",
      "\n",
      "Epoch: 26\n",
      "learning_rate: 0.002621440000000001\n"
     ]
    },
    {
     "name": "stderr",
     "output_type": "stream",
     "text": [
      "100%|██████████| 415/415 [00:11<00:00, 36.71it/s]\n",
      "15it [00:03,  4.72it/s]\n"
     ]
    },
    {
     "name": "stdout",
     "output_type": "stream",
     "text": [
      "\n",
      "Epoch: 27\n",
      "learning_rate: 0.002097152000000001\n"
     ]
    },
    {
     "name": "stderr",
     "output_type": "stream",
     "text": [
      "100%|██████████| 415/415 [00:11<00:00, 36.98it/s]\n",
      "15it [00:03,  4.72it/s]\n"
     ]
    },
    {
     "name": "stdout",
     "output_type": "stream",
     "text": [
      "\n",
      "Epoch: 28\n",
      "learning_rate: 0.001677721600000001\n"
     ]
    },
    {
     "name": "stderr",
     "output_type": "stream",
     "text": [
      "100%|██████████| 415/415 [00:11<00:00, 37.07it/s]\n",
      "15it [00:03,  4.68it/s]\n"
     ]
    },
    {
     "name": "stdout",
     "output_type": "stream",
     "text": [
      "Saving..\n",
      "best_Test_acc: 65.744\n",
      "\n",
      "Epoch: 29\n",
      "learning_rate: 0.0013421772800000006\n"
     ]
    },
    {
     "name": "stderr",
     "output_type": "stream",
     "text": [
      "100%|██████████| 415/415 [00:11<00:00, 37.14it/s]\n",
      "15it [00:03,  4.71it/s]\n"
     ]
    },
    {
     "name": "stdout",
     "output_type": "stream",
     "text": [
      "Saving..\n",
      "best_Test_acc: 66.124\n",
      "\n",
      "Epoch: 30\n",
      "learning_rate: 0.0010737418240000006\n"
     ]
    },
    {
     "name": "stderr",
     "output_type": "stream",
     "text": [
      "100%|██████████| 415/415 [00:11<00:00, 37.04it/s]\n",
      "15it [00:03,  4.72it/s]\n"
     ]
    },
    {
     "name": "stdout",
     "output_type": "stream",
     "text": [
      "Saving..\n",
      "best_Test_acc: 66.205\n",
      "\n",
      "Epoch: 31\n",
      "learning_rate: 0.0008589934592000006\n"
     ]
    },
    {
     "name": "stderr",
     "output_type": "stream",
     "text": [
      "100%|██████████| 415/415 [00:11<00:00, 37.02it/s]\n",
      "15it [00:03,  4.65it/s]\n"
     ]
    },
    {
     "name": "stdout",
     "output_type": "stream",
     "text": [
      "Saving..\n",
      "best_Test_acc: 66.395\n",
      "\n",
      "Epoch: 32\n",
      "learning_rate: 0.0006871947673600004\n"
     ]
    },
    {
     "name": "stderr",
     "output_type": "stream",
     "text": [
      "100%|██████████| 415/415 [00:11<00:00, 37.06it/s]\n",
      "15it [00:03,  4.72it/s]\n"
     ]
    },
    {
     "name": "stdout",
     "output_type": "stream",
     "text": [
      "Saving..\n",
      "best_Test_acc: 66.450\n",
      "\n",
      "Epoch: 33\n",
      "learning_rate: 0.0005497558138880004\n"
     ]
    },
    {
     "name": "stderr",
     "output_type": "stream",
     "text": [
      "100%|██████████| 415/415 [00:11<00:00, 36.97it/s]\n",
      "15it [00:03,  4.74it/s]\n"
     ]
    },
    {
     "name": "stdout",
     "output_type": "stream",
     "text": [
      "\n",
      "Epoch: 34\n",
      "learning_rate: 0.00043980465111040037\n"
     ]
    },
    {
     "name": "stderr",
     "output_type": "stream",
     "text": [
      "100%|██████████| 415/415 [00:11<00:00, 37.14it/s]\n",
      "15it [00:03,  4.69it/s]\n"
     ]
    },
    {
     "name": "stdout",
     "output_type": "stream",
     "text": [
      "Saving..\n",
      "best_Test_acc: 67.155\n",
      "\n",
      "Epoch: 35\n",
      "learning_rate: 0.0003518437208883203\n"
     ]
    },
    {
     "name": "stderr",
     "output_type": "stream",
     "text": [
      "100%|██████████| 415/415 [00:11<00:00, 37.08it/s]\n",
      "15it [00:03,  4.74it/s]\n"
     ]
    },
    {
     "name": "stdout",
     "output_type": "stream",
     "text": [
      "\n",
      "Epoch: 36\n",
      "learning_rate: 0.00028147497671065624\n"
     ]
    },
    {
     "name": "stderr",
     "output_type": "stream",
     "text": [
      "100%|██████████| 415/415 [00:11<00:00, 37.07it/s]\n",
      "15it [00:03,  4.71it/s]\n"
     ]
    },
    {
     "name": "stdout",
     "output_type": "stream",
     "text": [
      "\n",
      "Epoch: 37\n",
      "learning_rate: 0.00022517998136852504\n"
     ]
    },
    {
     "name": "stderr",
     "output_type": "stream",
     "text": [
      "100%|██████████| 415/415 [00:11<00:00, 37.18it/s]\n",
      "15it [00:03,  4.75it/s]\n"
     ]
    },
    {
     "name": "stdout",
     "output_type": "stream",
     "text": [
      "\n",
      "Epoch: 38\n",
      "learning_rate: 0.00018014398509482002\n"
     ]
    },
    {
     "name": "stderr",
     "output_type": "stream",
     "text": [
      "100%|██████████| 415/415 [00:11<00:00, 37.18it/s]\n",
      "15it [00:03,  4.73it/s]\n"
     ]
    },
    {
     "name": "stdout",
     "output_type": "stream",
     "text": [
      "\n",
      "Epoch: 39\n",
      "learning_rate: 0.00014411518807585602\n"
     ]
    },
    {
     "name": "stderr",
     "output_type": "stream",
     "text": [
      "100%|██████████| 415/415 [00:11<00:00, 36.93it/s]\n",
      "15it [00:03,  4.71it/s]\n"
     ]
    },
    {
     "name": "stdout",
     "output_type": "stream",
     "text": [
      "\n",
      "Epoch: 40\n",
      "learning_rate: 0.00011529215046068484\n"
     ]
    },
    {
     "name": "stderr",
     "output_type": "stream",
     "text": [
      "100%|██████████| 415/415 [00:11<00:00, 36.90it/s]\n",
      "15it [00:03,  4.67it/s]\n"
     ]
    },
    {
     "name": "stdout",
     "output_type": "stream",
     "text": [
      "Saving..\n",
      "best_Test_acc: 67.182\n",
      "\n",
      "Epoch: 41\n",
      "learning_rate: 9.223372036854788e-05\n"
     ]
    },
    {
     "name": "stderr",
     "output_type": "stream",
     "text": [
      "100%|██████████| 415/415 [00:11<00:00, 36.67it/s]\n",
      "15it [00:03,  4.71it/s]\n"
     ]
    },
    {
     "name": "stdout",
     "output_type": "stream",
     "text": [
      "\n",
      "Epoch: 42\n",
      "learning_rate: 7.37869762948383e-05\n"
     ]
    },
    {
     "name": "stderr",
     "output_type": "stream",
     "text": [
      "100%|██████████| 415/415 [00:11<00:00, 36.92it/s]\n",
      "15it [00:03,  4.73it/s]\n"
     ]
    },
    {
     "name": "stdout",
     "output_type": "stream",
     "text": [
      "\n",
      "Epoch: 43\n",
      "learning_rate: 5.902958103587064e-05\n"
     ]
    },
    {
     "name": "stderr",
     "output_type": "stream",
     "text": [
      "100%|██████████| 415/415 [00:11<00:00, 36.16it/s]\n",
      "15it [00:03,  4.62it/s]\n"
     ]
    },
    {
     "name": "stdout",
     "output_type": "stream",
     "text": [
      "\n",
      "Epoch: 44\n",
      "learning_rate: 4.722366482869652e-05\n"
     ]
    },
    {
     "name": "stderr",
     "output_type": "stream",
     "text": [
      "100%|██████████| 415/415 [00:11<00:00, 36.17it/s]\n",
      "15it [00:03,  4.70it/s]\n"
     ]
    },
    {
     "name": "stdout",
     "output_type": "stream",
     "text": [
      "\n",
      "Epoch: 45\n",
      "learning_rate: 3.777893186295722e-05\n"
     ]
    },
    {
     "name": "stderr",
     "output_type": "stream",
     "text": [
      "100%|██████████| 415/415 [00:11<00:00, 36.86it/s]\n",
      "15it [00:03,  4.75it/s]\n"
     ]
    },
    {
     "name": "stdout",
     "output_type": "stream",
     "text": [
      "\n",
      "Epoch: 46\n",
      "learning_rate: 3.0223145490365776e-05\n"
     ]
    },
    {
     "name": "stderr",
     "output_type": "stream",
     "text": [
      "100%|██████████| 415/415 [00:11<00:00, 36.97it/s]\n",
      "15it [00:03,  4.73it/s]\n"
     ]
    },
    {
     "name": "stdout",
     "output_type": "stream",
     "text": [
      "\n",
      "Epoch: 47\n",
      "learning_rate: 2.417851639229262e-05\n"
     ]
    },
    {
     "name": "stderr",
     "output_type": "stream",
     "text": [
      "100%|██████████| 415/415 [00:11<00:00, 37.27it/s]\n",
      "15it [00:03,  4.73it/s]\n"
     ]
    },
    {
     "name": "stdout",
     "output_type": "stream",
     "text": [
      "\n",
      "Epoch: 48\n",
      "learning_rate: 1.9342813113834096e-05\n"
     ]
    },
    {
     "name": "stderr",
     "output_type": "stream",
     "text": [
      "100%|██████████| 415/415 [00:11<00:00, 37.32it/s]\n",
      "15it [00:03,  4.72it/s]\n"
     ]
    },
    {
     "name": "stdout",
     "output_type": "stream",
     "text": [
      "\n",
      "Epoch: 49\n",
      "learning_rate: 1.547425049106728e-05\n"
     ]
    },
    {
     "name": "stderr",
     "output_type": "stream",
     "text": [
      "100%|██████████| 415/415 [00:11<00:00, 37.34it/s]\n",
      "15it [00:03,  4.74it/s]\n"
     ]
    },
    {
     "name": "stdout",
     "output_type": "stream",
     "text": [
      "\n",
      "Epoch: 50\n",
      "learning_rate: 1.2379400392853824e-05\n"
     ]
    },
    {
     "name": "stderr",
     "output_type": "stream",
     "text": [
      "100%|██████████| 415/415 [00:11<00:00, 37.33it/s]\n",
      "15it [00:03,  4.74it/s]\n"
     ]
    },
    {
     "name": "stdout",
     "output_type": "stream",
     "text": [
      "\n",
      "Epoch: 51\n",
      "learning_rate: 9.903520314283058e-06\n"
     ]
    },
    {
     "name": "stderr",
     "output_type": "stream",
     "text": [
      "100%|██████████| 415/415 [00:11<00:00, 37.27it/s]\n",
      "15it [00:03,  4.74it/s]\n"
     ]
    },
    {
     "name": "stdout",
     "output_type": "stream",
     "text": [
      "\n",
      "Epoch: 52\n",
      "learning_rate: 7.922816251426448e-06\n"
     ]
    },
    {
     "name": "stderr",
     "output_type": "stream",
     "text": [
      "100%|██████████| 415/415 [00:11<00:00, 37.28it/s]\n",
      "15it [00:03,  4.73it/s]\n"
     ]
    },
    {
     "name": "stdout",
     "output_type": "stream",
     "text": [
      "\n",
      "Epoch: 53\n",
      "learning_rate: 6.338253001141158e-06\n"
     ]
    },
    {
     "name": "stderr",
     "output_type": "stream",
     "text": [
      "100%|██████████| 415/415 [00:11<00:00, 37.23it/s]\n",
      "15it [00:03,  4.74it/s]\n"
     ]
    },
    {
     "name": "stdout",
     "output_type": "stream",
     "text": [
      "\n",
      "Epoch: 54\n",
      "learning_rate: 5.0706024009129275e-06\n"
     ]
    },
    {
     "name": "stderr",
     "output_type": "stream",
     "text": [
      "100%|██████████| 415/415 [00:11<00:00, 37.30it/s]\n",
      "15it [00:03,  4.77it/s]\n"
     ]
    },
    {
     "name": "stdout",
     "output_type": "stream",
     "text": [
      "\n",
      "Epoch: 55\n",
      "learning_rate: 4.056481920730342e-06\n"
     ]
    },
    {
     "name": "stderr",
     "output_type": "stream",
     "text": [
      "100%|██████████| 415/415 [00:11<00:00, 37.21it/s]\n",
      "15it [00:03,  4.74it/s]\n"
     ]
    },
    {
     "name": "stdout",
     "output_type": "stream",
     "text": [
      "\n",
      "Epoch: 56\n",
      "learning_rate: 3.2451855365842735e-06\n"
     ]
    },
    {
     "name": "stderr",
     "output_type": "stream",
     "text": [
      "100%|██████████| 415/415 [00:11<00:00, 37.25it/s]\n",
      "15it [00:03,  4.76it/s]\n"
     ]
    },
    {
     "name": "stdout",
     "output_type": "stream",
     "text": [
      "\n",
      "Epoch: 57\n",
      "learning_rate: 2.5961484292674196e-06\n"
     ]
    },
    {
     "name": "stderr",
     "output_type": "stream",
     "text": [
      "100%|██████████| 415/415 [00:11<00:00, 37.31it/s]\n",
      "15it [00:03,  4.72it/s]\n"
     ]
    },
    {
     "name": "stdout",
     "output_type": "stream",
     "text": [
      "\n",
      "Epoch: 58\n",
      "learning_rate: 2.0769187434139356e-06\n"
     ]
    },
    {
     "name": "stderr",
     "output_type": "stream",
     "text": [
      "100%|██████████| 415/415 [00:11<00:00, 37.28it/s]\n",
      "15it [00:03,  4.76it/s]\n"
     ]
    },
    {
     "name": "stdout",
     "output_type": "stream",
     "text": [
      "\n",
      "Epoch: 59\n",
      "learning_rate: 1.6615349947311485e-06\n"
     ]
    },
    {
     "name": "stderr",
     "output_type": "stream",
     "text": [
      "100%|██████████| 415/415 [00:11<00:00, 37.22it/s]\n",
      "15it [00:03,  4.75it/s]"
     ]
    },
    {
     "name": "stdout",
     "output_type": "stream",
     "text": [
      "best_Test_acc: 67.182\n",
      "best_Test_acc_epoch: 40\n"
     ]
    },
    {
     "name": "stderr",
     "output_type": "stream",
     "text": [
      "\n"
     ]
    }
   ],
   "source": [
    "all_predicted = None\n",
    "all_targets = None\n",
    "\n",
    "for epoch in range(start_epoch, total_epoch):\n",
    "    train(epoch)\n",
    "    all_predicted, all_targets = test(epoch, all_predicted, all_targets)\n",
    "    # print(all_predicted, all_targets)\n",
    "\n",
    "print(\"best_Test_acc: %0.3f\" % best_Test_acc)\n",
    "print(\"best_Test_acc_epoch: %d\" % best_Test_acc_epoch)"
   ],
   "metadata": {
    "collapsed": false,
    "pycharm": {
     "name": "#%%\n"
    }
   }
  },
  {
   "cell_type": "code",
   "execution_count": 27,
   "outputs": [],
   "source": [
    "import itertools\n",
    "from matplotlib import pyplot as plt\n",
    "\n",
    "\n",
    "def plot_confusion_matrix(cm, classes,\n",
    "                          normalize=False,\n",
    "                          title='Confusion matrix',\n",
    "                          cmap=plt.cm.Blues):\n",
    "    \"\"\"\n",
    "    This function prints and plots the confusion matrix.\n",
    "    Normalization can be applied by setting `normalize=True`.\n",
    "    \"\"\"\n",
    "\n",
    "    if normalize:\n",
    "        cm = cm.astype('float') / cm.sum(axis=1)[:, np.newaxis]\n",
    "        print(\"Normalized confusion matrix\")\n",
    "    else:\n",
    "        print('Confusion matrix, without normalization')\n",
    "\n",
    "    print(cm)\n",
    "\n",
    "    plt.imshow(cm, interpolation='nearest', cmap=cmap)\n",
    "    plt.title(title, fontsize=16)\n",
    "    plt.colorbar()\n",
    "    tick_marks = np.arange(len(classes))\n",
    "    plt.xticks(tick_marks, classes, rotation=45)\n",
    "    plt.yticks(tick_marks, classes)\n",
    "\n",
    "    fmt = '.2f' if normalize else 'd'\n",
    "    thresh = cm.max() / 2.\n",
    "    for i, j in itertools.product(range(cm.shape[0]), range(cm.shape[1])):\n",
    "        plt.text(j, i, format(cm[i, j], fmt),\n",
    "                 horizontalalignment=\"center\",\n",
    "                 color=\"white\" if cm[i, j] > thresh else \"black\")\n",
    "\n",
    "    plt.ylabel('True label', fontsize=18)\n",
    "    plt.xlabel('Predicted label', fontsize=18)\n",
    "    plt.tight_layout()"
   ],
   "metadata": {
    "collapsed": false,
    "pycharm": {
     "name": "#%%\n"
    }
   }
  },
  {
   "cell_type": "code",
   "execution_count": 28,
   "outputs": [
    {
     "name": "stdout",
     "output_type": "stream",
     "text": [
      "Normalized confusion matrix\n",
      "[[0.65 0.   0.07 0.04 0.12 0.09 0.02]\n",
      " [0.22 0.67 0.   0.04 0.01 0.03 0.03]\n",
      " [0.13 0.   0.47 0.03 0.13 0.18 0.07]\n",
      " [0.02 0.   0.01 0.86 0.06 0.03 0.01]\n",
      " [0.08 0.   0.03 0.07 0.64 0.16 0.02]\n",
      " [0.1  0.   0.1  0.06 0.19 0.54 0.01]\n",
      " [0.03 0.   0.08 0.05 0.04 0.01 0.79]]\n"
     ]
    },
    {
     "data": {
      "text/plain": "<Figure size 1000x800 with 2 Axes>",
      "image/png": "[encoded data removed]"
     },
     "metadata": {},
     "output_type": "display_data"
    }
   ],
   "source": [
    "from sklearn.metrics import confusion_matrix\n",
    "class_names = ['Angry', 'Disgust', 'Fear', 'Happy', 'Sad', 'Surprise', 'Contempt']\n",
    "\n",
    "# Compute confusion matrix\n",
    "matrix = confusion_matrix(all_targets.data.cpu().numpy(), all_predicted.cpu().numpy())\n",
    "np.set_printoptions(precision=2)\n",
    "\n",
    "# Plot normalized confusion matrix\n",
    "plt.figure(figsize=(10, 8))\n",
    "plot_confusion_matrix(matrix, classes=class_names, normalize=True,\n",
    "                      title='Resnet 101 Confusion Matrix (Accuracy: %0.3f%%)' % best_Test_acc)\n",
    "plt.show()\n",
    "plt.savefig(os.path.join(opt[\"dataset\"] + '_' + opt[\"model\"], 'ResNet Confusion Matrix.png'))\n",
    "plt.close()"
   ],
   "metadata": {
    "collapsed": false,
    "pycharm": {
     "name": "#%%\n"
    }
   }
  },
  {
   "cell_type": "markdown",
   "source": [
    "# Resnet101 + SE Attention"
   ],
   "metadata": {
    "collapsed": false
   }
  },
  {
   "cell_type": "code",
   "execution_count": 15,
   "outputs": [
    {
     "name": "stdout",
     "output_type": "stream",
     "text": [
      "==> Building model..\n"
     ]
    }
   ],
   "source": [
    "from models import resnet101_SEAttention\n",
    "net = resnet101_SEAttention.resnet101_SE_attention(num_classes=7)\n",
    "\n",
    "if opt[\"resume\"]:\n",
    "    # Load checkpoint.\n",
    "    print('==> Resuming from checkpoint..')\n",
    "    assert os.path.isdir(path), 'Error: no checkpoint directory found!'\n",
    "    checkpoint = torch.load(os.path.join(path, 'Test_model.t7'))\n",
    "\n",
    "    net.load_state_dict(checkpoint['net'])\n",
    "    best_Test_acc = checkpoint['best_Test_acc']\n",
    "    best_Test_acc_epoch = checkpoint['best_Test_acc_epoch']\n",
    "    start_epoch = best_Test_acc_epoch + 1\n",
    "else:\n",
    "    print('==> Building model..')\n",
    "\n",
    "if use_cuda:\n",
    "    net.cuda()\n",
    "\n",
    "criterion = nn.CrossEntropyLoss()\n",
    "optimizer = optim.SGD(net.parameters(), lr=opt[\"lr\"], momentum=0.9, weight_decay=5e-4)\n",
    "\n"
   ],
   "metadata": {
    "collapsed": false,
    "pycharm": {
     "name": "#%%\n"
    }
   }
  },
  {
   "cell_type": "code",
   "execution_count": 16,
   "outputs": [
    {
     "name": "stdout",
     "output_type": "stream",
     "text": [
      "\n",
      "Epoch: 0\n",
      "learning_rate: 0.01\n"
     ]
    },
    {
     "name": "stderr",
     "output_type": "stream",
     "text": [
      "100%|██████████| 415/415 [00:17<00:00, 23.97it/s]\n",
      "15it [00:03,  4.46it/s]\n"
     ]
    },
    {
     "name": "stdout",
     "output_type": "stream",
     "text": [
      "Saving..\n",
      "best_Test_acc: 38.925\n",
      "\n",
      "Epoch: 1\n",
      "learning_rate: 0.01\n"
     ]
    },
    {
     "name": "stderr",
     "output_type": "stream",
     "text": [
      "100%|██████████| 415/415 [00:14<00:00, 28.16it/s]\n",
      "15it [00:03,  4.66it/s]\n"
     ]
    },
    {
     "name": "stdout",
     "output_type": "stream",
     "text": [
      "\n",
      "Epoch: 2\n",
      "learning_rate: 0.01\n"
     ]
    },
    {
     "name": "stderr",
     "output_type": "stream",
     "text": [
      "100%|██████████| 415/415 [00:14<00:00, 27.84it/s]\n",
      "15it [00:03,  4.61it/s]\n"
     ]
    },
    {
     "name": "stdout",
     "output_type": "stream",
     "text": [
      "Saving..\n",
      "best_Test_acc: 46.661\n",
      "\n",
      "Epoch: 3\n",
      "learning_rate: 0.01\n"
     ]
    },
    {
     "name": "stderr",
     "output_type": "stream",
     "text": [
      "100%|██████████| 415/415 [00:14<00:00, 27.69it/s]\n",
      "15it [00:03,  4.63it/s]\n"
     ]
    },
    {
     "name": "stdout",
     "output_type": "stream",
     "text": [
      "Saving..\n",
      "best_Test_acc: 53.393\n",
      "\n",
      "Epoch: 4\n",
      "learning_rate: 0.01\n"
     ]
    },
    {
     "name": "stderr",
     "output_type": "stream",
     "text": [
      "100%|██████████| 415/415 [00:14<00:00, 28.31it/s]\n",
      "15it [00:03,  4.63it/s]\n"
     ]
    },
    {
     "name": "stdout",
     "output_type": "stream",
     "text": [
      "\n",
      "Epoch: 5\n",
      "learning_rate: 0.01\n"
     ]
    },
    {
     "name": "stderr",
     "output_type": "stream",
     "text": [
      "100%|██████████| 415/415 [00:14<00:00, 28.37it/s]\n",
      "15it [00:03,  4.68it/s]\n"
     ]
    },
    {
     "name": "stdout",
     "output_type": "stream",
     "text": [
      "\n",
      "Epoch: 6\n",
      "learning_rate: 0.01\n"
     ]
    },
    {
     "name": "stderr",
     "output_type": "stream",
     "text": [
      "100%|██████████| 415/415 [00:14<00:00, 28.34it/s]\n",
      "15it [00:03,  4.64it/s]\n"
     ]
    },
    {
     "name": "stdout",
     "output_type": "stream",
     "text": [
      "Saving..\n",
      "best_Test_acc: 57.139\n",
      "\n",
      "Epoch: 7\n",
      "learning_rate: 0.01\n"
     ]
    },
    {
     "name": "stderr",
     "output_type": "stream",
     "text": [
      "100%|██████████| 415/415 [00:14<00:00, 28.34it/s]\n",
      "15it [00:03,  4.69it/s]\n"
     ]
    },
    {
     "name": "stdout",
     "output_type": "stream",
     "text": [
      "Saving..\n",
      "best_Test_acc: 58.008\n",
      "\n",
      "Epoch: 8\n",
      "learning_rate: 0.01\n"
     ]
    },
    {
     "name": "stderr",
     "output_type": "stream",
     "text": [
      "100%|██████████| 415/415 [00:14<00:00, 27.94it/s]\n",
      "15it [00:03,  4.70it/s]\n"
     ]
    },
    {
     "name": "stdout",
     "output_type": "stream",
     "text": [
      "Saving..\n",
      "best_Test_acc: 59.012\n",
      "\n",
      "Epoch: 9\n",
      "learning_rate: 0.01\n"
     ]
    },
    {
     "name": "stderr",
     "output_type": "stream",
     "text": [
      "100%|██████████| 415/415 [00:14<00:00, 28.25it/s]\n",
      "15it [00:03,  4.67it/s]\n"
     ]
    },
    {
     "name": "stdout",
     "output_type": "stream",
     "text": [
      "\n",
      "Epoch: 10\n",
      "learning_rate: 0.01\n"
     ]
    },
    {
     "name": "stderr",
     "output_type": "stream",
     "text": [
      "100%|██████████| 415/415 [00:14<00:00, 28.28it/s]\n",
      "15it [00:03,  4.69it/s]\n"
     ]
    },
    {
     "name": "stdout",
     "output_type": "stream",
     "text": [
      "\n",
      "Epoch: 11\n",
      "learning_rate: 0.01\n"
     ]
    },
    {
     "name": "stderr",
     "output_type": "stream",
     "text": [
      "100%|██████████| 415/415 [00:14<00:00, 28.29it/s]\n",
      "15it [00:03,  4.61it/s]\n"
     ]
    },
    {
     "name": "stdout",
     "output_type": "stream",
     "text": [
      "\n",
      "Epoch: 12\n",
      "learning_rate: 0.01\n"
     ]
    },
    {
     "name": "stderr",
     "output_type": "stream",
     "text": [
      "100%|██████████| 415/415 [00:14<00:00, 28.48it/s]\n",
      "15it [00:03,  4.66it/s]\n"
     ]
    },
    {
     "name": "stdout",
     "output_type": "stream",
     "text": [
      "Saving..\n",
      "best_Test_acc: 61.455\n",
      "\n",
      "Epoch: 13\n",
      "learning_rate: 0.01\n"
     ]
    },
    {
     "name": "stderr",
     "output_type": "stream",
     "text": [
      "100%|██████████| 415/415 [00:14<00:00, 28.49it/s]\n",
      "15it [00:03,  4.66it/s]\n"
     ]
    },
    {
     "name": "stdout",
     "output_type": "stream",
     "text": [
      "\n",
      "Epoch: 14\n",
      "learning_rate: 0.01\n"
     ]
    },
    {
     "name": "stderr",
     "output_type": "stream",
     "text": [
      "100%|██████████| 415/415 [00:14<00:00, 28.60it/s]\n",
      "15it [00:03,  4.71it/s]\n"
     ]
    },
    {
     "name": "stdout",
     "output_type": "stream",
     "text": [
      "\n",
      "Epoch: 15\n",
      "learning_rate: 0.01\n"
     ]
    },
    {
     "name": "stderr",
     "output_type": "stream",
     "text": [
      "100%|██████████| 415/415 [00:14<00:00, 28.60it/s]\n",
      "15it [00:03,  4.69it/s]\n"
     ]
    },
    {
     "name": "stdout",
     "output_type": "stream",
     "text": [
      "\n",
      "Epoch: 16\n",
      "learning_rate: 0.01\n"
     ]
    },
    {
     "name": "stderr",
     "output_type": "stream",
     "text": [
      "100%|██████████| 415/415 [00:14<00:00, 28.66it/s]\n",
      "15it [00:03,  4.71it/s]\n"
     ]
    },
    {
     "name": "stdout",
     "output_type": "stream",
     "text": [
      "Saving..\n",
      "best_Test_acc: 61.944\n",
      "\n",
      "Epoch: 17\n",
      "learning_rate: 0.01\n"
     ]
    },
    {
     "name": "stderr",
     "output_type": "stream",
     "text": [
      "100%|██████████| 415/415 [00:14<00:00, 27.85it/s]\n",
      "15it [00:03,  4.59it/s]\n"
     ]
    },
    {
     "name": "stdout",
     "output_type": "stream",
     "text": [
      "\n",
      "Epoch: 18\n",
      "learning_rate: 0.01\n"
     ]
    },
    {
     "name": "stderr",
     "output_type": "stream",
     "text": [
      "100%|██████████| 415/415 [00:14<00:00, 28.15it/s]\n",
      "15it [00:03,  4.64it/s]\n"
     ]
    },
    {
     "name": "stdout",
     "output_type": "stream",
     "text": [
      "\n",
      "Epoch: 19\n",
      "learning_rate: 0.01\n"
     ]
    },
    {
     "name": "stderr",
     "output_type": "stream",
     "text": [
      "100%|██████████| 415/415 [00:14<00:00, 28.27it/s]\n",
      "15it [00:03,  4.67it/s]\n"
     ]
    },
    {
     "name": "stdout",
     "output_type": "stream",
     "text": [
      "\n",
      "Epoch: 20\n",
      "learning_rate: 0.01\n"
     ]
    },
    {
     "name": "stderr",
     "output_type": "stream",
     "text": [
      "100%|██████████| 415/415 [00:15<00:00, 27.49it/s]\n",
      "15it [00:03,  4.64it/s]\n"
     ]
    },
    {
     "name": "stdout",
     "output_type": "stream",
     "text": [
      "Saving..\n",
      "best_Test_acc: 62.052\n",
      "\n",
      "Epoch: 21\n",
      "learning_rate: 0.008\n"
     ]
    },
    {
     "name": "stderr",
     "output_type": "stream",
     "text": [
      "100%|██████████| 415/415 [00:14<00:00, 28.40it/s]\n",
      "15it [00:03,  4.66it/s]\n"
     ]
    },
    {
     "name": "stdout",
     "output_type": "stream",
     "text": [
      "Saving..\n",
      "best_Test_acc: 63.436\n",
      "\n",
      "Epoch: 22\n",
      "learning_rate: 0.006400000000000001\n"
     ]
    },
    {
     "name": "stderr",
     "output_type": "stream",
     "text": [
      "100%|██████████| 415/415 [00:14<00:00, 28.34it/s]\n",
      "15it [00:03,  4.56it/s]\n"
     ]
    },
    {
     "name": "stdout",
     "output_type": "stream",
     "text": [
      "Saving..\n",
      "best_Test_acc: 64.549\n",
      "\n",
      "Epoch: 23\n",
      "learning_rate: 0.005120000000000001\n"
     ]
    },
    {
     "name": "stderr",
     "output_type": "stream",
     "text": [
      "100%|██████████| 415/415 [00:14<00:00, 28.24it/s]\n",
      "15it [00:03,  4.64it/s]\n"
     ]
    },
    {
     "name": "stdout",
     "output_type": "stream",
     "text": [
      "Saving..\n",
      "best_Test_acc: 65.065\n",
      "\n",
      "Epoch: 24\n",
      "learning_rate: 0.004096000000000001\n"
     ]
    },
    {
     "name": "stderr",
     "output_type": "stream",
     "text": [
      "100%|██████████| 415/415 [00:14<00:00, 28.08it/s]\n",
      "15it [00:03,  4.67it/s]\n"
     ]
    },
    {
     "name": "stdout",
     "output_type": "stream",
     "text": [
      "Saving..\n",
      "best_Test_acc: 66.042\n",
      "\n",
      "Epoch: 25\n",
      "learning_rate: 0.0032768000000000007\n"
     ]
    },
    {
     "name": "stderr",
     "output_type": "stream",
     "text": [
      "100%|██████████| 415/415 [00:14<00:00, 28.17it/s]\n",
      "15it [00:03,  4.64it/s]\n"
     ]
    },
    {
     "name": "stdout",
     "output_type": "stream",
     "text": [
      "\n",
      "Epoch: 26\n",
      "learning_rate: 0.002621440000000001\n"
     ]
    },
    {
     "name": "stderr",
     "output_type": "stream",
     "text": [
      "100%|██████████| 415/415 [00:14<00:00, 28.04it/s]\n",
      "15it [00:03,  4.66it/s]\n"
     ]
    },
    {
     "name": "stdout",
     "output_type": "stream",
     "text": [
      "\n",
      "Epoch: 27\n",
      "learning_rate: 0.002097152000000001\n"
     ]
    },
    {
     "name": "stderr",
     "output_type": "stream",
     "text": [
      "100%|██████████| 415/415 [00:14<00:00, 28.27it/s]\n",
      "15it [00:03,  4.63it/s]\n"
     ]
    },
    {
     "name": "stdout",
     "output_type": "stream",
     "text": [
      "\n",
      "Epoch: 28\n",
      "learning_rate: 0.001677721600000001\n"
     ]
    },
    {
     "name": "stderr",
     "output_type": "stream",
     "text": [
      "100%|██████████| 415/415 [00:14<00:00, 28.23it/s]\n",
      "15it [00:03,  4.70it/s]\n"
     ]
    },
    {
     "name": "stdout",
     "output_type": "stream",
     "text": [
      "\n",
      "Epoch: 29\n",
      "learning_rate: 0.0013421772800000006\n"
     ]
    },
    {
     "name": "stderr",
     "output_type": "stream",
     "text": [
      "100%|██████████| 415/415 [00:14<00:00, 28.34it/s]\n",
      "15it [00:03,  4.61it/s]\n"
     ]
    },
    {
     "name": "stdout",
     "output_type": "stream",
     "text": [
      "Saving..\n",
      "best_Test_acc: 66.748\n",
      "\n",
      "Epoch: 30\n",
      "learning_rate: 0.0010737418240000006\n"
     ]
    },
    {
     "name": "stderr",
     "output_type": "stream",
     "text": [
      "100%|██████████| 415/415 [00:14<00:00, 28.14it/s]\n",
      "15it [00:03,  4.62it/s]\n"
     ]
    },
    {
     "name": "stdout",
     "output_type": "stream",
     "text": [
      "Saving..\n",
      "best_Test_acc: 66.775\n",
      "\n",
      "Epoch: 31\n",
      "learning_rate: 0.0008589934592000006\n"
     ]
    },
    {
     "name": "stderr",
     "output_type": "stream",
     "text": [
      "100%|██████████| 415/415 [00:14<00:00, 28.22it/s]\n",
      "15it [00:03,  4.67it/s]\n"
     ]
    },
    {
     "name": "stdout",
     "output_type": "stream",
     "text": [
      "\n",
      "Epoch: 32\n",
      "learning_rate: 0.0006871947673600004\n"
     ]
    },
    {
     "name": "stderr",
     "output_type": "stream",
     "text": [
      "100%|██████████| 415/415 [00:14<00:00, 28.36it/s]\n",
      "15it [00:03,  4.56it/s]\n"
     ]
    },
    {
     "name": "stdout",
     "output_type": "stream",
     "text": [
      "\n",
      "Epoch: 33\n",
      "learning_rate: 0.0005497558138880004\n"
     ]
    },
    {
     "name": "stderr",
     "output_type": "stream",
     "text": [
      "100%|██████████| 415/415 [00:14<00:00, 28.18it/s]\n",
      "15it [00:03,  4.62it/s]\n"
     ]
    },
    {
     "name": "stdout",
     "output_type": "stream",
     "text": [
      "Saving..\n",
      "best_Test_acc: 67.291\n",
      "\n",
      "Epoch: 34\n",
      "learning_rate: 0.00043980465111040037\n"
     ]
    },
    {
     "name": "stderr",
     "output_type": "stream",
     "text": [
      "100%|██████████| 415/415 [00:14<00:00, 28.22it/s]\n",
      "15it [00:03,  4.60it/s]\n"
     ]
    },
    {
     "name": "stdout",
     "output_type": "stream",
     "text": [
      "\n",
      "Epoch: 35\n",
      "learning_rate: 0.0003518437208883203\n"
     ]
    },
    {
     "name": "stderr",
     "output_type": "stream",
     "text": [
      "100%|██████████| 415/415 [00:14<00:00, 28.03it/s]\n",
      "15it [00:03,  4.65it/s]\n"
     ]
    },
    {
     "name": "stdout",
     "output_type": "stream",
     "text": [
      "Saving..\n",
      "best_Test_acc: 67.508\n",
      "\n",
      "Epoch: 36\n",
      "learning_rate: 0.00028147497671065624\n"
     ]
    },
    {
     "name": "stderr",
     "output_type": "stream",
     "text": [
      "100%|██████████| 415/415 [00:14<00:00, 28.13it/s]\n",
      "15it [00:03,  4.62it/s]\n"
     ]
    },
    {
     "name": "stdout",
     "output_type": "stream",
     "text": [
      "\n",
      "Epoch: 37\n",
      "learning_rate: 0.00022517998136852504\n"
     ]
    },
    {
     "name": "stderr",
     "output_type": "stream",
     "text": [
      "100%|██████████| 415/415 [00:14<00:00, 28.15it/s]\n",
      "15it [00:03,  4.62it/s]\n"
     ]
    },
    {
     "name": "stdout",
     "output_type": "stream",
     "text": [
      "\n",
      "Epoch: 38\n",
      "learning_rate: 0.00018014398509482002\n"
     ]
    },
    {
     "name": "stderr",
     "output_type": "stream",
     "text": [
      "100%|██████████| 415/415 [00:14<00:00, 28.23it/s]\n",
      "15it [00:03,  4.61it/s]\n"
     ]
    },
    {
     "name": "stdout",
     "output_type": "stream",
     "text": [
      "\n",
      "Epoch: 39\n",
      "learning_rate: 0.00014411518807585602\n"
     ]
    },
    {
     "name": "stderr",
     "output_type": "stream",
     "text": [
      "100%|██████████| 415/415 [00:14<00:00, 28.09it/s]\n",
      "15it [00:03,  4.63it/s]\n"
     ]
    },
    {
     "name": "stdout",
     "output_type": "stream",
     "text": [
      "\n",
      "Epoch: 40\n",
      "learning_rate: 0.00011529215046068484\n"
     ]
    },
    {
     "name": "stderr",
     "output_type": "stream",
     "text": [
      "100%|██████████| 415/415 [00:14<00:00, 28.02it/s]\n",
      "15it [00:03,  4.60it/s]\n"
     ]
    },
    {
     "name": "stdout",
     "output_type": "stream",
     "text": [
      "\n",
      "Epoch: 41\n",
      "learning_rate: 9.223372036854788e-05\n"
     ]
    },
    {
     "name": "stderr",
     "output_type": "stream",
     "text": [
      "100%|██████████| 415/415 [00:14<00:00, 28.15it/s]\n",
      "15it [00:03,  4.62it/s]\n"
     ]
    },
    {
     "name": "stdout",
     "output_type": "stream",
     "text": [
      "\n",
      "Epoch: 42\n",
      "learning_rate: 7.37869762948383e-05\n"
     ]
    },
    {
     "name": "stderr",
     "output_type": "stream",
     "text": [
      "100%|██████████| 415/415 [00:14<00:00, 27.92it/s]\n",
      "15it [00:03,  4.58it/s]\n"
     ]
    },
    {
     "name": "stdout",
     "output_type": "stream",
     "text": [
      "\n",
      "Epoch: 43\n",
      "learning_rate: 5.902958103587064e-05\n"
     ]
    },
    {
     "name": "stderr",
     "output_type": "stream",
     "text": [
      "100%|██████████| 415/415 [00:14<00:00, 28.04it/s]\n",
      "15it [00:03,  4.65it/s]\n"
     ]
    },
    {
     "name": "stdout",
     "output_type": "stream",
     "text": [
      "\n",
      "Epoch: 44\n",
      "learning_rate: 4.722366482869652e-05\n"
     ]
    },
    {
     "name": "stderr",
     "output_type": "stream",
     "text": [
      "100%|██████████| 415/415 [00:14<00:00, 27.93it/s]\n",
      "15it [00:03,  4.63it/s]\n"
     ]
    },
    {
     "name": "stdout",
     "output_type": "stream",
     "text": [
      "\n",
      "Epoch: 45\n",
      "learning_rate: 3.777893186295722e-05\n"
     ]
    },
    {
     "name": "stderr",
     "output_type": "stream",
     "text": [
      "100%|██████████| 415/415 [00:14<00:00, 28.00it/s]\n",
      "15it [00:03,  4.65it/s]\n"
     ]
    },
    {
     "name": "stdout",
     "output_type": "stream",
     "text": [
      "\n",
      "Epoch: 46\n",
      "learning_rate: 3.0223145490365776e-05\n"
     ]
    },
    {
     "name": "stderr",
     "output_type": "stream",
     "text": [
      "100%|██████████| 415/415 [00:14<00:00, 27.72it/s]\n",
      "15it [00:03,  4.63it/s]\n"
     ]
    },
    {
     "name": "stdout",
     "output_type": "stream",
     "text": [
      "\n",
      "Epoch: 47\n",
      "learning_rate: 2.417851639229262e-05\n"
     ]
    },
    {
     "name": "stderr",
     "output_type": "stream",
     "text": [
      "100%|██████████| 415/415 [00:14<00:00, 28.21it/s]\n",
      "15it [00:03,  4.63it/s]\n"
     ]
    },
    {
     "name": "stdout",
     "output_type": "stream",
     "text": [
      "\n",
      "Epoch: 48\n",
      "learning_rate: 1.9342813113834096e-05\n"
     ]
    },
    {
     "name": "stderr",
     "output_type": "stream",
     "text": [
      "100%|██████████| 415/415 [00:14<00:00, 27.71it/s]\n",
      "15it [00:03,  4.50it/s]\n"
     ]
    },
    {
     "name": "stdout",
     "output_type": "stream",
     "text": [
      "\n",
      "Epoch: 49\n",
      "learning_rate: 1.547425049106728e-05\n"
     ]
    },
    {
     "name": "stderr",
     "output_type": "stream",
     "text": [
      "100%|██████████| 415/415 [00:14<00:00, 27.95it/s]\n",
      "15it [00:03,  4.50it/s]\n"
     ]
    },
    {
     "name": "stdout",
     "output_type": "stream",
     "text": [
      "\n",
      "Epoch: 50\n",
      "learning_rate: 1.2379400392853824e-05\n"
     ]
    },
    {
     "name": "stderr",
     "output_type": "stream",
     "text": [
      "100%|██████████| 415/415 [00:14<00:00, 27.89it/s]\n",
      "15it [00:03,  4.59it/s]\n"
     ]
    },
    {
     "name": "stdout",
     "output_type": "stream",
     "text": [
      "\n",
      "Epoch: 51\n",
      "learning_rate: 9.903520314283058e-06\n"
     ]
    },
    {
     "name": "stderr",
     "output_type": "stream",
     "text": [
      "100%|██████████| 415/415 [00:14<00:00, 28.04it/s]\n",
      "15it [00:03,  4.59it/s]\n"
     ]
    },
    {
     "name": "stdout",
     "output_type": "stream",
     "text": [
      "\n",
      "Epoch: 52\n",
      "learning_rate: 7.922816251426448e-06\n"
     ]
    },
    {
     "name": "stderr",
     "output_type": "stream",
     "text": [
      "100%|██████████| 415/415 [00:14<00:00, 27.84it/s]\n",
      "15it [00:03,  4.60it/s]\n"
     ]
    },
    {
     "name": "stdout",
     "output_type": "stream",
     "text": [
      "\n",
      "Epoch: 53\n",
      "learning_rate: 6.338253001141158e-06\n"
     ]
    },
    {
     "name": "stderr",
     "output_type": "stream",
     "text": [
      "100%|██████████| 415/415 [00:14<00:00, 28.14it/s]\n",
      "15it [00:03,  4.62it/s]\n"
     ]
    },
    {
     "name": "stdout",
     "output_type": "stream",
     "text": [
      "\n",
      "Epoch: 54\n",
      "learning_rate: 5.0706024009129275e-06\n"
     ]
    },
    {
     "name": "stderr",
     "output_type": "stream",
     "text": [
      "100%|██████████| 415/415 [00:14<00:00, 28.10it/s]\n",
      "15it [00:03,  4.65it/s]\n"
     ]
    },
    {
     "name": "stdout",
     "output_type": "stream",
     "text": [
      "\n",
      "Epoch: 55\n",
      "learning_rate: 4.056481920730342e-06\n"
     ]
    },
    {
     "name": "stderr",
     "output_type": "stream",
     "text": [
      "100%|██████████| 415/415 [00:14<00:00, 28.30it/s]\n",
      "15it [00:03,  4.60it/s]\n"
     ]
    },
    {
     "name": "stdout",
     "output_type": "stream",
     "text": [
      "\n",
      "Epoch: 56\n",
      "learning_rate: 3.2451855365842735e-06\n"
     ]
    },
    {
     "name": "stderr",
     "output_type": "stream",
     "text": [
      "100%|██████████| 415/415 [00:14<00:00, 28.17it/s]\n",
      "15it [00:03,  4.60it/s]\n"
     ]
    },
    {
     "name": "stdout",
     "output_type": "stream",
     "text": [
      "\n",
      "Epoch: 57\n",
      "learning_rate: 2.5961484292674196e-06\n"
     ]
    },
    {
     "name": "stderr",
     "output_type": "stream",
     "text": [
      "100%|██████████| 415/415 [00:14<00:00, 28.31it/s]\n",
      "15it [00:03,  4.67it/s]\n"
     ]
    },
    {
     "name": "stdout",
     "output_type": "stream",
     "text": [
      "\n",
      "Epoch: 58\n",
      "learning_rate: 2.0769187434139356e-06\n"
     ]
    },
    {
     "name": "stderr",
     "output_type": "stream",
     "text": [
      "100%|██████████| 415/415 [00:14<00:00, 28.21it/s]\n",
      "15it [00:03,  4.65it/s]\n"
     ]
    },
    {
     "name": "stdout",
     "output_type": "stream",
     "text": [
      "\n",
      "Epoch: 59\n",
      "learning_rate: 1.6615349947311485e-06\n"
     ]
    },
    {
     "name": "stderr",
     "output_type": "stream",
     "text": [
      "100%|██████████| 415/415 [00:14<00:00, 28.21it/s]\n",
      "15it [00:03,  4.59it/s]"
     ]
    },
    {
     "name": "stdout",
     "output_type": "stream",
     "text": [
      "best_Test_acc: 67.508\n",
      "best_Test_acc_epoch: 35\n"
     ]
    },
    {
     "name": "stderr",
     "output_type": "stream",
     "text": [
      "\n"
     ]
    }
   ],
   "source": [
    "all_predicted = None\n",
    "all_targets = None\n",
    "for epoch in range(start_epoch, total_epoch):\n",
    "    train(epoch)\n",
    "    all_predicted, all_targets = test(epoch, all_predicted, all_targets)\n",
    "    # print(all_predicted, all_targets)\n",
    "\n",
    "print(\"best_Test_acc: %0.3f\" % best_Test_acc)\n",
    "print(\"best_Test_acc_epoch: %d\" % best_Test_acc_epoch)\n"
   ],
   "metadata": {
    "collapsed": false,
    "pycharm": {
     "name": "#%%\n"
    }
   }
  },
  {
   "cell_type": "code",
   "execution_count": 14,
   "outputs": [],
   "source": [
    "import itertools\n",
    "from matplotlib import pyplot as plt\n",
    "\n",
    "\n",
    "def plot_confusion_matrix(cm, classes,\n",
    "                          normalize=False,\n",
    "                          title='Confusion matrix',\n",
    "                          cmap=plt.cm.Blues):\n",
    "    \"\"\"\n",
    "    This function prints and plots the confusion matrix.\n",
    "    Normalization can be applied by setting `normalize=True`.\n",
    "    \"\"\"\n",
    "\n",
    "    if normalize:\n",
    "        cm = cm.astype('float') / cm.sum(axis=1)[:, np.newaxis]\n",
    "        print(\"Normalized confusion matrix\")\n",
    "    else:\n",
    "        print('Confusion matrix, without normalization')\n",
    "\n",
    "    print(cm)\n",
    "\n",
    "    plt.imshow(cm, interpolation='nearest', cmap=cmap)\n",
    "    plt.title(title, fontsize=16)\n",
    "    plt.colorbar()\n",
    "    tick_marks = np.arange(len(classes))\n",
    "    plt.xticks(tick_marks, classes, rotation=45)\n",
    "    plt.yticks(tick_marks, classes)\n",
    "\n",
    "    fmt = '.2f' if normalize else 'd'\n",
    "    thresh = cm.max() / 2.\n",
    "    for i, j in itertools.product(range(cm.shape[0]), range(cm.shape[1])):\n",
    "        plt.text(j, i, format(cm[i, j], fmt),\n",
    "                 horizontalalignment=\"center\",\n",
    "                 color=\"white\" if cm[i, j] > thresh else \"black\")\n",
    "\n",
    "    plt.ylabel('True label', fontsize=18)\n",
    "    plt.xlabel('Predicted label', fontsize=18)\n",
    "    plt.tight_layout()"
   ],
   "metadata": {
    "collapsed": false,
    "pycharm": {
     "name": "#%%\n"
    }
   }
  },
  {
   "cell_type": "code",
   "execution_count": 18,
   "outputs": [
    {
     "name": "stdout",
     "output_type": "stream",
     "text": [
      "Normalized confusion matrix\n",
      "[[0.62 0.   0.08 0.04 0.11 0.12 0.02]\n",
      " [0.21 0.69 0.01 0.   0.01 0.07 0.  ]\n",
      " [0.12 0.   0.48 0.03 0.11 0.19 0.07]\n",
      " [0.02 0.   0.01 0.86 0.05 0.04 0.01]\n",
      " [0.08 0.   0.04 0.07 0.62 0.18 0.02]\n",
      " [0.11 0.   0.1  0.05 0.15 0.57 0.01]\n",
      " [0.02 0.   0.08 0.04 0.04 0.02 0.8 ]]\n"
     ]
    },
    {
     "data": {
      "text/plain": "<Figure size 1000x800 with 2 Axes>",
      "image/png": "[encoded data removed]"
     },
     "metadata": {},
     "output_type": "display_data"
    }
   ],
   "source": [
    "from sklearn.metrics import confusion_matrix\n",
    "class_names = ['Angry', 'Disgust', 'Fear', 'Happy', 'Sad', 'Surprise', 'Contempt']\n",
    "\n",
    "# Compute confusion matrix\n",
    "matrix = confusion_matrix(all_targets.data.cpu().numpy(), all_predicted.cpu().numpy())\n",
    "np.set_printoptions(precision=2)\n",
    "\n",
    "# Plot normalized confusion matrix\n",
    "plt.figure(figsize=(10, 8))\n",
    "plot_confusion_matrix(matrix, classes=class_names, normalize=True,\n",
    "                      title='ResNet101 with SEnet Confusion Matrix (Accuracy: %0.3f%%)' % best_Test_acc)\n",
    "plt.show()\n",
    "plt.savefig(os.path.join(opt[\"dataset\"] + '_' + opt[\"model\"], 'ResNet101 with SEnet Confusion Matrix.png'))\n",
    "plt.close()"
   ],
   "metadata": {
    "collapsed": false,
    "pycharm": {
     "name": "#%%\n"
    }
   }
  },
  {
   "cell_type": "markdown",
   "source": [
    "# 自注意力机制(transformer encode部分)"
   ],
   "metadata": {
    "collapsed": false
   }
  },
  {
   "cell_type": "code",
   "execution_count": 15,
   "outputs": [
    {
     "name": "stdout",
     "output_type": "stream",
     "text": [
      "==> Building model..\n"
     ]
    }
   ],
   "source": [
    "from models import resnet101_SelfAttention\n",
    "\n",
    "net = resnet101_SelfAttention.resnet101_self_attention(num_classes=7)\n",
    "\n",
    "if opt[\"resume\"]:\n",
    "    # Load checkpoint.\n",
    "    print('==> Resuming from checkpoint..')\n",
    "    assert os.path.isdir(path), 'Error: no checkpoint directory found!'\n",
    "    checkpoint = torch.load(os.path.join(path, 'Test_model.t7'))\n",
    "\n",
    "    net.load_state_dict(checkpoint['net'])\n",
    "    best_Test_acc = checkpoint['best_Test_acc']\n",
    "    best_Test_acc_epoch = checkpoint['best_Test_acc_epoch']\n",
    "    start_epoch = best_Test_acc_epoch + 1\n",
    "else:\n",
    "    print('==> Building model..')\n",
    "\n",
    "if use_cuda:\n",
    "    net.cuda()\n",
    "\n",
    "criterion = nn.CrossEntropyLoss()\n",
    "optimizer = optim.SGD(net.parameters(), lr=opt[\"lr\"], momentum=0.9, weight_decay=5e-4)\n"
   ],
   "metadata": {
    "collapsed": false,
    "pycharm": {
     "name": "#%%\n"
    }
   }
  },
  {
   "cell_type": "code",
   "execution_count": 16,
   "outputs": [
    {
     "name": "stdout",
     "output_type": "stream",
     "text": [
      "\n",
      "Epoch: 0\n",
      "learning_rate: 0.01\n"
     ]
    },
    {
     "name": "stderr",
     "output_type": "stream",
     "text": [
      "100%|██████████| 415/415 [00:22<00:00, 18.25it/s]\n",
      "15it [00:03,  3.97it/s]\n"
     ]
    },
    {
     "name": "stdout",
     "output_type": "stream",
     "text": [
      "Saving..\n",
      "best_Test_acc: 39.549\n",
      "\n",
      "Epoch: 1\n",
      "learning_rate: 0.01\n"
     ]
    },
    {
     "name": "stderr",
     "output_type": "stream",
     "text": [
      "100%|██████████| 415/415 [00:18<00:00, 22.07it/s]\n",
      "15it [00:03,  4.27it/s]\n"
     ]
    },
    {
     "name": "stdout",
     "output_type": "stream",
     "text": [
      "Saving..\n",
      "best_Test_acc: 41.341\n",
      "\n",
      "Epoch: 2\n",
      "learning_rate: 0.01\n"
     ]
    },
    {
     "name": "stderr",
     "output_type": "stream",
     "text": [
      "100%|██████████| 415/415 [00:18<00:00, 22.14it/s]\n",
      "15it [00:03,  4.27it/s]\n"
     ]
    },
    {
     "name": "stdout",
     "output_type": "stream",
     "text": [
      "Saving..\n",
      "best_Test_acc: 48.887\n",
      "\n",
      "Epoch: 3\n",
      "learning_rate: 0.01\n"
     ]
    },
    {
     "name": "stderr",
     "output_type": "stream",
     "text": [
      "100%|██████████| 415/415 [00:18<00:00, 22.11it/s]\n",
      "15it [00:03,  4.25it/s]\n"
     ]
    },
    {
     "name": "stdout",
     "output_type": "stream",
     "text": [
      "Saving..\n",
      "best_Test_acc: 49.077\n",
      "\n",
      "Epoch: 4\n",
      "learning_rate: 0.01\n"
     ]
    },
    {
     "name": "stderr",
     "output_type": "stream",
     "text": [
      "100%|██████████| 415/415 [00:19<00:00, 21.62it/s]\n",
      "15it [00:03,  4.24it/s]\n"
     ]
    },
    {
     "name": "stdout",
     "output_type": "stream",
     "text": [
      "\n",
      "Epoch: 5\n",
      "learning_rate: 0.01\n"
     ]
    },
    {
     "name": "stderr",
     "output_type": "stream",
     "text": [
      "100%|██████████| 415/415 [00:19<00:00, 21.73it/s]\n",
      "15it [00:03,  4.22it/s]\n"
     ]
    },
    {
     "name": "stdout",
     "output_type": "stream",
     "text": [
      "Saving..\n",
      "best_Test_acc: 54.343\n",
      "\n",
      "Epoch: 6\n",
      "learning_rate: 0.01\n"
     ]
    },
    {
     "name": "stderr",
     "output_type": "stream",
     "text": [
      "100%|██████████| 415/415 [00:19<00:00, 21.69it/s]\n",
      "15it [00:03,  4.24it/s]\n"
     ]
    },
    {
     "name": "stdout",
     "output_type": "stream",
     "text": [
      "Saving..\n",
      "best_Test_acc: 55.239\n",
      "\n",
      "Epoch: 7\n",
      "learning_rate: 0.01\n"
     ]
    },
    {
     "name": "stderr",
     "output_type": "stream",
     "text": [
      "100%|██████████| 415/415 [00:19<00:00, 21.54it/s]\n",
      "15it [00:03,  4.26it/s]\n"
     ]
    },
    {
     "name": "stdout",
     "output_type": "stream",
     "text": [
      "\n",
      "Epoch: 8\n",
      "learning_rate: 0.01\n"
     ]
    },
    {
     "name": "stderr",
     "output_type": "stream",
     "text": [
      "100%|██████████| 415/415 [00:19<00:00, 21.69it/s]\n",
      "15it [00:03,  4.23it/s]\n"
     ]
    },
    {
     "name": "stdout",
     "output_type": "stream",
     "text": [
      "Saving..\n",
      "best_Test_acc: 57.980\n",
      "\n",
      "Epoch: 9\n",
      "learning_rate: 0.01\n"
     ]
    },
    {
     "name": "stderr",
     "output_type": "stream",
     "text": [
      "100%|██████████| 415/415 [00:19<00:00, 21.71it/s]\n",
      "15it [00:03,  4.22it/s]\n"
     ]
    },
    {
     "name": "stdout",
     "output_type": "stream",
     "text": [
      "Saving..\n",
      "best_Test_acc: 58.306\n",
      "\n",
      "Epoch: 10\n",
      "learning_rate: 0.01\n"
     ]
    },
    {
     "name": "stderr",
     "output_type": "stream",
     "text": [
      "100%|██████████| 415/415 [00:18<00:00, 21.89it/s]\n",
      "15it [00:03,  4.27it/s]\n"
     ]
    },
    {
     "name": "stdout",
     "output_type": "stream",
     "text": [
      "\n",
      "Epoch: 11\n",
      "learning_rate: 0.01\n"
     ]
    },
    {
     "name": "stderr",
     "output_type": "stream",
     "text": [
      "100%|██████████| 415/415 [00:18<00:00, 22.18it/s]\n",
      "15it [00:03,  4.30it/s]\n"
     ]
    },
    {
     "name": "stdout",
     "output_type": "stream",
     "text": [
      "\n",
      "Epoch: 12\n",
      "learning_rate: 0.01\n"
     ]
    },
    {
     "name": "stderr",
     "output_type": "stream",
     "text": [
      "100%|██████████| 415/415 [00:18<00:00, 22.21it/s]\n",
      "15it [00:03,  4.30it/s]\n"
     ]
    },
    {
     "name": "stdout",
     "output_type": "stream",
     "text": [
      "Saving..\n",
      "best_Test_acc: 59.853\n",
      "\n",
      "Epoch: 13\n",
      "learning_rate: 0.01\n"
     ]
    },
    {
     "name": "stderr",
     "output_type": "stream",
     "text": [
      "100%|██████████| 415/415 [00:18<00:00, 22.10it/s]\n",
      "15it [00:03,  4.28it/s]\n"
     ]
    },
    {
     "name": "stdout",
     "output_type": "stream",
     "text": [
      "\n",
      "Epoch: 14\n",
      "learning_rate: 0.01\n"
     ]
    },
    {
     "name": "stderr",
     "output_type": "stream",
     "text": [
      "100%|██████████| 415/415 [00:18<00:00, 22.27it/s]\n",
      "15it [00:03,  4.25it/s]\n"
     ]
    },
    {
     "name": "stdout",
     "output_type": "stream",
     "text": [
      "\n",
      "Epoch: 15\n",
      "learning_rate: 0.01\n"
     ]
    },
    {
     "name": "stderr",
     "output_type": "stream",
     "text": [
      "100%|██████████| 415/415 [00:18<00:00, 22.17it/s]\n",
      "15it [00:03,  4.27it/s]\n"
     ]
    },
    {
     "name": "stdout",
     "output_type": "stream",
     "text": [
      "Saving..\n",
      "best_Test_acc: 60.858\n",
      "\n",
      "Epoch: 16\n",
      "learning_rate: 0.01\n"
     ]
    },
    {
     "name": "stderr",
     "output_type": "stream",
     "text": [
      "100%|██████████| 415/415 [00:18<00:00, 22.16it/s]\n",
      "15it [00:03,  4.31it/s]\n"
     ]
    },
    {
     "name": "stdout",
     "output_type": "stream",
     "text": [
      "\n",
      "Epoch: 17\n",
      "learning_rate: 0.01\n"
     ]
    },
    {
     "name": "stderr",
     "output_type": "stream",
     "text": [
      "100%|██████████| 415/415 [00:18<00:00, 22.31it/s]\n",
      "15it [00:03,  4.31it/s]\n"
     ]
    },
    {
     "name": "stdout",
     "output_type": "stream",
     "text": [
      "\n",
      "Epoch: 18\n",
      "learning_rate: 0.01\n"
     ]
    },
    {
     "name": "stderr",
     "output_type": "stream",
     "text": [
      "100%|██████████| 415/415 [00:18<00:00, 22.25it/s]\n",
      "15it [00:03,  4.27it/s]\n"
     ]
    },
    {
     "name": "stdout",
     "output_type": "stream",
     "text": [
      "Saving..\n",
      "best_Test_acc: 61.156\n",
      "\n",
      "Epoch: 19\n",
      "learning_rate: 0.01\n"
     ]
    },
    {
     "name": "stderr",
     "output_type": "stream",
     "text": [
      "100%|██████████| 415/415 [00:18<00:00, 22.25it/s]\n",
      "15it [00:03,  4.30it/s]\n"
     ]
    },
    {
     "name": "stdout",
     "output_type": "stream",
     "text": [
      "\n",
      "Epoch: 20\n",
      "learning_rate: 0.01\n"
     ]
    },
    {
     "name": "stderr",
     "output_type": "stream",
     "text": [
      "100%|██████████| 415/415 [00:19<00:00, 21.75it/s]\n",
      "15it [00:03,  4.31it/s]\n"
     ]
    },
    {
     "name": "stdout",
     "output_type": "stream",
     "text": [
      "Saving..\n",
      "best_Test_acc: 61.591\n",
      "\n",
      "Epoch: 21\n",
      "learning_rate: 0.008\n"
     ]
    },
    {
     "name": "stderr",
     "output_type": "stream",
     "text": [
      "100%|██████████| 415/415 [00:18<00:00, 22.26it/s]\n",
      "15it [00:03,  4.26it/s]\n"
     ]
    },
    {
     "name": "stdout",
     "output_type": "stream",
     "text": [
      "\n",
      "Epoch: 22\n",
      "learning_rate: 0.006400000000000001\n"
     ]
    },
    {
     "name": "stderr",
     "output_type": "stream",
     "text": [
      "100%|██████████| 415/415 [00:19<00:00, 21.79it/s]\n",
      "15it [00:03,  4.16it/s]\n"
     ]
    },
    {
     "name": "stdout",
     "output_type": "stream",
     "text": [
      "Saving..\n",
      "best_Test_acc: 64.061\n",
      "\n",
      "Epoch: 23\n",
      "learning_rate: 0.005120000000000001\n"
     ]
    },
    {
     "name": "stderr",
     "output_type": "stream",
     "text": [
      "100%|██████████| 415/415 [00:19<00:00, 21.68it/s]\n",
      "15it [00:03,  4.24it/s]\n"
     ]
    },
    {
     "name": "stdout",
     "output_type": "stream",
     "text": [
      "\n",
      "Epoch: 24\n",
      "learning_rate: 0.004096000000000001\n"
     ]
    },
    {
     "name": "stderr",
     "output_type": "stream",
     "text": [
      "100%|██████████| 415/415 [00:18<00:00, 22.03it/s]\n",
      "15it [00:03,  4.25it/s]\n"
     ]
    },
    {
     "name": "stdout",
     "output_type": "stream",
     "text": [
      "Saving..\n",
      "best_Test_acc: 64.549\n",
      "\n",
      "Epoch: 25\n",
      "learning_rate: 0.0032768000000000007\n"
     ]
    },
    {
     "name": "stderr",
     "output_type": "stream",
     "text": [
      "100%|██████████| 415/415 [00:18<00:00, 21.88it/s]\n",
      "15it [00:03,  4.21it/s]\n"
     ]
    },
    {
     "name": "stdout",
     "output_type": "stream",
     "text": [
      "Saving..\n",
      "best_Test_acc: 65.744\n",
      "\n",
      "Epoch: 26\n",
      "learning_rate: 0.002621440000000001\n"
     ]
    },
    {
     "name": "stderr",
     "output_type": "stream",
     "text": [
      "100%|██████████| 415/415 [00:18<00:00, 22.01it/s]\n",
      "15it [00:03,  4.25it/s]\n"
     ]
    },
    {
     "name": "stdout",
     "output_type": "stream",
     "text": [
      "\n",
      "Epoch: 27\n",
      "learning_rate: 0.002097152000000001\n"
     ]
    },
    {
     "name": "stderr",
     "output_type": "stream",
     "text": [
      "100%|██████████| 415/415 [00:18<00:00, 21.94it/s]\n",
      "15it [00:03,  4.26it/s]\n"
     ]
    },
    {
     "name": "stdout",
     "output_type": "stream",
     "text": [
      "\n",
      "Epoch: 28\n",
      "learning_rate: 0.001677721600000001\n"
     ]
    },
    {
     "name": "stderr",
     "output_type": "stream",
     "text": [
      "100%|██████████| 415/415 [00:19<00:00, 21.79it/s]\n",
      "15it [00:03,  4.21it/s]\n"
     ]
    },
    {
     "name": "stdout",
     "output_type": "stream",
     "text": [
      "\n",
      "Epoch: 29\n",
      "learning_rate: 0.0013421772800000006\n"
     ]
    },
    {
     "name": "stderr",
     "output_type": "stream",
     "text": [
      "100%|██████████| 415/415 [00:18<00:00, 21.93it/s]\n",
      "15it [00:03,  4.17it/s]\n"
     ]
    },
    {
     "name": "stdout",
     "output_type": "stream",
     "text": [
      "Saving..\n",
      "best_Test_acc: 66.612\n",
      "\n",
      "Epoch: 30\n",
      "learning_rate: 0.0010737418240000006\n"
     ]
    },
    {
     "name": "stderr",
     "output_type": "stream",
     "text": [
      "100%|██████████| 415/415 [00:18<00:00, 21.93it/s]\n",
      "15it [00:03,  4.24it/s]\n"
     ]
    },
    {
     "name": "stdout",
     "output_type": "stream",
     "text": [
      "\n",
      "Epoch: 31\n",
      "learning_rate: 0.0008589934592000006\n"
     ]
    },
    {
     "name": "stderr",
     "output_type": "stream",
     "text": [
      "100%|██████████| 415/415 [00:18<00:00, 21.91it/s]\n",
      "15it [00:03,  4.25it/s]\n"
     ]
    },
    {
     "name": "stdout",
     "output_type": "stream",
     "text": [
      "Saving..\n",
      "best_Test_acc: 66.775\n",
      "\n",
      "Epoch: 32\n",
      "learning_rate: 0.0006871947673600004\n"
     ]
    },
    {
     "name": "stderr",
     "output_type": "stream",
     "text": [
      "100%|██████████| 415/415 [00:19<00:00, 21.83it/s]\n",
      "15it [00:03,  4.23it/s]\n"
     ]
    },
    {
     "name": "stdout",
     "output_type": "stream",
     "text": [
      "Saving..\n",
      "best_Test_acc: 67.074\n",
      "\n",
      "Epoch: 33\n",
      "learning_rate: 0.0005497558138880004\n"
     ]
    },
    {
     "name": "stderr",
     "output_type": "stream",
     "text": [
      "100%|██████████| 415/415 [00:18<00:00, 22.00it/s]\n",
      "15it [00:03,  4.24it/s]\n"
     ]
    },
    {
     "name": "stdout",
     "output_type": "stream",
     "text": [
      "Saving..\n",
      "best_Test_acc: 67.454\n",
      "\n",
      "Epoch: 34\n",
      "learning_rate: 0.00043980465111040037\n"
     ]
    },
    {
     "name": "stderr",
     "output_type": "stream",
     "text": [
      "100%|██████████| 415/415 [00:18<00:00, 22.00it/s]\n",
      "15it [00:03,  4.25it/s]\n"
     ]
    },
    {
     "name": "stdout",
     "output_type": "stream",
     "text": [
      "\n",
      "Epoch: 35\n",
      "learning_rate: 0.0003518437208883203\n"
     ]
    },
    {
     "name": "stderr",
     "output_type": "stream",
     "text": [
      "100%|██████████| 415/415 [00:18<00:00, 22.05it/s]\n",
      "15it [00:03,  4.25it/s]\n"
     ]
    },
    {
     "name": "stdout",
     "output_type": "stream",
     "text": [
      "\n",
      "Epoch: 36\n",
      "learning_rate: 0.00028147497671065624\n"
     ]
    },
    {
     "name": "stderr",
     "output_type": "stream",
     "text": [
      "100%|██████████| 415/415 [00:18<00:00, 21.93it/s]\n",
      "15it [00:03,  4.25it/s]\n"
     ]
    },
    {
     "name": "stdout",
     "output_type": "stream",
     "text": [
      "Saving..\n",
      "best_Test_acc: 67.834\n",
      "\n",
      "Epoch: 37\n",
      "learning_rate: 0.00022517998136852504\n"
     ]
    },
    {
     "name": "stderr",
     "output_type": "stream",
     "text": [
      "100%|██████████| 415/415 [00:18<00:00, 22.01it/s]\n",
      "15it [00:03,  4.24it/s]\n"
     ]
    },
    {
     "name": "stdout",
     "output_type": "stream",
     "text": [
      "\n",
      "Epoch: 38\n",
      "learning_rate: 0.00018014398509482002\n"
     ]
    },
    {
     "name": "stderr",
     "output_type": "stream",
     "text": [
      "100%|██████████| 415/415 [00:18<00:00, 22.09it/s]\n",
      "15it [00:03,  4.22it/s]\n"
     ]
    },
    {
     "name": "stdout",
     "output_type": "stream",
     "text": [
      "\n",
      "Epoch: 39\n",
      "learning_rate: 0.00014411518807585602\n"
     ]
    },
    {
     "name": "stderr",
     "output_type": "stream",
     "text": [
      "100%|██████████| 415/415 [00:18<00:00, 22.10it/s]\n",
      "15it [00:03,  4.27it/s]\n"
     ]
    },
    {
     "name": "stdout",
     "output_type": "stream",
     "text": [
      "\n",
      "Epoch: 40\n",
      "learning_rate: 0.00011529215046068484\n"
     ]
    },
    {
     "name": "stderr",
     "output_type": "stream",
     "text": [
      "100%|██████████| 415/415 [00:19<00:00, 21.40it/s]\n",
      "15it [00:03,  4.23it/s]\n"
     ]
    },
    {
     "name": "stdout",
     "output_type": "stream",
     "text": [
      "\n",
      "Epoch: 41\n",
      "learning_rate: 9.223372036854788e-05\n"
     ]
    },
    {
     "name": "stderr",
     "output_type": "stream",
     "text": [
      "100%|██████████| 415/415 [00:18<00:00, 21.90it/s]\n",
      "15it [00:03,  4.21it/s]\n"
     ]
    },
    {
     "name": "stdout",
     "output_type": "stream",
     "text": [
      "\n",
      "Epoch: 42\n",
      "learning_rate: 7.37869762948383e-05\n"
     ]
    },
    {
     "name": "stderr",
     "output_type": "stream",
     "text": [
      "100%|██████████| 415/415 [00:19<00:00, 21.55it/s]\n",
      "15it [00:03,  4.26it/s]\n"
     ]
    },
    {
     "name": "stdout",
     "output_type": "stream",
     "text": [
      "\n",
      "Epoch: 43\n",
      "learning_rate: 5.902958103587064e-05\n"
     ]
    },
    {
     "name": "stderr",
     "output_type": "stream",
     "text": [
      "100%|██████████| 415/415 [00:18<00:00, 21.85it/s]\n",
      "15it [00:03,  4.21it/s]\n"
     ]
    },
    {
     "name": "stdout",
     "output_type": "stream",
     "text": [
      "\n",
      "Epoch: 44\n",
      "learning_rate: 4.722366482869652e-05\n"
     ]
    },
    {
     "name": "stderr",
     "output_type": "stream",
     "text": [
      "100%|██████████| 415/415 [00:18<00:00, 21.88it/s]\n",
      "15it [00:03,  4.21it/s]\n"
     ]
    },
    {
     "name": "stdout",
     "output_type": "stream",
     "text": [
      "\n",
      "Epoch: 45\n",
      "learning_rate: 3.777893186295722e-05\n"
     ]
    },
    {
     "name": "stderr",
     "output_type": "stream",
     "text": [
      "100%|██████████| 415/415 [00:18<00:00, 21.94it/s]\n",
      "15it [00:03,  4.27it/s]\n"
     ]
    },
    {
     "name": "stdout",
     "output_type": "stream",
     "text": [
      "Saving..\n",
      "best_Test_acc: 67.970\n",
      "\n",
      "Epoch: 46\n",
      "learning_rate: 3.0223145490365776e-05\n"
     ]
    },
    {
     "name": "stderr",
     "output_type": "stream",
     "text": [
      "100%|██████████| 415/415 [00:19<00:00, 21.82it/s]\n",
      "15it [00:03,  4.22it/s]\n"
     ]
    },
    {
     "name": "stdout",
     "output_type": "stream",
     "text": [
      "\n",
      "Epoch: 47\n",
      "learning_rate: 2.417851639229262e-05\n"
     ]
    },
    {
     "name": "stderr",
     "output_type": "stream",
     "text": [
      "100%|██████████| 415/415 [00:19<00:00, 21.12it/s]\n",
      "15it [00:03,  4.20it/s]\n"
     ]
    },
    {
     "name": "stdout",
     "output_type": "stream",
     "text": [
      "\n",
      "Epoch: 48\n",
      "learning_rate: 1.9342813113834096e-05\n"
     ]
    },
    {
     "name": "stderr",
     "output_type": "stream",
     "text": [
      "100%|██████████| 415/415 [00:18<00:00, 21.91it/s]\n",
      "15it [00:03,  4.22it/s]\n"
     ]
    },
    {
     "name": "stdout",
     "output_type": "stream",
     "text": [
      "\n",
      "Epoch: 49\n",
      "learning_rate: 1.547425049106728e-05\n"
     ]
    },
    {
     "name": "stderr",
     "output_type": "stream",
     "text": [
      "100%|██████████| 415/415 [00:19<00:00, 21.81it/s]\n",
      "15it [00:03,  4.23it/s]\n"
     ]
    },
    {
     "name": "stdout",
     "output_type": "stream",
     "text": [
      "Saving..\n",
      "best_Test_acc: 68.187\n",
      "\n",
      "Epoch: 50\n",
      "learning_rate: 1.2379400392853824e-05\n"
     ]
    },
    {
     "name": "stderr",
     "output_type": "stream",
     "text": [
      "100%|██████████| 415/415 [00:18<00:00, 21.87it/s]\n",
      "15it [00:03,  4.22it/s]\n"
     ]
    },
    {
     "name": "stdout",
     "output_type": "stream",
     "text": [
      "\n",
      "Epoch: 51\n",
      "learning_rate: 9.903520314283058e-06\n"
     ]
    },
    {
     "name": "stderr",
     "output_type": "stream",
     "text": [
      "100%|██████████| 415/415 [00:19<00:00, 21.77it/s]\n",
      "15it [00:03,  4.20it/s]\n"
     ]
    },
    {
     "name": "stdout",
     "output_type": "stream",
     "text": [
      "\n",
      "Epoch: 52\n",
      "learning_rate: 7.922816251426448e-06\n"
     ]
    },
    {
     "name": "stderr",
     "output_type": "stream",
     "text": [
      "100%|██████████| 415/415 [00:18<00:00, 21.96it/s]\n",
      "15it [00:03,  4.18it/s]\n"
     ]
    },
    {
     "name": "stdout",
     "output_type": "stream",
     "text": [
      "\n",
      "Epoch: 53\n",
      "learning_rate: 6.338253001141158e-06\n"
     ]
    },
    {
     "name": "stderr",
     "output_type": "stream",
     "text": [
      "100%|██████████| 415/415 [00:19<00:00, 21.82it/s]\n",
      "15it [00:03,  4.22it/s]\n"
     ]
    },
    {
     "name": "stdout",
     "output_type": "stream",
     "text": [
      "\n",
      "Epoch: 54\n",
      "learning_rate: 5.0706024009129275e-06\n"
     ]
    },
    {
     "name": "stderr",
     "output_type": "stream",
     "text": [
      "100%|██████████| 415/415 [00:19<00:00, 21.73it/s]\n",
      "15it [00:03,  4.28it/s]\n"
     ]
    },
    {
     "name": "stdout",
     "output_type": "stream",
     "text": [
      "\n",
      "Epoch: 55\n",
      "learning_rate: 4.056481920730342e-06\n"
     ]
    },
    {
     "name": "stderr",
     "output_type": "stream",
     "text": [
      "100%|██████████| 415/415 [00:18<00:00, 21.85it/s]\n",
      "15it [00:03,  4.22it/s]\n"
     ]
    },
    {
     "name": "stdout",
     "output_type": "stream",
     "text": [
      "\n",
      "Epoch: 56\n",
      "learning_rate: 3.2451855365842735e-06\n"
     ]
    },
    {
     "name": "stderr",
     "output_type": "stream",
     "text": [
      "100%|██████████| 415/415 [00:18<00:00, 21.98it/s]\n",
      "15it [00:03,  4.26it/s]\n"
     ]
    },
    {
     "name": "stdout",
     "output_type": "stream",
     "text": [
      "\n",
      "Epoch: 57\n",
      "learning_rate: 2.5961484292674196e-06\n"
     ]
    },
    {
     "name": "stderr",
     "output_type": "stream",
     "text": [
      "100%|██████████| 415/415 [00:18<00:00, 22.09it/s]\n",
      "15it [00:03,  4.21it/s]\n"
     ]
    },
    {
     "name": "stdout",
     "output_type": "stream",
     "text": [
      "\n",
      "Epoch: 58\n",
      "learning_rate: 2.0769187434139356e-06\n"
     ]
    },
    {
     "name": "stderr",
     "output_type": "stream",
     "text": [
      "100%|██████████| 415/415 [00:18<00:00, 21.99it/s]\n",
      "15it [00:03,  4.24it/s]\n"
     ]
    },
    {
     "name": "stdout",
     "output_type": "stream",
     "text": [
      "\n",
      "Epoch: 59\n",
      "learning_rate: 1.6615349947311485e-06\n"
     ]
    },
    {
     "name": "stderr",
     "output_type": "stream",
     "text": [
      "100%|██████████| 415/415 [00:18<00:00, 21.91it/s]\n",
      "15it [00:03,  4.26it/s]"
     ]
    },
    {
     "name": "stdout",
     "output_type": "stream",
     "text": [
      "best_Test_acc: 68.187\n",
      "best_Test_acc_epoch: 49\n"
     ]
    },
    {
     "name": "stderr",
     "output_type": "stream",
     "text": [
      "\n"
     ]
    }
   ],
   "source": [
    "all_predicted = None\n",
    "all_targets = None\n",
    "for epoch in range(start_epoch, total_epoch):\n",
    "    train(epoch)\n",
    "    all_predicted, all_targets = test(epoch, all_predicted, all_targets)\n",
    "    # print(all_predicted, all_targets)\n",
    "\n",
    "print(\"best_Test_acc: %0.3f\" % best_Test_acc)\n",
    "print(\"best_Test_acc_epoch: %d\" % best_Test_acc_epoch)"
   ],
   "metadata": {
    "collapsed": false,
    "pycharm": {
     "name": "#%%\n"
    }
   }
  },
  {
   "cell_type": "code",
   "execution_count": 17,
   "outputs": [
    {
     "name": "stdout",
     "output_type": "stream",
     "text": [
      "Normalized confusion matrix\n",
      "[[0.61 0.01 0.09 0.04 0.11 0.11 0.02]\n",
      " [0.18 0.67 0.07 0.01 0.01 0.03 0.03]\n",
      " [0.09 0.   0.52 0.03 0.11 0.18 0.06]\n",
      " [0.02 0.   0.02 0.87 0.05 0.03 0.01]\n",
      " [0.08 0.   0.06 0.07 0.62 0.16 0.02]\n",
      " [0.08 0.   0.13 0.05 0.14 0.59 0.01]\n",
      " [0.02 0.   0.08 0.04 0.04 0.01 0.79]]\n"
     ]
    },
    {
     "data": {
      "text/plain": "<Figure size 1000x800 with 2 Axes>",
      "image/png": "[encoded data removed]"
     },
     "metadata": {},
     "output_type": "display_data"
    }
   ],
   "source": [
    "from sklearn.metrics import confusion_matrix\n",
    "class_names = ['Angry', 'Disgust', 'Fear', 'Happy', 'Sad', 'Surprise', 'Contempt']\n",
    "\n",
    "# Compute confusion matrix\n",
    "matrix = confusion_matrix(all_targets.data.cpu().numpy(), all_predicted.cpu().numpy())\n",
    "np.set_printoptions(precision=2)\n",
    "\n",
    "# Plot normalized confusion matrix\n",
    "plt.figure(figsize=(10, 8))\n",
    "plot_confusion_matrix(matrix, classes=class_names, normalize=True,\n",
    "                      title='ResNet101 with SelfAttention Confusion Matrix (Accuracy: %0.3f%%)' % best_Test_acc)\n",
    "plt.show()\n",
    "plt.savefig(os.path.join(opt[\"dataset\"] + '_' + opt[\"model\"], 'ResNet101 with SelfAttention Confusion Matrix.png'))\n",
    "plt.close()"
   ],
   "metadata": {
    "collapsed": false,
    "pycharm": {
     "name": "#%%\n"
    }
   }
  },
  {
   "cell_type": "code",
   "execution_count": null,
   "outputs": [],
   "source": [],
   "metadata": {
    "collapsed": false,
    "pycharm": {
     "name": "#%%\n"
    }
   }
  }
 ],
 "metadata": {
  "kernelspec": {
   "display_name": "Python 3",
   "language": "python",
   "name": "python3"
  },
  "language_info": {
   "codemirror_mode": {
    "name": "ipython",
    "version": 2
   },
   "file_extension": ".py",
   "mimetype": "text/x-python",
   "name": "python",
   "nbconvert_exporter": "python",
   "pygments_lexer": "ipython2",
   "version": "2.7.6"
  }
 },
 "nbformat": 4,
 "nbformat_minor": 0
}